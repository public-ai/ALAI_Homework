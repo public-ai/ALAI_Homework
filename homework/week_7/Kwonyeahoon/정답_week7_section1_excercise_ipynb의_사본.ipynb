{
  "nbformat": 4,
  "nbformat_minor": 0,
  "metadata": {
    "colab": {
      "name": "정답_week7_section1_excercise.ipynb의 사본",
      "version": "0.3.2",
      "provenance": [],
      "collapsed_sections": []
    },
    "language_info": {
      "codemirror_mode": {
        "name": "ipython",
        "version": 3
      },
      "file_extension": ".py",
      "mimetype": "text/x-python",
      "name": "python",
      "nbconvert_exporter": "python",
      "pygments_lexer": "ipython3",
      "version": "3.6.5"
    },
    "kernelspec": {
      "display_name": "Python 3",
      "language": "python",
      "name": "python3"
    },
    "accelerator": "GPU"
  },
  "cells": [
    {
      "cell_type": "markdown",
      "metadata": {
        "colab_type": "text",
        "id": "V5DbTV6Y8_fm"
      },
      "source": [
        "# Section 2_Weight Initialization\n",
        "\n",
        "## Objective\n",
        "1. **weights 을 초기화 하는 방법에 대해 알아봅니다.**"
      ]
    },
    {
      "cell_type": "code",
      "metadata": {
        "id": "95D6TQgcIahb",
        "colab_type": "code",
        "colab": {}
      },
      "source": [
        "%matplotlib inline\n",
        "\n",
        "import matplotlib.pyplot as plt\n",
        "import numpy as np\n",
        "import numpy.random as npr\n",
        "\n",
        "npr.seed(0)"
      ],
      "execution_count": 0,
      "outputs": []
    },
    {
      "cell_type": "markdown",
      "metadata": {
        "colab_type": "text",
        "id": "b0Hku8a98_fo"
      },
      "source": [
        "## 문제 1.weights 초기값의 중요성 (1/2)\n",
        "\n",
        "\n",
        "$ z = xs \\cdot ws $ <br>\n",
        "$ a = sigmoid(z) $ <br> \n",
        "\n",
        "위 수식을 이용해 가중치가 표준정규 분포($N~(0,1)$)를 가질 때 <br>\n",
        "a에 대한 x의 편미분 **$\\frac{\\partial a }{\\partial x}$**의 분포가 어떻게 변화하는지 확인해 주세요. <br>"
      ]
    },
    {
      "cell_type": "code",
      "metadata": {
        "id": "-_oJm_MTIahj",
        "colab_type": "code",
        "colab": {}
      },
      "source": [
        "# 우선 실행해주세요\n",
        "npr.seed(0)\n",
        "xs = npr.normal(scale=1.0, size=[1,1000])\n",
        "ws = npr.normal(scale=1.0, size=[1000,1000])"
      ],
      "execution_count": 0,
      "outputs": []
    },
    {
      "cell_type": "markdown",
      "metadata": {
        "colab_type": "text",
        "id": "XZURk9HL8_fp"
      },
      "source": [
        "#### 답안지 입력란\n",
        "* 아래에 답을 서술하여 주세요\n",
        "* 정답은 `answer1`에 담아주세요."
      ]
    },
    {
      "cell_type": "code",
      "metadata": {
        "colab_type": "code",
        "id": "v99HFViiB0vG",
        "colab": {}
      },
      "source": [
        "# 정답을 입력해 주세요\n",
        "# a * (1-a) * ws\n",
        "z = xs * ws\n",
        "a = 1 / (1+np.exp(z))\n",
        "answer1 = a * (1 - a) * ws"
      ],
      "execution_count": 0,
      "outputs": []
    },
    {
      "cell_type": "markdown",
      "metadata": {
        "id": "NHq5PJBSIahr",
        "colab_type": "text"
      },
      "source": [
        "#### 정답 확인\n",
        "* 정답을 입력한 후, 아래를 실행시키면 정답인지 확인합니다.\n",
        "![Imgur](https://i.imgur.com/sKpii6T.png)"
      ]
    },
    {
      "cell_type": "code",
      "metadata": {
        "colab_type": "code",
        "id": "qZbsA-DtPfdx",
        "outputId": "67fe7964-ae88-4ffc-a424-daf7206ec48d",
        "colab": {
          "base_uri": "https://localhost:8080/",
          "height": 300
        }
      },
      "source": [
        "assert 'answer1' in globals(), \"answer1에 값을 담았는지 확인해주세요\"\n",
        "\n",
        "plt.title(\"Parital x Distribution\")\n",
        "plt.hist(answer1.ravel())\n",
        "plt.show()\n",
        "\n",
        "if np.std(answer1) <= 2.0:\n",
        "    print(\"정답입니다!!!!\")\n",
        "else:\n",
        "    raise ValueError(\"answer1의 표준편차가 2보다 작아야 합니다.\")"
      ],
      "execution_count": 0,
      "outputs": [
        {
          "output_type": "display_data",
          "data": {
            "image/png": "[encoded data removed]",
            "text/plain": [
              "<Figure size 432x288 with 1 Axes>"
            ]
          },
          "metadata": {
            "tags": []
          }
        },
        {
          "output_type": "stream",
          "text": [
            "정답입니다!!!!\n"
          ],
          "name": "stdout"
        }
      ]
    },
    {
      "cell_type": "markdown",
      "metadata": {
        "colab_type": "text",
        "id": "_xZDuRbf56hb"
      },
      "source": [
        "## 문제 2.weights 초기값의 중요성 (2/2)\n",
        "$ z = xs \\cdot ws $ <br>\n",
        "$ a = sigmoid(z) $ <br> \n",
        "\n",
        "위 수식을 이용해 가중치가 정규 분포($N(0,0.01)$)를 가질 때 <br>\n",
        "a에 대한 x의 편미분 **$\\frac{\\partial a }{\\partial x}$**의 분포가 어떻게 변화하는지 확인해 주세요. <br>\n",
        "\n",
        "c.f) Weight의 분산이 줄어들었을 때, 어떤식으로 바뀌는지 확인해주세요"
      ]
    },
    {
      "cell_type": "code",
      "metadata": {
        "id": "nmEpnS7QIah1",
        "colab_type": "code",
        "colab": {}
      },
      "source": [
        "# 우선 실행해주세요\n",
        "npr.seed(0) \n",
        "xs = npr.normal(scale=1, size=[1,1000])\n",
        "ws = npr.normal(scale=1e-2, size=[1000,1000])"
      ],
      "execution_count": 0,
      "outputs": []
    },
    {
      "cell_type": "markdown",
      "metadata": {
        "id": "aaA0vu_fIah4",
        "colab_type": "text"
      },
      "source": [
        "#### 답안지 입력란\n",
        "* 아래에 답을 서술하여 주세요\n",
        "* 정답은 `answer2`에 담아주세요."
      ]
    },
    {
      "cell_type": "code",
      "metadata": {
        "id": "RtLLQd--Iah5",
        "colab_type": "code",
        "colab": {}
      },
      "source": [
        "# 정답을 입력해 주세요\n",
        "z = xs * ws\n",
        "a = 1 / (1+np.exp(z))\n",
        "answer2 = a * (1 - a) * ws"
      ],
      "execution_count": 0,
      "outputs": []
    },
    {
      "cell_type": "markdown",
      "metadata": {
        "colab_type": "text",
        "id": "bWPl2E0X8_fs"
      },
      "source": [
        "#### 정답 확인\n",
        "* 정답을 입력한 후, 아래를 실행시키면 정답인지 확인합니다.\n",
        "\n",
        "![Imgur](https://i.imgur.com/pQb6AKs.png)"
      ]
    },
    {
      "cell_type": "code",
      "metadata": {
        "id": "O9at6O2nIah_",
        "colab_type": "code",
        "outputId": "3a9ef15b-aa95-4ae7-abd8-90074c005ad1",
        "colab": {
          "base_uri": "https://localhost:8080/",
          "height": 300
        }
      },
      "source": [
        "assert 'answer2' in globals(), \"answer2에 값을 담았는지 확인해주세요\"\n",
        "\n",
        "plt.title(\"Parital x Distribution\")\n",
        "plt.hist(answer2.flatten())\n",
        "plt.xlim(-1.,1.)\n",
        "plt.show()\n",
        "\n",
        "if np.std(answer2) <= 0.08:\n",
        "    print(\"정답입니다!!!!\")\n",
        "else:\n",
        "    raise ValueError(\"answer2의 표준편차가 0.08보다 작아야 합니다.\")"
      ],
      "execution_count": 0,
      "outputs": [
        {
          "output_type": "display_data",
          "data": {
            "image/png": "[encoded data removed]",
            "text/plain": [
              "<Figure size 432x288 with 1 Axes>"
            ]
          },
          "metadata": {
            "tags": []
          }
        },
        {
          "output_type": "stream",
          "text": [
            "정답입니다!!!!\n"
          ],
          "name": "stdout"
        }
      ]
    },
    {
      "cell_type": "markdown",
      "metadata": {
        "colab_type": "text",
        "id": "yogFnuTjfih7"
      },
      "source": [
        "## 문제 3. Xavier initializer 만들어 보기\n",
        "\n",
        "입력 layer 의 평균과 분산이 아래와 같고,<br> \n",
        "hidden layer의 activation function 이  **`sigmoid`** 라고 가정했을 때 <br> \n",
        "적절한 weights의 Scale을 결정해 주세요.\n",
        "\n",
        "c.f) Xavier Initializer는 입력의 분포와 출력의 분포가 비슷하도록 유지시켜 줍니다."
      ]
    },
    {
      "cell_type": "code",
      "metadata": {
        "id": "Gh0I-j90IaiH",
        "colab_type": "code",
        "colab": {}
      },
      "source": [
        "# 우선 실행해주세요.\n",
        "npr.seed(0)\n",
        "xs = npr.normal(scale=2.0,size=[1,1000])"
      ],
      "execution_count": 0,
      "outputs": []
    },
    {
      "cell_type": "markdown",
      "metadata": {
        "id": "W26crWu6IaiL",
        "colab_type": "text"
      },
      "source": [
        "#### 답안지 입력란\n",
        "* 아래에 답을 서술하여 주세요\n",
        "* 정답은 `answer3`에 담아주세요."
      ]
    },
    {
      "cell_type": "code",
      "metadata": {
        "colab_type": "code",
        "id": "nExZq0mxcsqB",
        "colab": {}
      },
      "source": [
        "#정답을 작성해주세요\n",
        "answer3 = np.sqrt(1/1000) # <-이 값을 적절한 값으로 바꾸어주세요\n",
        "ws = npr.normal(scale=answer3, size=[1000,1000])\n",
        "results = np.matmul(xs,ws)"
      ],
      "execution_count": 0,
      "outputs": []
    },
    {
      "cell_type": "markdown",
      "metadata": {
        "id": "NgUd9O_qIaiQ",
        "colab_type": "text"
      },
      "source": [
        "#### 정답 확인\n",
        "* 정답을 입력한 후, 아래를 실행시키면 정답인지 확인합니다.\n",
        "\n",
        "![Imgur](https://i.imgur.com/YJ3xTiy.png)"
      ]
    },
    {
      "cell_type": "code",
      "metadata": {
        "colab_type": "code",
        "id": "VcFYPoWLe4v7",
        "outputId": "ccf235d4-453e-4538-988b-6328464c29b5",
        "colab": {
          "base_uri": "https://localhost:8080/",
          "height": 246
        }
      },
      "source": [
        "assert 'answer3' in globals(), \"answer3에 값을 담았는지 확인해주세요\"\n",
        "ws = npr.normal(scale=answer3, size=[1000,1000])\n",
        "results = np.matmul(xs,ws)\n",
        "\n",
        "fig = plt.figure(figsize=(6,3))\n",
        "ax1, ax2 = fig.subplots(1,2)\n",
        "\n",
        "ax1.set_title(\"Input Distribution\")\n",
        "ax1.hist(xs.flatten())\n",
        "ax2.set_title(\"Output Distribution\")\n",
        "ax2.hist(results.flatten())\n",
        "plt.show()\n",
        "\n",
        "if np.abs(np.std(results)-2) <= 0.2:\n",
        "    print(\"정답입니다!!!!\")\n",
        "else:   \n",
        "    raise ValueError(\"초기 조건이 잘못 설정 되어 있습니다. 다시 확인해주세요\")"
      ],
      "execution_count": 0,
      "outputs": [
        {
          "output_type": "display_data",
          "data": {
            "image/png": "[encoded data removed]",
            "text/plain": [
              "<Figure size 432x216 with 2 Axes>"
            ]
          },
          "metadata": {
            "tags": []
          }
        },
        {
          "output_type": "stream",
          "text": [
            "정답입니다!!!!\n"
          ],
          "name": "stdout"
        }
      ]
    },
    {
      "cell_type": "markdown",
      "metadata": {
        "colab_type": "text",
        "id": "0MW1Of0sd6BC"
      },
      "source": [
        "## 문제 4.He initalizer 만들어 보기\n",
        "\n",
        "입력 layer 의 평균이 0.0 인 조건에서 <br> \n",
        "hidden layer 의 activation function 이  **`relu`** 라고 가졍했을 때 <br> \n",
        "적절한 weights 와 bias의 초기 조건을 입력해주세요.<br>\n",
        "\n",
        "\n",
        "\n"
      ]
    },
    {
      "cell_type": "code",
      "metadata": {
        "colab_type": "code",
        "id": "TBqn4ZX8g7NY",
        "colab": {}
      },
      "source": [
        "# 우선 실행해주세요.\n",
        "npr.seed(0)\n",
        "xs = npr.normal(scale = 2.0 , size=[1,1000])"
      ],
      "execution_count": 0,
      "outputs": []
    },
    {
      "cell_type": "markdown",
      "metadata": {
        "id": "alAFPHDQIaid",
        "colab_type": "text"
      },
      "source": [
        "#### 답안지 입력란\n",
        "* 아래에 답을 서술하여 주세요\n",
        "* 정답은 `answer4`에 담아주세요."
      ]
    },
    {
      "cell_type": "code",
      "metadata": {
        "id": "xwr7bJuPIaie",
        "colab_type": "code",
        "colab": {}
      },
      "source": [
        "#정답을 작성해주세요\n",
        "answer4 = np.sqrt(2/1000)# <-이 값을 적절한 값으로 바꾸어주세요\n",
        "\n",
        "ws = npr.normal(scale=answer4, size=[1000,1000])\n",
        "zs = np.matmul(xs,ws)\n",
        "results = np.maximum(zs,0)"
      ],
      "execution_count": 0,
      "outputs": []
    },
    {
      "cell_type": "markdown",
      "metadata": {
        "id": "IptWZlMQIaij",
        "colab_type": "text"
      },
      "source": [
        "#### 정답 확인\n",
        "* 정답을 입력한 후, 아래를 실행시키면 정답인지 확인합니다.\n",
        "\n",
        "![Imgur](https://i.imgur.com/JmivlmU.png)"
      ]
    },
    {
      "cell_type": "code",
      "metadata": {
        "colab_type": "code",
        "id": "1ySOQ32VhB_g",
        "outputId": "7e6336dc-8ec9-483f-8888-1fca4f410506",
        "colab": {
          "base_uri": "https://localhost:8080/",
          "height": 246
        }
      },
      "source": [
        "assert 'answer4' in globals(), \"answer4에 값을 담았는지 확인해주세요\"\n",
        "ws = npr.normal(scale=answer4, size=[1000,1000])\n",
        "zs = np.matmul(xs,ws)\n",
        "results = np.maximum(zs,0) # \n",
        "\n",
        "fig = plt.figure(figsize=(6,3))\n",
        "ax1, ax2 = fig.subplots(1,2)\n",
        "\n",
        "ax1.set_title(\"Input Distribution\")\n",
        "ax1.hist(xs.flatten())\n",
        "ax2.set_title(\"Output Distribution\")\n",
        "ax2.hist(results.flatten())\n",
        "plt.show()\n",
        "\n",
        "if np.abs(np.std(results)-2) <= 0.5:\n",
        "    print(\"정답입니다!!!!\")\n",
        "else:   \n",
        "    raise ValueError(\"초기 조건이 잘못 설정 되어 있습니다. 다시 확인해주세요\")"
      ],
      "execution_count": 0,
      "outputs": [
        {
          "output_type": "display_data",
          "data": {
            "image/png": "[encoded data removed]",
            "text/plain": [
              "<Figure size 432x216 with 2 Axes>"
            ]
          },
          "metadata": {
            "tags": []
          }
        },
        {
          "output_type": "stream",
          "text": [
            "정답입니다!!!!\n"
          ],
          "name": "stdout"
        }
      ]
    },
    {
      "cell_type": "markdown",
      "metadata": {
        "colab_type": "text",
        "id": "3IzIVKHoYgiV"
      },
      "source": [
        "#  \n",
        "\n",
        "<hr>\n",
        "<div style = \"background-image: url('https://algorithmai.io/static/media/logo.665798c4.png');background-repeat: no-repeat; background-position: right; background-size: 220px 40px; padding : 5px 10px 5px 5px;\">\n",
        "    Copyright(c) 2019 by Public AI. All rights reserved.<br>\n",
        "    Writen by PAI, SangJae Kang ( rocketgrowthsj@publicai.co.kr )  last updated on 2019/04/17\n",
        "</div>\n",
        "<hr>"
      ]
    }
  ]
}