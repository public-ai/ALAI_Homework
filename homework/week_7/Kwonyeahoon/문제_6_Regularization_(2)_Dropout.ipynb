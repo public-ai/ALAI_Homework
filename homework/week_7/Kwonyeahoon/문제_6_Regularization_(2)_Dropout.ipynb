{
  "nbformat": 4,
  "nbformat_minor": 0,
  "metadata": {
    "colab": {
      "name": "문제_6_Regularization (2) Dropout",
      "version": "0.3.2",
      "provenance": [],
      "collapsed_sections": []
    },
    "language_info": {
      "codemirror_mode": {
        "name": "ipython",
        "version": 3
      },
      "file_extension": ".py",
      "mimetype": "text/x-python",
      "name": "python",
      "nbconvert_exporter": "python",
      "pygments_lexer": "ipython3",
      "version": "3.6.6"
    },
    "kernelspec": {
      "display_name": "Python 3",
      "language": "python",
      "name": "python3"
    }
  },
  "cells": [
    {
      "cell_type": "markdown",
      "metadata": {
        "colab_type": "text",
        "id": "V5DbTV6Y8_fm"
      },
      "source": [
        "## 6 Regularization (2) Dropout"
      ]
    },
    {
      "cell_type": "code",
      "metadata": {
        "id": "eYXgYulfHh6W",
        "colab_type": "code",
        "colab": {}
      },
      "source": [
        "%matplotlib inline\n",
        "import numpy as np\n",
        "\n",
        "import tensorflow as tf\n",
        "import matplotlib.pyplot as plt\n",
        "import shutil\n",
        "import os\n",
        "import time\n",
        "from tqdm import tqdm"
      ],
      "execution_count": 0,
      "outputs": []
    },
    {
      "cell_type": "markdown",
      "metadata": {
        "id": "C2BxR3Y-Hh7K",
        "colab_type": "text"
      },
      "source": [
        "## 예제 데이터 ) 기술투자 비율과 예상 수익률 데이터 셋\n",
        "\n",
        "기술 투자 비율과 예상 수익률에 대한 데이터셋입니다. <br>\n",
        "아래와 같이 랜덤으로 50개의 데이터셋을 만들고, Test 데이터셋은 노이즈를 주지 않았습니다.<br>\n",
        "데이터에 노이즈가 많고, 수가 적을 때 일반적으로 Overfitting이 발생하기 쉽습니다."
      ]
    },
    {
      "cell_type": "code",
      "metadata": {
        "id": "4S_slYaoHh7S",
        "colab_type": "code",
        "colab": {
          "base_uri": "https://localhost:8080/",
          "height": 55
        },
        "outputId": "97aba1e7-e2da-4a59-f521-49925ec8705f"
      },
      "source": [
        "random_polynomial = lambda x : 3.5*x**3-4*x**2+x+0.5\n",
        "\n",
        "train_invests = np.random.uniform(0.05,0.9, 50)\n",
        "train_growths = np.array([random_polynomial(x)+np.random.normal(0,0.02) \n",
        "           for x in train_invests]) # 예상 수익률\n",
        "\n",
        "train_invests = train_invests.reshape(-1,1) \n",
        "train_growths = train_growths.reshape(-1,1) \n",
        "\n",
        "test_invests = np.linspace(0.05,0.9,30)\n",
        "test_growths = np.array([random_polynomial(x)\n",
        "                         for x in test_invests])\n",
        "\n",
        "test_invests = test_invests.reshape(-1,1)\n",
        "test_growths = test_growths.reshape(-1,1)\n",
        "\n",
        "print(\"train 데이터셋 크기 : {}\".format(len(train_invests)))\n",
        "print(\"test 데이터셋 크기 : {}\".format(len(test_invests)))"
      ],
      "execution_count": 5,
      "outputs": [
        {
          "output_type": "stream",
          "text": [
            "train 데이터셋 크기 : 50\n",
            "test 데이터셋 크기 : 30\n"
          ],
          "name": "stdout"
        }
      ]
    },
    {
      "cell_type": "code",
      "metadata": {
        "id": "uc-60nRVHh9N",
        "colab_type": "code",
        "colab": {
          "base_uri": "https://localhost:8080/",
          "height": 513
        },
        "outputId": "8f8a54c9-c80a-4343-8bb9-492f8635eb8a"
      },
      "source": [
        "plt.figure(figsize=(10,8))\n",
        "plt.scatter(train_invests, train_growths, s=3,label='train')\n",
        "plt.scatter(test_invests, test_growths, s=3,label='test')\n",
        "plt.title(\"R&D Investment ROI Plot\")\n",
        "plt.xlabel(\"R&D Investment Ratio\")\n",
        "plt.ylabel(\"growth ratio\")\n",
        "plt.legend()\n",
        "plt.show()"
      ],
      "execution_count": 6,
      "outputs": [
        {
          "output_type": "display_data",
          "data": {
            "image/png": "[encoded data removed]",
            "text/plain": [
              "<Figure size 720x576 with 1 Axes>"
            ]
          },
          "metadata": {
            "tags": []
          }
        }
      ]
    },
    {
      "cell_type": "markdown",
      "metadata": {
        "colab_type": "text",
        "id": "b0Hku8a98_fo"
      },
      "source": [
        "## 문제 1. low level API로 Dropout 구현하기.\n",
        "\n",
        "Tensorflow 을 이용해 Inverted Dropout 을 구현합니다.<br>\n",
        "아래 모델이 Dropout을 통해 올바르게 동작하도록 구현해주세요."
      ]
    },
    {
      "cell_type": "markdown",
      "metadata": {
        "colab_type": "text",
        "id": "XZURk9HL8_fp"
      },
      "source": [
        "#### 답안지 입력란\n",
        "* 아래에 답을 서술하여 주세요\n",
        "* `tf.layers.Dropout` 대신 dropout으로 동작하도록 구현해 주세요."
      ]
    },
    {
      "cell_type": "code",
      "metadata": {
        "id": "N9TRDRA3Hh-b",
        "colab_type": "code",
        "colab": {}
      },
      "source": [
        "def dropout(tensor, training, drop_ratio):\n",
        "    # FIX ME\n",
        "    if tf.equal(training, True) is True :\n",
        "        mask = np.random.binomial([np.ones(tf.shape(tensor))],\n",
        "                                  1-self.drop_ratio)[0]\n",
        "        mask_tensor = tf.constant(mask)\n",
        "        out = tf.multiply(tf.multiply(mask_tensor, tensor), 1.0/(1-drop_ratio))\n",
        "    else :\n",
        "        return tensor\n",
        "    \n",
        "    return out"
      ],
      "execution_count": 0,
      "outputs": []
    },
    {
      "cell_type": "markdown",
      "metadata": {
        "id": "rapetXJPHh-s",
        "colab_type": "text"
      },
      "source": [
        "#### 정답 확인\n",
        "* 아래를 실행시키면 위로 구현된 dropout을 통해 모델이 학습됩니다.\n",
        "* 모델이 안정적으로 학습되면 성공입니다."
      ]
    },
    {
      "cell_type": "code",
      "metadata": {
        "id": "aMG0up9GHh-u",
        "colab_type": "code",
        "colab": {
          "base_uri": "https://localhost:8080/",
          "height": 502
        },
        "outputId": "c5e93753-fdca-4236-a51f-39ff73e40fbc"
      },
      "source": [
        "print(\"모델 구축하기---\")\n",
        "graph = tf.Graph()\n",
        "with graph.as_default():\n",
        "    X = tf.placeholder(tf.float32, shape=(None,1),name='X')\n",
        "    y = tf.placeholder(tf.float32, shape=(None,1),name='y')\n",
        "    is_train = tf.placeholder_with_default(False, (),name='is_train')\n",
        "    \n",
        "    # Weight 초기화 함수\n",
        "    he_init = tf.initializers.he_normal()\n",
        "    xavier_init = tf.initializers.glorot_normal()\n",
        "    \n",
        "    # Graph 부분\n",
        "    hidden_1 = tf.layers.Dense(100,\n",
        "                               activation=tf.nn.relu,\n",
        "                               kernel_initializer=he_init,\n",
        "                               name=\"hidden_1\")(X)\n",
        "    dropout_1 = dropout(hidden_1,training=is_train,drop_ratio=0.4)\n",
        "    hidden_2 = tf.layers.Dense(100,\n",
        "                               activation=tf.nn.relu, \n",
        "                               kernel_initializer=he_init,\n",
        "                               name='hidden_2')(dropout_1)\n",
        "    dropout_2 = dropout(hidden_2,training=is_train,drop_ratio=0.4)\n",
        "    y_pred = tf.layers.Dense(1,\n",
        "                             kernel_initializer=xavier_init,\n",
        "                             name='output')(dropout_2)\n",
        "    \n",
        "    # 손실 함수\n",
        "    loss = tf.losses.mean_squared_error(y, y_pred)\n",
        "    \n",
        "    # training operation\n",
        "    train_op = (tf.train\n",
        "                .AdamOptimizer(learning_rate=0.01)\n",
        "                .minimize(loss))\n",
        "    \n",
        "# 모델 학습\n",
        "print(\"모델 학습하기---\")\n",
        "with tf.Session(graph=graph) as sess:\n",
        "    # 가중치 초기화\n",
        "    init = tf.global_variables_initializer()\n",
        "    sess.run(init)\n",
        "    \n",
        "    for epoch in tqdm(range(20000)):\n",
        "        sess.run(train_op,feed_dict={X:train_invests,\n",
        "                                     y:train_growths,\n",
        "                                     is_train: True})\n",
        "        \n",
        "    # 0부터 1까지 순서대로 1000개를 출력\n",
        "    test_xs = np.linspace(0.1,0.9,1000)\n",
        "    test_xs = test_xs.reshape(-1,1)\n",
        "    pred_ys = sess.run(y_pred, feed_dict={X:test_xs})    \n",
        "    \n",
        "print(\"모델 시각화하기---\")    \n",
        "plt.plot(test_invests, test_growths,label='test')\n",
        "plt.plot(test_xs,pred_ys,'r--',label='pred')\n",
        "plt.title(\"R&D Investment ROI Prediction Plot\")\n",
        "plt.xlabel(\"R&D Invesetment Ratio\")\n",
        "plt.ylabel(\"ROI\")\n",
        "plt.legend()\n",
        "plt.show()"
      ],
      "execution_count": 9,
      "outputs": [
        {
          "output_type": "stream",
          "text": [
            "모델 구축하기---\n",
            "WARNING:tensorflow:From /usr/local/lib/python3.6/dist-packages/tensorflow/python/framework/op_def_library.py:263: colocate_with (from tensorflow.python.framework.ops) is deprecated and will be removed in a future version.\n",
            "Instructions for updating:\n",
            "Colocations handled automatically by placer.\n",
            "WARNING:tensorflow:From /usr/local/lib/python3.6/dist-packages/tensorflow/python/ops/losses/losses_impl.py:667: to_float (from tensorflow.python.ops.math_ops) is deprecated and will be removed in a future version.\n",
            "Instructions for updating:\n",
            "Use tf.cast instead.\n",
            "모델 학습하기---\n"
          ],
          "name": "stdout"
        },
        {
          "output_type": "stream",
          "text": [
            "100%|██████████| 20000/20000 [00:17<00:00, 1121.81it/s]\n"
          ],
          "name": "stderr"
        },
        {
          "output_type": "stream",
          "text": [
            "모델 시각화하기---\n"
          ],
          "name": "stdout"
        },
        {
          "output_type": "display_data",
          "data": {
            "image/png": "[encoded data removed]",
            "text/plain": [
              "<Figure size 432x288 with 1 Axes>"
            ]
          },
          "metadata": {
            "tags": []
          }
        }
      ]
    },
    {
      "cell_type": "markdown",
      "metadata": {
        "colab_type": "text",
        "id": "3IzIVKHoYgiV"
      },
      "source": [
        "#  \n",
        "\n",
        "<hr>\n",
        "<div style = \"background-image: url('https://algorithmai.io/static/media/logo.665798c4.png');background-repeat: no-repeat; background-position: right; background-size: 220px 40px; padding : 5px 10px 5px 5px;\">\n",
        "    Copyright(c) 2019 by Public AI. All rights reserved.<br>\n",
        "    Writen by PAI, SangJae Kang ( rocketgrowthsj@publicai.co.kr )  last updated on 2019/04/17\n",
        "</div>\n",
        "<hr>"
      ]
    }
  ]
}