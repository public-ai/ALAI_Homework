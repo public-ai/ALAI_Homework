{
  "nbformat": 4,
  "nbformat_minor": 0,
  "metadata": {
    "colab": {
      "name": "7_BackPropagation_Implementation (3).ipynb",
      "version": "0.3.2",
      "provenance": [],
      "collapsed_sections": []
    },
    "language_info": {
      "codemirror_mode": {
        "name": "ipython",
        "version": 3
      },
      "file_extension": ".py",
      "mimetype": "text/x-python",
      "name": "python",
      "nbconvert_exporter": "python",
      "pygments_lexer": "ipython3",
      "version": "3.6.5"
    },
    "kernelspec": {
      "display_name": "Python 3",
      "language": "python",
      "name": "python3"
    }
  },
  "cells": [
    {
      "cell_type": "markdown",
      "metadata": {
        "id": "JwG_-CDD6l88",
        "colab_type": "text"
      },
      "source": [
        " ╔══<i><b>Alai-DeepLearning</b></i>════════════════════════════╗\n",
        "###  &nbsp;&nbsp; **✎&nbsp;&nbsp;Week 6. MLP Basis**\n",
        "# Section 7. BackPropagation Implementation\n",
        "\n",
        "### _Objective_\n",
        "1. Numpy를 통해, BackPropagation을 구현해 보도록 하겠습니다. <br>\n",
        "  \n",
        "╚═════════════════════════════════════════╝"
      ]
    },
    {
      "cell_type": "code",
      "metadata": {
        "id": "3QMTN3eF6l9A",
        "colab_type": "code",
        "colab": {}
      },
      "source": [
        "%matplotlib inline\n",
        "\n",
        "import numpy as np\n",
        "import pandas as pd\n",
        "\n",
        "import matplotlib.pyplot as plt"
      ],
      "execution_count": 0,
      "outputs": []
    },
    {
      "cell_type": "markdown",
      "metadata": {
        "id": "b2EnBX666l9F",
        "colab_type": "text"
      },
      "source": [
        "## 예제 데이터 ) 암 환자 데이터 셋"
      ]
    },
    {
      "cell_type": "code",
      "metadata": {
        "id": "y2MipFYG6l9H",
        "colab_type": "code",
        "outputId": "708839d1-a0fd-42c4-f295-8f0db302e439",
        "colab": {
          "base_uri": "https://localhost:8080/",
          "height": 212
        }
      },
      "source": [
        "!wget https://s3.ap-northeast-2.amazonaws.com/pai-datasets/alai-deeplearning/cancer_dataset.csv\n",
        "cancer_df = pd.read_csv('cancer_dataset.csv')"
      ],
      "execution_count": 26,
      "outputs": [
        {
          "output_type": "stream",
          "text": [
            "--2019-05-17 02:19:11--  https://s3.ap-northeast-2.amazonaws.com/pai-datasets/alai-deeplearning/cancer_dataset.csv\n",
            "Resolving s3.ap-northeast-2.amazonaws.com (s3.ap-northeast-2.amazonaws.com)... 52.219.56.41\n",
            "Connecting to s3.ap-northeast-2.amazonaws.com (s3.ap-northeast-2.amazonaws.com)|52.219.56.41|:443... connected.\n",
            "HTTP request sent, awaiting response... 200 OK\n",
            "Length: 2958 (2.9K) [text/csv]\n",
            "Saving to: ‘cancer_dataset.csv.1’\n",
            "\n",
            "\rcancer_dataset.csv.   0%[                    ]       0  --.-KB/s               \rcancer_dataset.csv. 100%[===================>]   2.89K  --.-KB/s    in 0s      \n",
            "\n",
            "2019-05-17 02:19:12 (126 MB/s) - ‘cancer_dataset.csv.1’ saved [2958/2958]\n",
            "\n"
          ],
          "name": "stdout"
        }
      ]
    },
    {
      "cell_type": "code",
      "metadata": {
        "id": "zE4TZFkP6l9O",
        "colab_type": "code",
        "outputId": "b5ebe201-6df8-489f-827e-05d069eb1008",
        "colab": {
          "base_uri": "https://localhost:8080/",
          "height": 177
        }
      },
      "source": [
        "cancer_df.describe()\n",
        "#cancer_df.sample(5)\n",
        "labels = cancer_df[\"label\"]\n",
        "xs = cancer_df.iloc[:,:-1]\n",
        "xs.sample(2)\n",
        "cancer_df.describe()\n",
        "cancer_df = (cancer_df - cancer_df.min()) / (cancer_df.max() - cancer_df.min())\n",
        "cancer_df.describe()\n",
        "xs = cancer_df.iloc[:,:-1]\n",
        "print(xs.describe())\n",
        "xs = xs.values\n",
        "#print(xs)\n",
        "#xs = np.array(xs)\n",
        "#print(xs.shape[0])\n",
        "#labels\n"
      ],
      "execution_count": 27,
      "outputs": [
        {
          "output_type": "stream",
          "text": [
            "              age  tumor_size\n",
            "count  100.000000  100.000000\n",
            "mean     0.405840    0.362107\n",
            "std      0.212474    0.215413\n",
            "min      0.000000    0.000000\n",
            "25%      0.245878    0.206939\n",
            "50%      0.365621    0.295774\n",
            "75%      0.535219    0.500765\n",
            "max      1.000000    1.000000\n"
          ],
          "name": "stdout"
        }
      ]
    },
    {
      "cell_type": "markdown",
      "metadata": {
        "id": "TLDt-hkF6l9T",
        "colab_type": "text"
      },
      "source": [
        "### 데이터 시각화"
      ]
    },
    {
      "cell_type": "code",
      "metadata": {
        "id": "Q-TaXzQ76l9U",
        "colab_type": "code",
        "outputId": "efc76fa5-2776-4f1d-e776-a2b42a2d40eb",
        "colab": {
          "base_uri": "https://localhost:8080/",
          "height": 458
        }
      },
      "source": [
        "fig = plt.figure(figsize=(7,7))\n",
        "ax = fig.add_subplot(1,1,1)\n",
        "\n",
        "# 0: 정상\n",
        "cancer_df[cancer_df.label==0].plot('age','tumor_size',ax=ax,legend=True,\n",
        "                                   kind='scatter',color='red')\n",
        "# 1: 암환자\n",
        "cancer_df[cancer_df.label==1].plot('age','tumor_size',ax=ax,legend=True,\n",
        "                                   kind='scatter',color='green')\n",
        "plt.legend(['Normal','Cancer'])\n",
        "plt.title(\"Cancer Or Not\")\n",
        "plt.show()"
      ],
      "execution_count": 28,
      "outputs": [
        {
          "output_type": "display_data",
          "data": {
            "image/png": "[encoded data removed]",
            "text/plain": [
              "<Figure size 504x504 with 1 Axes>"
            ]
          },
          "metadata": {
            "tags": []
          }
        }
      ]
    },
    {
      "cell_type": "markdown",
      "metadata": {
        "id": "0rqv7AvS6l9a",
        "colab_type": "text"
      },
      "source": [
        "<br><br>\n",
        "\n",
        "# \\[ 1. 2층 신경망 구현하기 \\]\n",
        "\n",
        "----\n",
        "\n",
        "----\n",
        "\n",
        "> *Chapter 3에서 구현하였던 2층짜리 신경망을 구현해 보도록 하겠습니다. *<br>\n"
      ]
    },
    {
      "cell_type": "markdown",
      "metadata": {
        "id": "Kzm5FNoG6l9b",
        "colab_type": "text"
      },
      "source": [
        "<br>\n",
        "\n",
        "## 1. Layer의 구조\n",
        "---\n",
        "* Layer은 크게 3가지로 나누어서 구현하겠습니다.\n",
        "\n",
        "    1. forward : 순전파 부분\n",
        "    2. backward : 역전파 부분\n",
        "    3. update : gradient Descent로 update해야 하는 부분\n"
      ]
    },
    {
      "cell_type": "markdown",
      "metadata": {
        "id": "FBA3fekf6l9c",
        "colab_type": "text"
      },
      "source": [
        "![Imgur](https://i.imgur.com/HXHigUH.png)"
      ]
    },
    {
      "cell_type": "code",
      "metadata": {
        "id": "AwGavAvr6l9d",
        "colab_type": "code",
        "colab": {}
      },
      "source": [
        "class Layer:\n",
        "    def forward(self, x):\n",
        "        \"\"\"\n",
        "        해당 Operation의 순전파를 계산\n",
        "        \"\"\"\n",
        "        raise NotImplementedError\n",
        "        \n",
        "    def backward(self, grad):\n",
        "        \"\"\"\n",
        "        해당 Operation의 역전파를 계산\n",
        "        \"\"\"\n",
        "        raise NotImplementedError\n",
        "        \n",
        "    def update(self, learning_rate):\n",
        "        \"\"\"\n",
        "        [optional]\n",
        "        해당 Layer에 Weight가 있다면,\n",
        "        w_old = w_new - learning_rate * dw\n",
        "        \"\"\"\n",
        "        pass"
      ],
      "execution_count": 0,
      "outputs": []
    },
    {
      "cell_type": "markdown",
      "metadata": {
        "id": "vkpKzCYk6l9h",
        "colab_type": "text"
      },
      "source": [
        "코드의 수식은 아래와 같습니다.\n",
        "\n",
        "$$\n",
        "z1 = X\\cdot W1 + b1 \\\\\n",
        "a1 = relu(z1)  \\\\\n",
        "z2 = a1 \\cdot W2 + b2  \\\\\n",
        "\\hat y = sigmoid(z2) \\\\\n",
        "CrossEntropy = -y_{true}log(y_{pred})+(1-y_{true})log(1-y_{pred})\n",
        "$$\n",
        "\n"
      ]
    },
    {
      "cell_type": "markdown",
      "metadata": {
        "id": "b2U_I7wj6l9i",
        "colab_type": "text"
      },
      "source": [
        "## 2. Layer 구현하기\n",
        "---\n"
      ]
    },
    {
      "cell_type": "markdown",
      "metadata": {
        "id": "QS73ROX36l9j",
        "colab_type": "text"
      },
      "source": [
        "### (1) Logit Layer 만들기"
      ]
    },
    {
      "cell_type": "code",
      "metadata": {
        "id": "1WTPiC1L6l9k",
        "colab_type": "code",
        "colab": {}
      },
      "source": [
        "class logit_layer(Layer) :\n",
        "    def __init__(self, w_size, b_size):\n",
        "        self.w = np.random.normal(loc= 0.0, scale=0.1, size = w_size)\n",
        "        self.b = np.zeros(shape = b_size)\n",
        "        self.b = np.reshape(self.b, (1,-1))\n",
        "        #print(\"w_shape : \", self.w.shape)\n",
        "         \n",
        "    def forward(self, x) :\n",
        "        self.x = x\n",
        "        #print(self.b.shape)\n",
        "        z = np.matmul(self.x, self.w) \n",
        "        z = z + self.b #dataframe에서 matmul axis issue, np.dot은 없음\n",
        "        return z\n",
        "    \n",
        "    def backward(self, grad) :\n",
        "        # dz/dw **\n",
        "        self.del_w = np.matmul(grad.T, self.x) #미리 식 세워놓음(=? Dynamic programing )    \n",
        "        # (2, d)*(d, 3)\n",
        "        self.del_b = np.mean(grad, axis =0)   #**  \n",
        "        \n",
        "        # dz/dx **\n",
        "        self.del_a = np.matmul(grad, self.w.T)\n",
        "        return self.del_a\n",
        "        \n",
        "    def update(self, learning_rate) :\n",
        "        #print(\"w.shape : {}, del_w.shape : {}\".format(self.w.shape, self.del_w.shape))\n",
        "        self.w = self.w - (learning_rate * self.del_w.T)\n",
        "        self.b = self.b - (learning_rate * self.del_b)\n",
        "        pass\n",
        "        \n",
        "        "
      ],
      "execution_count": 0,
      "outputs": []
    },
    {
      "cell_type": "markdown",
      "metadata": {
        "id": "6fzLUNKO6l9s",
        "colab_type": "text"
      },
      "source": [
        "### (2) Relu Layer 만들기"
      ]
    },
    {
      "cell_type": "code",
      "metadata": {
        "id": "mlarOtHK6l9t",
        "colab_type": "code",
        "colab": {}
      },
      "source": [
        "class relu_layer(Layer) :     \n",
        "    def forward(self, z) :\n",
        "        self.z = z\n",
        "        return np.maximum(self.z, 0)\n",
        "    def backward(self,grad) :\n",
        "        return grad * np.where(self.z > 0  , 1, 0)"
      ],
      "execution_count": 0,
      "outputs": []
    },
    {
      "cell_type": "markdown",
      "metadata": {
        "id": "4oRsQ5SE6l9y",
        "colab_type": "text"
      },
      "source": [
        "### (3) Sigmoid-With-Loss Layer 만들기"
      ]
    },
    {
      "cell_type": "code",
      "metadata": {
        "id": "3zJI56EU6l90",
        "colab_type": "code",
        "colab": {}
      },
      "source": [
        "class sigmoid_with_loss(Layer) :\n",
        "    def __init__(self, p) : \n",
        "        self.p = np.reshape(np.array(p), (-1,1)) #label\n",
        "\n",
        "    def forward(self, z): #z는 계산된값\n",
        "        self.z = z\n",
        "        #sig\n",
        "        self.q = 1/(1 + np.exp(-self.z))\n",
        "        #print(self.q.shape, \"label:\", self.p.shape)\n",
        "        #cee 계산\n",
        "        #print(\"q : {}\".format(self.q))\n",
        "        self.loss = -np.mean((self.p * np.log(self.q))+((1-self.p) * np.log(1-self.q)), axis = 0)\n",
        "        self.acc = np.mean(np.where(self.q > 0.5, 1., 0.), axis =0)\n",
        "        #print(self.q)\n",
        "        return self.loss, self.acc\n",
        "\n",
        "    def backward(self, grad) : #dL/dz = (y_h - y)\n",
        "        #sig with CEE의 loss 계산 **\n",
        "        self.del_loss = (self.q - self.p)\n",
        "        self.del_loss = self.del_loss #**\n",
        "        return self.del_loss\n"
      ],
      "execution_count": 0,
      "outputs": []
    },
    {
      "cell_type": "code",
      "metadata": {
        "id": "oiNh-jp50OXR",
        "colab_type": "code",
        "outputId": "29f4fbb8-2fd6-4b48-b344-1cdeb1fdd71f",
        "colab": {
          "base_uri": "https://localhost:8080/",
          "height": 35
        }
      },
      "source": [
        "xs.shape"
      ],
      "execution_count": 54,
      "outputs": [
        {
          "output_type": "execute_result",
          "data": {
            "text/plain": [
              "(100, 2)"
            ]
          },
          "metadata": {
            "tags": []
          },
          "execution_count": 54
        }
      ]
    },
    {
      "cell_type": "markdown",
      "metadata": {
        "id": "T6UhShTk6l94",
        "colab_type": "text"
      },
      "source": [
        "<br>\n",
        "\n",
        "## 3. Network 구현\n",
        "---\n"
      ]
    },
    {
      "cell_type": "code",
      "metadata": {
        "id": "S4B6wXl96l95",
        "colab_type": "code",
        "outputId": "d4ac4464-1591-4332-980a-abcb3e0e41e6",
        "colab": {
          "base_uri": "https://localhost:8080/",
          "height": 906
        }
      },
      "source": [
        "class Multi_Layer_NN :\n",
        "    def __init__(self):\n",
        "        #self.xs = 0\n",
        "        #self.labels = np.reshape(np.array(labels), (-1,1))\n",
        "        #self.loss_history = []\n",
        "        self.sig_with_loss =  sigmoid_with_loss(labels)\n",
        "        self.relu = relu_layer()\n",
        "        self.logit1 = logit_layer([xs.shape[1],50],50)\n",
        "        self.logit2 = logit_layer([50,1],1)\n",
        "        pass\n",
        "    \n",
        "    def forward(self,xs) :\n",
        "        xs_ = xs\n",
        "        xs_ = self.logit1.forward(xs_)\n",
        "        xs_ = self.relu.forward(xs_)\n",
        "        xs_ = self.logit2.forward(xs_)\n",
        "        loss, acc = self.sig_with_loss.forward(xs_)\n",
        "        return loss, acc, xs_\n",
        "    \n",
        "    def Train(self,learning_rate, num, xs):\n",
        "        xs__ = xs\n",
        "        learning_rate_ = learning_rate\n",
        "        num_ = num\n",
        "        for epoch in range(num_) :\n",
        "            loss_, acc_, xs__2 = self.forward(xs__)\n",
        "            if epoch % 100 == 0 :\n",
        "                print(\"epoch : {}, loss : {}, acc : {}\".format(epoch, loss_, acc_))\n",
        "            self.dL_dz2 = self.sig_with_loss.backward(1)\n",
        "            self.dL_dx2 = self.logit2.backward(self.dL_dz2)\n",
        "            self.dL_drelu1 = self.relu.backward(self.dL_dx2)\n",
        "            self.drelu_d = self.logit1.backward(self.dL_drelu1)\n",
        "            self.logit2.update(learning_rate=learning_rate_)\n",
        "            self.logit1.update(learning_rate=learning_rate_)\n",
        "        pass\n",
        "    \n",
        "    def predict(self, xs_test) :\n",
        "        self.xs_test = xs_test\n",
        "#         #self.label_test = label_test\n",
        "#         loss_p , acc_p, xs_2 =self.forward(self.xs_test)\n",
        "#         pred = 1/ (1 + np.exp(-xs_2))\n",
        "        xs_ = self.logit1.forward(self.xs_test)\n",
        "        xs_ = self.relu.forward(xs_)\n",
        "        xs_ = self.logit2.forward(xs_)\n",
        "        loss, acc = self.sig_with_loss.forward(xs_)\n",
        "        return loss, acc, xs_\n",
        "#        return pred\n",
        "\n",
        "Two = Multi_Layer_NN()\n",
        "\n",
        "Two.Train(0.00001, 5000, xs)"
      ],
      "execution_count": 55,
      "outputs": [
        {
          "output_type": "stream",
          "text": [
            "epoch : 0, loss : [0.69665354], acc : [0.27]\n",
            "epoch : 100, loss : [0.69642256], acc : [0.28]\n",
            "epoch : 200, loss : [0.69619443], acc : [0.3]\n",
            "epoch : 300, loss : [0.69596994], acc : [0.34]\n",
            "epoch : 400, loss : [0.69575067], acc : [0.36]\n",
            "epoch : 500, loss : [0.69553701], acc : [0.37]\n",
            "epoch : 600, loss : [0.69532472], acc : [0.44]\n",
            "epoch : 700, loss : [0.69511371], acc : [0.46]\n",
            "epoch : 800, loss : [0.69490436], acc : [0.49]\n",
            "epoch : 900, loss : [0.69469575], acc : [0.53]\n",
            "epoch : 1000, loss : [0.69449032], acc : [0.61]\n",
            "epoch : 1100, loss : [0.69428718], acc : [0.64]\n",
            "epoch : 1200, loss : [0.69408459], acc : [0.67]\n",
            "epoch : 1300, loss : [0.69388284], acc : [0.69]\n",
            "epoch : 1400, loss : [0.69368249], acc : [0.73]\n",
            "epoch : 1500, loss : [0.69348524], acc : [0.75]\n",
            "epoch : 1600, loss : [0.69328819], acc : [0.78]\n",
            "epoch : 1700, loss : [0.69309184], acc : [0.8]\n",
            "epoch : 1800, loss : [0.69289615], acc : [0.82]\n",
            "epoch : 1900, loss : [0.69270087], acc : [0.83]\n",
            "epoch : 2000, loss : [0.69250769], acc : [0.86]\n",
            "epoch : 2100, loss : [0.69231478], acc : [0.86]\n",
            "epoch : 2200, loss : [0.69212218], acc : [0.87]\n",
            "epoch : 2300, loss : [0.69192953], acc : [0.9]\n",
            "epoch : 2400, loss : [0.69173757], acc : [0.9]\n",
            "epoch : 2500, loss : [0.69154625], acc : [0.91]\n",
            "epoch : 2600, loss : [0.69135698], acc : [0.93]\n",
            "epoch : 2700, loss : [0.69117082], acc : [0.94]\n",
            "epoch : 2800, loss : [0.69098564], acc : [0.94]\n",
            "epoch : 2900, loss : [0.69080019], acc : [0.94]\n",
            "epoch : 3000, loss : [0.69061412], acc : [0.94]\n",
            "epoch : 3100, loss : [0.69042794], acc : [0.95]\n",
            "epoch : 3200, loss : [0.69024133], acc : [0.96]\n",
            "epoch : 3300, loss : [0.69005489], acc : [0.96]\n",
            "epoch : 3400, loss : [0.6898672], acc : [0.96]\n",
            "epoch : 3500, loss : [0.68967871], acc : [0.96]\n",
            "epoch : 3600, loss : [0.68948988], acc : [0.97]\n",
            "epoch : 3700, loss : [0.6893006], acc : [0.97]\n",
            "epoch : 3800, loss : [0.68911169], acc : [0.97]\n",
            "epoch : 3900, loss : [0.68892413], acc : [0.97]\n",
            "epoch : 4000, loss : [0.68873688], acc : [0.98]\n",
            "epoch : 4100, loss : [0.68855234], acc : [0.98]\n",
            "epoch : 4200, loss : [0.68836848], acc : [0.98]\n",
            "epoch : 4300, loss : [0.68818399], acc : [0.98]\n",
            "epoch : 4400, loss : [0.68800425], acc : [0.98]\n",
            "epoch : 4500, loss : [0.68782687], acc : [0.98]\n",
            "epoch : 4600, loss : [0.6876494], acc : [0.98]\n",
            "epoch : 4700, loss : [0.68747184], acc : [0.99]\n",
            "epoch : 4800, loss : [0.68729382], acc : [0.99]\n",
            "epoch : 4900, loss : [0.68711618], acc : [0.99]\n"
          ],
          "name": "stdout"
        }
      ]
    },
    {
      "cell_type": "code",
      "metadata": {
        "id": "LC3GWlRFvquK",
        "colab_type": "code",
        "colab": {
          "base_uri": "https://localhost:8080/",
          "height": 35
        },
        "outputId": "a3d4fcf2-0596-4814-adc3-37edd1d72723"
      },
      "source": [
        "_1, _2 ,_3 = Two.predict(xs)\n",
        "print(\"acc : {}\".format(_2))"
      ],
      "execution_count": 60,
      "outputs": [
        {
          "output_type": "stream",
          "text": [
            "acc : [0.99]\n"
          ],
          "name": "stdout"
        }
      ]
    },
    {
      "cell_type": "markdown",
      "metadata": {
        "id": "QUYIz81r6l98",
        "colab_type": "text"
      },
      "source": [
        "<br><br>\n",
        "\n",
        "# \\[ 2. 2층 신경망 학습시키기 \\]\n",
        "\n",
        "----\n",
        "\n",
        "----\n",
        "\n",
        "> *구현한 신경망을 학습시켜 결과를 반환해보도록 하겠습니다.*<br>\n"
      ]
    },
    {
      "cell_type": "markdown",
      "metadata": {
        "id": "-F5_P-SQ6l99",
        "colab_type": "text"
      },
      "source": [
        "### (1) 모델 불어오기"
      ]
    },
    {
      "cell_type": "code",
      "metadata": {
        "id": "yVwIXB516l9-",
        "colab_type": "code",
        "colab": {}
      },
      "source": [
        ""
      ],
      "execution_count": 0,
      "outputs": []
    },
    {
      "cell_type": "markdown",
      "metadata": {
        "id": "uoCzDfLC6l-C",
        "colab_type": "text"
      },
      "source": [
        "### (2) 데이터 불러오기"
      ]
    },
    {
      "cell_type": "code",
      "metadata": {
        "id": "2MjIoUsZ6l-D",
        "colab_type": "code",
        "colab": {}
      },
      "source": [
        ""
      ],
      "execution_count": 0,
      "outputs": []
    },
    {
      "cell_type": "markdown",
      "metadata": {
        "id": "GGEqA4Fa6l-H",
        "colab_type": "text"
      },
      "source": [
        "### (3) 모델 학습하기"
      ]
    },
    {
      "cell_type": "code",
      "metadata": {
        "id": "520SRuaF6l-I",
        "colab_type": "code",
        "colab": {}
      },
      "source": [
        ""
      ],
      "execution_count": 0,
      "outputs": []
    },
    {
      "cell_type": "code",
      "metadata": {
        "id": "rkU3fo6l6l-N",
        "colab_type": "code",
        "outputId": "b016d194-6500-44a1-b446-1319fd230c7c",
        "colab": {
          "base_uri": "https://localhost:8080/",
          "height": 281
        }
      },
      "source": [
        "plt.title(\"Loss Function\")\n",
        "plt.plot(loss_history)\n",
        "plt.show()"
      ],
      "execution_count": 0,
      "outputs": [
        {
          "output_type": "display_data",
          "data": {
            "image/png": "[encoded data removed]",
            "text/plain": [
              "<Figure size 432x288 with 1 Axes>"
            ]
          },
          "metadata": {
            "tags": []
          }
        }
      ]
    },
    {
      "cell_type": "markdown",
      "metadata": {
        "id": "u-FZddzy6l-T",
        "colab_type": "text"
      },
      "source": [
        "### (4) 결과 확인하기"
      ]
    },
    {
      "cell_type": "code",
      "metadata": {
        "id": "55gzLFXS6l-V",
        "colab_type": "code",
        "outputId": "f72434f5-6d1a-4b2f-b759-5a21f028742c",
        "colab": {
          "base_uri": "https://localhost:8080/",
          "height": 424
        }
      },
      "source": [
        "x1s,x2s = np.mgrid[0:1:0.01,0:1:0.01]\n",
        "xs2 = np.stack([x1s.ravel(),x2s.ravel()],axis=1)\n",
        "\n",
        "results = Two.predict(xs2)\n",
        "\n",
        "colors = []\n",
        "for result in results.ravel():\n",
        "    if result > 0.5:\n",
        "        colors.append('g')\n",
        "    else:\n",
        "        colors.append('r')\n",
        "        \n",
        "fig = plt.figure(figsize=(7,7))\n",
        "ax = fig.add_subplot(1,1,1)\n",
        "ax.scatter(xs2[:,0],xs2[:,1],c=colors,alpha=0.1)\n",
        "\n",
        "# 0: 정상\n",
        "cancer_df[cancer_df.label==0].plot('age','tumor_size',ax=ax,legend=True,\n",
        "                                   kind='scatter',color='red')\n",
        "# 1: 암환자\n",
        "cancer_df[cancer_df.label==1].plot('age','tumor_size',ax=ax,legend=True,\n",
        "                                   kind='scatter',color='green')\n",
        "plt.legend([\"decision\",'Normal','Cancer'])\n",
        "plt.title(\"Cancer Or Not\")\n",
        "plt.show()"
      ],
      "execution_count": 0,
      "outputs": [
        {
          "output_type": "stream",
          "text": [
            "(100, 10)\n"
          ],
          "name": "stdout"
        },
        {
          "output_type": "error",
          "ename": "ValueError",
          "evalue": "ignored",
          "traceback": [
            "\u001b[0;31m---------------------------------------------------------------------------\u001b[0m",
            "\u001b[0;31mValueError\u001b[0m                                Traceback (most recent call last)",
            "\u001b[0;32m<ipython-input-135-f35e188d3996>\u001b[0m in \u001b[0;36m<module>\u001b[0;34m()\u001b[0m\n\u001b[1;32m      2\u001b[0m \u001b[0mxs2\u001b[0m \u001b[0;34m=\u001b[0m \u001b[0mnp\u001b[0m\u001b[0;34m.\u001b[0m\u001b[0mstack\u001b[0m\u001b[0;34m(\u001b[0m\u001b[0;34m[\u001b[0m\u001b[0mx1s\u001b[0m\u001b[0;34m.\u001b[0m\u001b[0mravel\u001b[0m\u001b[0;34m(\u001b[0m\u001b[0;34m)\u001b[0m\u001b[0;34m,\u001b[0m\u001b[0mx2s\u001b[0m\u001b[0;34m.\u001b[0m\u001b[0mravel\u001b[0m\u001b[0;34m(\u001b[0m\u001b[0;34m)\u001b[0m\u001b[0;34m]\u001b[0m\u001b[0;34m,\u001b[0m\u001b[0maxis\u001b[0m\u001b[0;34m=\u001b[0m\u001b[0;36m1\u001b[0m\u001b[0;34m)\u001b[0m\u001b[0;34m\u001b[0m\u001b[0;34m\u001b[0m\u001b[0m\n\u001b[1;32m      3\u001b[0m \u001b[0;34m\u001b[0m\u001b[0m\n\u001b[0;32m----> 4\u001b[0;31m \u001b[0mresults\u001b[0m \u001b[0;34m=\u001b[0m \u001b[0mTwo\u001b[0m\u001b[0;34m.\u001b[0m\u001b[0mpredict\u001b[0m\u001b[0;34m(\u001b[0m\u001b[0mxs2\u001b[0m\u001b[0;34m)\u001b[0m\u001b[0;34m\u001b[0m\u001b[0;34m\u001b[0m\u001b[0m\n\u001b[0m\u001b[1;32m      5\u001b[0m \u001b[0;34m\u001b[0m\u001b[0m\n\u001b[1;32m      6\u001b[0m \u001b[0mcolors\u001b[0m \u001b[0;34m=\u001b[0m \u001b[0;34m[\u001b[0m\u001b[0;34m]\u001b[0m\u001b[0;34m\u001b[0m\u001b[0;34m\u001b[0m\u001b[0m\n",
            "\u001b[0;32m<ipython-input-133-0476bfc47336>\u001b[0m in \u001b[0;36mpredict\u001b[0;34m(self, xs_test)\u001b[0m\n\u001b[1;32m     36\u001b[0m         \u001b[0mself\u001b[0m\u001b[0;34m.\u001b[0m\u001b[0mxs_test\u001b[0m \u001b[0;34m=\u001b[0m \u001b[0mxs_test\u001b[0m\u001b[0;34m\u001b[0m\u001b[0;34m\u001b[0m\u001b[0m\n\u001b[1;32m     37\u001b[0m         \u001b[0;31m#self.label_test = label_test\u001b[0m\u001b[0;34m\u001b[0m\u001b[0;34m\u001b[0m\u001b[0;34m\u001b[0m\u001b[0m\n\u001b[0;32m---> 38\u001b[0;31m         \u001b[0mloss_p\u001b[0m \u001b[0;34m,\u001b[0m \u001b[0macc_p\u001b[0m\u001b[0;34m,\u001b[0m \u001b[0mxs_2\u001b[0m \u001b[0;34m=\u001b[0m\u001b[0mself\u001b[0m\u001b[0;34m.\u001b[0m\u001b[0mforward\u001b[0m\u001b[0;34m(\u001b[0m\u001b[0mself\u001b[0m\u001b[0;34m.\u001b[0m\u001b[0mxs_test\u001b[0m\u001b[0;34m)\u001b[0m\u001b[0;34m\u001b[0m\u001b[0;34m\u001b[0m\u001b[0m\n\u001b[0m\u001b[1;32m     39\u001b[0m         \u001b[0mpred\u001b[0m \u001b[0;34m=\u001b[0m \u001b[0;36m1\u001b[0m\u001b[0;34m/\u001b[0m \u001b[0;34m(\u001b[0m\u001b[0;36m1\u001b[0m \u001b[0;34m+\u001b[0m \u001b[0mnp\u001b[0m\u001b[0;34m.\u001b[0m\u001b[0mexp\u001b[0m\u001b[0;34m(\u001b[0m\u001b[0;34m-\u001b[0m\u001b[0mxs_2\u001b[0m\u001b[0;34m)\u001b[0m\u001b[0;34m)\u001b[0m\u001b[0;34m\u001b[0m\u001b[0;34m\u001b[0m\u001b[0m\n\u001b[1;32m     40\u001b[0m         \u001b[0;32mreturn\u001b[0m \u001b[0mpred\u001b[0m\u001b[0;34m\u001b[0m\u001b[0;34m\u001b[0m\u001b[0m\n",
            "\u001b[0;32m<ipython-input-133-0476bfc47336>\u001b[0m in \u001b[0;36mforward\u001b[0;34m(self, xs)\u001b[0m\n\u001b[1;32m     12\u001b[0m     \u001b[0;32mdef\u001b[0m \u001b[0mforward\u001b[0m\u001b[0;34m(\u001b[0m\u001b[0mself\u001b[0m\u001b[0;34m,\u001b[0m\u001b[0mxs\u001b[0m\u001b[0;34m)\u001b[0m \u001b[0;34m:\u001b[0m\u001b[0;34m\u001b[0m\u001b[0;34m\u001b[0m\u001b[0m\n\u001b[1;32m     13\u001b[0m         \u001b[0mxs_\u001b[0m \u001b[0;34m=\u001b[0m \u001b[0mxs\u001b[0m\u001b[0;34m\u001b[0m\u001b[0;34m\u001b[0m\u001b[0m\n\u001b[0;32m---> 14\u001b[0;31m         \u001b[0mxs_\u001b[0m \u001b[0;34m=\u001b[0m \u001b[0mself\u001b[0m\u001b[0;34m.\u001b[0m\u001b[0mlogit1\u001b[0m\u001b[0;34m.\u001b[0m\u001b[0mforward\u001b[0m\u001b[0;34m(\u001b[0m\u001b[0mxs_\u001b[0m\u001b[0;34m)\u001b[0m\u001b[0;34m\u001b[0m\u001b[0;34m\u001b[0m\u001b[0m\n\u001b[0m\u001b[1;32m     15\u001b[0m         \u001b[0mxs_\u001b[0m \u001b[0;34m=\u001b[0m \u001b[0mself\u001b[0m\u001b[0;34m.\u001b[0m\u001b[0mrelu\u001b[0m\u001b[0;34m.\u001b[0m\u001b[0mforward\u001b[0m\u001b[0;34m(\u001b[0m\u001b[0mxs_\u001b[0m\u001b[0;34m)\u001b[0m\u001b[0;34m\u001b[0m\u001b[0;34m\u001b[0m\u001b[0m\n\u001b[1;32m     16\u001b[0m         \u001b[0mxs_\u001b[0m \u001b[0;34m=\u001b[0m \u001b[0mself\u001b[0m\u001b[0;34m.\u001b[0m\u001b[0mlogit2\u001b[0m\u001b[0;34m.\u001b[0m\u001b[0mforward\u001b[0m\u001b[0;34m(\u001b[0m\u001b[0mxs_\u001b[0m\u001b[0;34m)\u001b[0m\u001b[0;34m\u001b[0m\u001b[0;34m\u001b[0m\u001b[0m\n",
            "\u001b[0;32m<ipython-input-129-447ed6927fc4>\u001b[0m in \u001b[0;36mforward\u001b[0;34m(self, x)\u001b[0m\n\u001b[1;32m     10\u001b[0m         \u001b[0mprint\u001b[0m\u001b[0;34m(\u001b[0m\u001b[0mself\u001b[0m\u001b[0;34m.\u001b[0m\u001b[0mb\u001b[0m\u001b[0;34m.\u001b[0m\u001b[0mshape\u001b[0m\u001b[0;34m)\u001b[0m\u001b[0;34m\u001b[0m\u001b[0;34m\u001b[0m\u001b[0m\n\u001b[1;32m     11\u001b[0m         \u001b[0mz\u001b[0m \u001b[0;34m=\u001b[0m \u001b[0mnp\u001b[0m\u001b[0;34m.\u001b[0m\u001b[0mmatmul\u001b[0m\u001b[0;34m(\u001b[0m\u001b[0mself\u001b[0m\u001b[0;34m.\u001b[0m\u001b[0mx\u001b[0m\u001b[0;34m,\u001b[0m \u001b[0mself\u001b[0m\u001b[0;34m.\u001b[0m\u001b[0mw\u001b[0m\u001b[0;34m)\u001b[0m\u001b[0;34m\u001b[0m\u001b[0;34m\u001b[0m\u001b[0m\n\u001b[0;32m---> 12\u001b[0;31m         \u001b[0mz\u001b[0m \u001b[0;34m=\u001b[0m \u001b[0mz\u001b[0m \u001b[0;34m+\u001b[0m \u001b[0mself\u001b[0m\u001b[0;34m.\u001b[0m\u001b[0mb\u001b[0m \u001b[0;31m#dataframe에서 matmul axis issue, np.dot은 없음\u001b[0m\u001b[0;34m\u001b[0m\u001b[0;34m\u001b[0m\u001b[0m\n\u001b[0m\u001b[1;32m     13\u001b[0m         \u001b[0;32mreturn\u001b[0m \u001b[0mz\u001b[0m\u001b[0;34m\u001b[0m\u001b[0;34m\u001b[0m\u001b[0m\n\u001b[1;32m     14\u001b[0m \u001b[0;34m\u001b[0m\u001b[0m\n",
            "\u001b[0;31mValueError\u001b[0m: operands could not be broadcast together with shapes (10000,10) (100,10) "
          ]
        }
      ]
    },
    {
      "cell_type": "markdown",
      "metadata": {
        "id": "TAnHuqUS6l-c",
        "colab_type": "text"
      },
      "source": [
        "#  \n",
        "\n",
        "---\n",
        "\n",
        "    Copyright(c) 2019 by Public AI. All rights reserved.<br>\n",
        "    Writen by PAI, SangJae Kang ( rocketgrowthsj@publicai.co.kr )  last updated on 2019/03/22\n",
        "\n",
        "---"
      ]
    }
  ]
}