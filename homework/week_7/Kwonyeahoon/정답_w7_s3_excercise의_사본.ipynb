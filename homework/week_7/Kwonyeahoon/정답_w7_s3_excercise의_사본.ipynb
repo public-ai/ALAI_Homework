{
  "nbformat": 4,
  "nbformat_minor": 0,
  "metadata": {
    "colab": {
      "name": "정답_w7_s3_excercise의 사본",
      "version": "0.3.2",
      "provenance": [],
      "collapsed_sections": []
    },
    "language_info": {
      "codemirror_mode": {
        "name": "ipython",
        "version": 3
      },
      "file_extension": ".py",
      "mimetype": "text/x-python",
      "name": "python",
      "nbconvert_exporter": "python",
      "pygments_lexer": "ipython3",
      "version": "3.6.5"
    },
    "kernelspec": {
      "display_name": "Python 3",
      "language": "python",
      "name": "python3"
    }
  },
  "cells": [
    {
      "cell_type": "markdown",
      "metadata": {
        "colab_type": "text",
        "id": "V5DbTV6Y8_fm"
      },
      "source": [
        "## Section 3_Various Activation Function\n",
        "\n",
        "## Objective\n",
        "1. **다양한 activation fuction 을 구현하고 이해합니다.**\n",
        "\n",
        "\n",
        "------\n"
      ]
    },
    {
      "cell_type": "code",
      "metadata": {
        "id": "G07oOh3RIe2S",
        "colab_type": "code",
        "colab": {}
      },
      "source": [
        "%matplotlib inline\n",
        "import tensorflow as tf \n",
        "import matplotlib.pyplot as plt \n",
        "import numpy as np"
      ],
      "execution_count": 0,
      "outputs": []
    },
    {
      "cell_type": "markdown",
      "metadata": {
        "colab_type": "text",
        "id": "b0Hku8a98_fo"
      },
      "source": [
        "## 문제 1. sigmoid 결과 출력하기\n",
        "\n",
        "[tf.nn.sigmoid](https://www.tensorflow.org/api_docs/python/tf/math/sigmoid) 을 이용해  xs 의 값을 sigmoid 에 통과 시켜 주세요.<br> 그리고 값을 출력해 answer1 에 넣어주세요.<br>\n"
      ]
    },
    {
      "cell_type": "code",
      "metadata": {
        "id": "eoDvlKYzIe2a",
        "colab_type": "code",
        "colab": {}
      },
      "source": [
        "# 우선 실행해 주세요.\n",
        "xs = np.arange(-10, 10, 0.1)"
      ],
      "execution_count": 0,
      "outputs": []
    },
    {
      "cell_type": "markdown",
      "metadata": {
        "id": "9kf1Ah20Ie2e",
        "colab_type": "text"
      },
      "source": [
        "#### 답안지 입력란\n",
        "* 아래에 답을 서술하여 주세요\n",
        "* 정답을 `answer1`에 담아주세요."
      ]
    },
    {
      "cell_type": "code",
      "metadata": {
        "colab_type": "code",
        "id": "E7QrUXQZn_PC",
        "colab": {}
      },
      "source": [
        "graph = tf.Graph()\n",
        "with graph.as_default():\n",
        "    x = tf.placeholder(tf.float32,(None,),name='xs')\n",
        "    # TODO : sigmoid로 계산해 주세요.\n",
        "    sig_x = tf.nn.sigmoid(x)\n",
        "\n",
        "sess = tf.Session(graph=graph)\n",
        "# TODO : session을 통해 값을 출력해 주세요.\n",
        "answer1 = sess.run(sig_x, feed_dict = {x : xs})"
      ],
      "execution_count": 0,
      "outputs": []
    },
    {
      "cell_type": "markdown",
      "metadata": {
        "colab_type": "text",
        "id": "8wkQc-xTp0UR"
      },
      "source": [
        "#### 정답 확인\n",
        "아래와 같은 그림이 나와야 정답입니다 <br>\n",
        "![Imgur](https://i.imgur.com/LRMlwGv.png) "
      ]
    },
    {
      "cell_type": "code",
      "metadata": {
        "id": "M-StLag7Ie2n",
        "colab_type": "code",
        "outputId": "5a78820e-7cc6-4a53-9237-926f59be6eba",
        "colab": {
          "base_uri": "https://localhost:8080/",
          "height": 269
        }
      },
      "source": [
        "assert 'answer1' in globals(), \"answer1에 값을 담았는지 확인해주세요\"\n",
        "xs = np.arange(-10, 10, 0.1)\n",
        "\n",
        "plt.plot(xs, answer1)\n",
        "plt.show()"
      ],
      "execution_count": 0,
      "outputs": [
        {
          "output_type": "display_data",
          "data": {
            "image/png": "[encoded data removed]",
            "text/plain": [
              "<Figure size 432x288 with 1 Axes>"
            ]
          },
          "metadata": {
            "tags": []
          }
        }
      ]
    },
    {
      "cell_type": "markdown",
      "metadata": {
        "colab_type": "text",
        "id": "mxzA5xcaqKOL"
      },
      "source": [
        "## 문제 2. sigmoid의 gradient 출력하기\n",
        "\n",
        "[tf.nn.sigmoid](https://www.tensorflow.org/api_docs/python/tf/math/sigmoid) 와 \n",
        "[tf.gradients](https://www.tensorflow.org/api_docs/python/tf/gradients)  이용해  \n",
        "sigmoid 에 대한 xs 의 미분값 ($\\frac{\\partial sigmoid}{\\partial xs}$)을  구해  answer2 에 넣어주세요.<br>\n"
      ]
    },
    {
      "cell_type": "code",
      "metadata": {
        "id": "j52svuJ9Ie2x",
        "colab_type": "code",
        "colab": {}
      },
      "source": [
        "# 우선 실행해 주세요.\n",
        "xs = np.arange(-10, 10, 0.1)"
      ],
      "execution_count": 0,
      "outputs": []
    },
    {
      "cell_type": "markdown",
      "metadata": {
        "id": "hlFhwaccIe21",
        "colab_type": "text"
      },
      "source": [
        "#### 답안지 입력란\n",
        "* 아래에 답을 서술하여 주세요\n",
        "* 정답을 `answer2`에 담아주세요."
      ]
    },
    {
      "cell_type": "code",
      "metadata": {
        "id": "tWB-vMJPIe22",
        "colab_type": "code",
        "colab": {}
      },
      "source": [
        "graph = tf.Graph()\n",
        "with graph.as_default():\n",
        "    x = tf.placeholder(tf.float32,(None,),name='xs')\n",
        "    # TODO : sigmoid의 Gradient를 계산해 주세요.\n",
        "    sig_x = tf.nn.sigmoid(x)\n",
        "    grad_sig_x = tf.gradients(sig_x, x)\n",
        "    \n",
        "sess = tf.Session(graph=graph)\n",
        "# TODO : session을 통해 값을 출력해 주세요.\n",
        "answer2 = sess.run(grad_sig_x, feed_dict = {x : xs})\n",
        "answer2 = np.reshape(answer2,(-1))"
      ],
      "execution_count": 0,
      "outputs": []
    },
    {
      "cell_type": "markdown",
      "metadata": {
        "colab_type": "text",
        "id": "SOfb6u3DrJ29"
      },
      "source": [
        "#### 정답 확인\n",
        "* 아래 코드를 수행했을 때 다음과 같은 그림이 나오면 정답입니다.<b><br>\n",
        "![Imgur](https://i.imgur.com/bEVvhbK.png)\n"
      ]
    },
    {
      "cell_type": "code",
      "metadata": {
        "id": "4EP2aEHGIe29",
        "colab_type": "code",
        "outputId": "b640822a-9480-421e-ee8b-6d5a50a6cdad",
        "colab": {
          "base_uri": "https://localhost:8080/",
          "height": 269
        }
      },
      "source": [
        "assert 'answer2' in globals(), \"answer2에 값을 담았는지 확인해주세요\"\n",
        "xs = np.arange(-10, 10, 0.1)\n",
        "\n",
        "plt.plot(xs, answer2)\n",
        "plt.show()"
      ],
      "execution_count": 0,
      "outputs": [
        {
          "output_type": "display_data",
          "data": {
            "image/png": "[encoded data removed]",
            "text/plain": [
              "<Figure size 432x288 with 1 Axes>"
            ]
          },
          "metadata": {
            "tags": []
          }
        }
      ]
    },
    {
      "cell_type": "markdown",
      "metadata": {
        "colab_type": "text",
        "id": "FRTVOGSTr6vm"
      },
      "source": [
        "## 문제 3. tanh 결과 출력하기\n",
        "\n",
        "[tf.nn.sigmoid](https://www.tensorflow.org/api_docs/python/tf/math/sigmoid) 와 \n",
        "[tf.gradients](https://www.tensorflow.org/api_docs/python/tf/gradients)  이용해  <br>\n",
        "tanh 을 구현해주세요. \n",
        "그리고 xs 값을 tanh 에 넣고 출력값을  answer3 에 넣어주세요.<br>\n"
      ]
    },
    {
      "cell_type": "code",
      "metadata": {
        "id": "juOanTf1Ie3I",
        "colab_type": "code",
        "colab": {}
      },
      "source": [
        "# 우선 실행해 주세요.\n",
        "xs = np.arange(-10, 10, 0.1)"
      ],
      "execution_count": 0,
      "outputs": []
    },
    {
      "cell_type": "markdown",
      "metadata": {
        "id": "h1eYrSamIe3O",
        "colab_type": "text"
      },
      "source": [
        "#### 답안지 입력란\n",
        "* 아래에 답을 서술하여 주세요\n",
        "* 정답을 `answer3`에 담아주세요.\n",
        "* `tf.nn.tanh`를 이용하지 않고 구현해 주세요."
      ]
    },
    {
      "cell_type": "code",
      "metadata": {
        "colab_type": "code",
        "id": "-UYDaORNr6vn",
        "colab": {}
      },
      "source": [
        "graph = tf.Graph()\n",
        "with graph.as_default():\n",
        "    x = tf.placeholder(tf.float32,(None,),name='xs')\n",
        "    # TODO : tanh를 계산해 주세요.\n",
        "    tanh_x = tf.nn.tanh(x)\n",
        "\n",
        "sess = tf.Session(graph=graph)\n",
        "# TODO : session을 통해 값을 출력해 주세요.\n",
        "answer3 = sess.run(tanh_x, feed_dict = {x : xs})"
      ],
      "execution_count": 0,
      "outputs": []
    },
    {
      "cell_type": "markdown",
      "metadata": {
        "colab_type": "text",
        "id": "5SKsqMqJ22Di"
      },
      "source": [
        "#### 정답 확인\n",
        "* 아래 코드를 수행했을 때 다음과 같은 그림이 나오면 정답입니다.<b><br>\n",
        "![Imgur](https://i.imgur.com/BQCyMXU.png)\n"
      ]
    },
    {
      "cell_type": "code",
      "metadata": {
        "id": "4wpJ0MaKIe3W",
        "colab_type": "code",
        "outputId": "9a15aa2c-488a-4ebf-8232-85a2655e6e62",
        "colab": {
          "base_uri": "https://localhost:8080/",
          "height": 269
        }
      },
      "source": [
        "assert 'answer3' in globals(), \"answer3에 값을 담았는지 확인해주세요\"\n",
        "xs = np.arange(-10, 10, 0.1)\n",
        "\n",
        "plt.plot(xs, answer3)\n",
        "plt.show()"
      ],
      "execution_count": 0,
      "outputs": [
        {
          "output_type": "display_data",
          "data": {
            "image/png": "[encoded data removed]",
            "text/plain": [
              "<Figure size 432x288 with 1 Axes>"
            ]
          },
          "metadata": {
            "tags": []
          }
        }
      ]
    },
    {
      "cell_type": "markdown",
      "metadata": {
        "colab_type": "text",
        "id": "nOAaxVJaySMZ"
      },
      "source": [
        "## 문제 4. tanh의 gradient 출력하기\n",
        "\n",
        "[tf.nn.tanh](https://www.tensorflow.org/api_docs/python/tf/math/tanh) 와 \n",
        "[tf.gradients](https://www.tensorflow.org/api_docs/python/tf/gradients)  이용해  <br>\n",
        "tanh 에 대한 xs 의 미분값 ($\\frac{\\partial tanh}{\\partial xs}$)을  구해  answer4 에 넣어주세요.\n",
        "\n",
        "\n"
      ]
    },
    {
      "cell_type": "code",
      "metadata": {
        "id": "ZC8WC-V0Ie3d",
        "colab_type": "code",
        "colab": {}
      },
      "source": [
        "# 우선 실행해 주세요.\n",
        "xs = np.arange(-10, 10, 0.1)"
      ],
      "execution_count": 0,
      "outputs": []
    },
    {
      "cell_type": "markdown",
      "metadata": {
        "id": "LvIe9qPTIe3i",
        "colab_type": "text"
      },
      "source": [
        "#### 답안지 입력란\n",
        "* 아래에 답을 서술하여 주세요\n",
        "* 정답을 `answer4`에 담아주세요."
      ]
    },
    {
      "cell_type": "code",
      "metadata": {
        "colab_type": "code",
        "id": "rnfI3ehMySMb",
        "colab": {}
      },
      "source": [
        "graph = tf.Graph()\n",
        "with graph.as_default():\n",
        "    x = tf.placeholder(tf.float32,(None,),name='xs')\n",
        "    # TODO : tanh의 gradient를 계산해 주세요.\n",
        "    tanh_x = tf.nn.tanh(x)\n",
        "    grad_tan = tf.gradients(tanh_x, x)\n",
        "sess = tf.Session(graph=graph)\n",
        "# TODO : session을 통해 값을 출력해 주세요.\n",
        "answer4 = sess.run(grad_tan, feed_dict = {x : xs})\n",
        "answer4 = np.reshape(answer4, (-1,))"
      ],
      "execution_count": 0,
      "outputs": []
    },
    {
      "cell_type": "markdown",
      "metadata": {
        "colab_type": "text",
        "id": "fWJZOv-73Ty_"
      },
      "source": [
        "#### 정답 확인\n",
        "* 아래 코드를 수행했을 때 다음과 같은 그림이 나오면 정답입니다.<b><br>\n",
        "![Imgur](https://i.imgur.com/Tav7KF7.png)"
      ]
    },
    {
      "cell_type": "code",
      "metadata": {
        "id": "oEXDq_0TIe3o",
        "colab_type": "code",
        "outputId": "6d261289-572f-40e7-d91b-9ed509ee760d",
        "colab": {
          "base_uri": "https://localhost:8080/",
          "height": 269
        }
      },
      "source": [
        "assert 'answer4' in globals(), \"answer4에 값을 담았는지 확인해주세요\"\n",
        "xs = np.arange(-10, 10, 0.1)\n",
        "\n",
        "plt.plot(xs, answer4)\n",
        "plt.show()"
      ],
      "execution_count": 0,
      "outputs": [
        {
          "output_type": "display_data",
          "data": {
            "image/png": "[encoded data removed]",
            "text/plain": [
              "<Figure size 432x288 with 1 Axes>"
            ]
          },
          "metadata": {
            "tags": []
          }
        }
      ]
    },
    {
      "cell_type": "markdown",
      "metadata": {
        "colab_type": "text",
        "id": "QoGEMqud0iBX"
      },
      "source": [
        "## 문제 5. tensorflow 을 이용해 leakly relu   을 구현하고 시각화 합니다.\n",
        "\n",
        "[tf.nn.leaky_relu](https://www.tensorflow.org/api_docs/python/tf/nn/leaky_relu) 와 \n",
        "[tf.gradients](https://www.tensorflow.org/api_docs/python/tf/gradients)  이용해  <br>\n",
        "tanh 을 구현해주세요. \n",
        "그리고 xs 값을 tanh 에 넣고 출력값을  answer5 에 넣어주세요.<br>\n",
        "\n",
        "* Leaky Relu의 $\\alpha=0.2$로 해주시길 바랍니다."
      ]
    },
    {
      "cell_type": "code",
      "metadata": {
        "id": "1TG9fvVyIe3z",
        "colab_type": "code",
        "colab": {}
      },
      "source": [
        "# 우선 실행해 주세요.\n",
        "xs = np.arange(-10, 10, 0.1)"
      ],
      "execution_count": 0,
      "outputs": []
    },
    {
      "cell_type": "markdown",
      "metadata": {
        "id": "X1DR3mSzIe36",
        "colab_type": "text"
      },
      "source": [
        "#### 답안지 입력란\n",
        "* 아래에 답을 서술하여 주세요\n",
        "* 정답을 `answer5`에 담아주세요."
      ]
    },
    {
      "cell_type": "code",
      "metadata": {
        "id": "JkRKNKwbOnng",
        "colab_type": "code",
        "colab": {}
      },
      "source": [
        "graph1 = tf.Graph()\n",
        "with graph1.as_default():\n",
        "    x = tf.placeholder(dtype=tf.float32, shape=(xs.shape), name=\"x\")\n",
        "    leaky_relu = tf.nn.leaky_relu(x, 0.2, name=\"leaky_relu\")\n",
        "    \n",
        "    sess = tf.Session()\n",
        "    answer5 = sess.run(leaky_relu, feed_dict={x : xs})"
      ],
      "execution_count": 0,
      "outputs": []
    },
    {
      "cell_type": "markdown",
      "metadata": {
        "colab_type": "text",
        "id": "wux8xKT9-BAq"
      },
      "source": [
        "#### 정답 확인\n",
        "* 아래 코드를 수행했을 때 다음과 같은 그림이 나오면 정답입니다.<b><br>\n",
        "![Imgur](https://i.imgur.com/x7b0EWD.png)"
      ]
    },
    {
      "cell_type": "code",
      "metadata": {
        "id": "-PFKdScyIe4G",
        "colab_type": "code",
        "outputId": "2808df9c-e004-4e0e-9d72-9e0d36a7bd65",
        "colab": {
          "base_uri": "https://localhost:8080/",
          "height": 269
        }
      },
      "source": [
        "assert 'answer5' in globals(), \"answer5에 값을 담았는지 확인해주세요\"\n",
        "xs = np.arange(-10, 10, 0.1)\n",
        "\n",
        "plt.plot(xs, answer5)\n",
        "plt.show()"
      ],
      "execution_count": 0,
      "outputs": [
        {
          "output_type": "display_data",
          "data": {
            "image/png": "[encoded data removed]",
            "text/plain": [
              "<Figure size 432x288 with 1 Axes>"
            ]
          },
          "metadata": {
            "tags": []
          }
        }
      ]
    },
    {
      "cell_type": "markdown",
      "metadata": {
        "colab_type": "text",
        "id": "tOCwBrhm54sH"
      },
      "source": [
        "## 문제 6. tensorflow 을 이용해 leakly relu에 gradient  을 구현하고 시각화 합니다.\n",
        "\n",
        "[tf.nn.leaky_relu](https://www.tensorflow.org/api_docs/python/tf/nn/leaky_relu) 와 \n",
        "[tf.gradients](https://www.tensorflow.org/api_docs/python/tf/gradients)  이용해  <br>\n",
        "$\\frac{\\partial leakly\\_relu}{\\partial xs }$ 을 구현해주세요. \n",
        "그리고 결과값을 answer6 에 넣어주세요<br>\n",
        "\n",
        "* Leaky Relu의 $\\alpha=0.6$로 해주시길 바랍니다."
      ]
    },
    {
      "cell_type": "code",
      "metadata": {
        "id": "4hNNjdQ4Ie4P",
        "colab_type": "code",
        "colab": {}
      },
      "source": [
        "# 우선 실행해 주세요.\n",
        "xs = np.arange(-10, 10, 0.1)"
      ],
      "execution_count": 0,
      "outputs": []
    },
    {
      "cell_type": "markdown",
      "metadata": {
        "id": "Zu1Ezl2fIe4S",
        "colab_type": "text"
      },
      "source": [
        "#### 답안지 입력란\n",
        "* 아래에 답을 서술하여 주세요\n",
        "* 정답을 `answer6`에 담아주세요."
      ]
    },
    {
      "cell_type": "code",
      "metadata": {
        "id": "4YoPGcNMP7Wx",
        "colab_type": "code",
        "colab": {}
      },
      "source": [
        "graph1 = tf.Graph()\n",
        "with graph1.as_default():\n",
        "    x = tf.placeholder(dtype=tf.float32, shape=(xs.shape), name=\"x\")\n",
        "    leaky_relu = tf.nn.leaky_relu(x, 0.6, name=\"leaky_relu\")\n",
        "    grad = tf.gradients(leaky_relu, x)\n",
        "    \n",
        "    sess = tf.Session()\n",
        "    answer6 = sess.run(grad, feed_dict={x : xs})\n",
        "    answer6 = np.reshape(answer6, (-1,))"
      ],
      "execution_count": 0,
      "outputs": []
    },
    {
      "cell_type": "markdown",
      "metadata": {
        "colab_type": "text",
        "id": "8BP8TNaJAktr"
      },
      "source": [
        "#### 정답 확인\n",
        "* 아래 코드를 수행했을 때 다음과 같은 그림이 나오면 정답입니다.<b><br>\n",
        "![Imgur](https://i.imgur.com/SyBd7nh.png)"
      ]
    },
    {
      "cell_type": "code",
      "metadata": {
        "id": "-fIqMA2FIe4a",
        "colab_type": "code",
        "outputId": "9eec116b-dcc9-4aad-ae7c-48e02359c3b8",
        "colab": {
          "base_uri": "https://localhost:8080/",
          "height": 269
        }
      },
      "source": [
        "assert 'answer6' in globals(), \"answer6에 값을 담았는지 확인해주세요\"\n",
        "xs = np.arange(-10, 10, 0.1)\n",
        "\n",
        "plt.plot(xs, answer6)\n",
        "plt.ylim(0.,1.5)\n",
        "plt.show()"
      ],
      "execution_count": 6,
      "outputs": [
        {
          "output_type": "display_data",
          "data": {
            "image/png": "[encoded data removed]",
            "text/plain": [
              "<Figure size 432x288 with 1 Axes>"
            ]
          },
          "metadata": {
            "tags": []
          }
        }
      ]
    },
    {
      "cell_type": "markdown",
      "metadata": {
        "colab_type": "text",
        "id": "3IzIVKHoYgiV"
      },
      "source": [
        "#  \n",
        "\n",
        "<hr>\n",
        "<div style = \"background-image: url('https://algorithmai.io/static/media/logo.665798c4.png');background-repeat: no-repeat; background-position: right; background-size: 220px 40px; padding : 5px 10px 5px 5px;\">\n",
        "    Copyright(c) 2019 by Public AI. All rights reserved.<br>\n",
        "    Writen by PAI, SangJae Kang ( rocketgrowthsj@publicai.co.kr )  last updated on 2019/04/17\n",
        "</div>\n",
        "<hr>"
      ]
    },
    {
      "cell_type": "code",
      "metadata": {
        "id": "q5kvst5FQgnM",
        "colab_type": "code",
        "colab": {}
      },
      "source": [
        ""
      ],
      "execution_count": 0,
      "outputs": []
    }
  ]
}