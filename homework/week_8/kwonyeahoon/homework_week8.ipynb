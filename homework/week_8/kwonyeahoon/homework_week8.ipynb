{
  "nbformat": 4,
  "nbformat_minor": 0,
  "metadata": {
    "colab": {
      "name": "배포_homework_week8.ipynb의 사본",
      "version": "0.3.2",
      "provenance": [],
      "collapsed_sections": []
    },
    "kernelspec": {
      "name": "python3",
      "display_name": "Python 3"
    }
  },
  "cells": [
    {
      "cell_type": "markdown",
      "metadata": {
        "colab_type": "text",
        "id": "-SG8srkJ2upM"
      },
      "source": [
        " ╔══<i><b>&nbsp;Alai-DeepLearning&nbsp;</b></i>══════════════════════════════════╗\n",
        "###  &nbsp;&nbsp; **✎&nbsp;&nbsp;Week 4. Tensorflow basis**\n",
        "# Homework 1. face autoencoder \n",
        "\n",
        "### _Objective_\n",
        "1. 얼굴 사진 데이터셋을 이용해 auto encoder 로 학습해 봅니다. \n",
        "\n",
        "\n",
        "╚═══════════════════════════════════════════════╝"
      ]
    },
    {
      "cell_type": "code",
      "metadata": {
        "id": "4sUrCb50gIvP",
        "colab_type": "code",
        "colab": {}
      },
      "source": [
        "%matplotlib inline\n",
        "import numpy as np\n",
        "import tensorflow as tf\n",
        "import matplotlib.pyplot as plt\n",
        "# 얼굴 사진 데이터셋\n",
        "from sklearn.datasets import fetch_olivetti_faces"
      ],
      "execution_count": 0,
      "outputs": []
    },
    {
      "cell_type": "markdown",
      "metadata": {
        "colab_type": "text",
        "id": "34r66vr2O6Re"
      },
      "source": [
        "## 데이터 )  얼굴 데이터셋 \n"
      ]
    },
    {
      "cell_type": "markdown",
      "metadata": {
        "colab_type": "text",
        "id": "UvPQnmcgyKzr"
      },
      "source": [
        "\n",
        "### 데이터 ) 데이터 설명\n",
        "\n",
        "Scikit Learn library 에 내장 되어 있는 **olivetti_faces** 데이터 셋입니다.\n",
        "\n",
        "40명의 인물이 다른 표정으로 각각 10장씩 찍은 데이터셋입니다. \n",
        "\n",
        "\n",
        "![Imgur](https://i.imgur.com/hoV87xA.png)"
      ]
    },
    {
      "cell_type": "markdown",
      "metadata": {
        "colab_type": "text",
        "id": "EDT5gfatu19k"
      },
      "source": [
        "## \\[ 문제 1 : 텐서플로우를 이용해 auto-encoder 구현하기 \\]\n",
        "\n",
        "olivetti_faces 데이터셋에 auto encoder 을 수행합니다.\n",
        "\n"
      ]
    },
    {
      "cell_type": "markdown",
      "metadata": {
        "colab_type": "text",
        "id": "gikiKkcIXICV"
      },
      "source": [
        "### Data 불러오기\n"
      ]
    },
    {
      "cell_type": "code",
      "metadata": {
        "id": "zKMbjSLSXHKG",
        "colab_type": "code",
        "outputId": "8da499d3-d0f8-4a5a-d283-b34f4dc11e65",
        "colab": {
          "base_uri": "https://localhost:8080/",
          "height": 287
        }
      },
      "source": [
        "import tensorflow as tf\n",
        "from sklearn.datasets import fetch_olivetti_faces\n",
        "import random\n",
        "import numpy as np\n",
        "import matplotlib.pyplot as plt\n",
        "import os\n",
        "\n",
        "faces_all = fetch_olivetti_faces()\n",
        "images = faces_all.images\n",
        "plt.imshow(images[0:1].reshape((64,64)))\n",
        "plt.show()"
      ],
      "execution_count": 2,
      "outputs": [
        {
          "output_type": "stream",
          "text": [
            "downloading Olivetti faces from https://ndownloader.figshare.com/files/5976027 to /root/scikit_learn_data\n"
          ],
          "name": "stdout"
        },
        {
          "output_type": "display_data",
          "data": {
            "image/png": "[encoded data removed]",
            "text/plain": [
              "<Figure size 432x288 with 1 Axes>"
            ]
          },
          "metadata": {
            "tags": []
          }
        }
      ]
    },
    {
      "cell_type": "code",
      "metadata": {
        "id": "oH0iqiktD0dE",
        "colab_type": "code",
        "outputId": "8f663886-1887-41ca-eb81-80f416abbc2c",
        "colab": {
          "base_uri": "https://localhost:8080/",
          "height": 70
        }
      },
      "source": [
        "print(images.shape)\n",
        "print(type(faces_all))\n",
        "len_ = images.shape[0] * 0.75\n",
        "type(len_)"
      ],
      "execution_count": 3,
      "outputs": [
        {
          "output_type": "stream",
          "text": [
            "(400, 64, 64)\n",
            "<class 'sklearn.utils.Bunch'>\n"
          ],
          "name": "stdout"
        },
        {
          "output_type": "execute_result",
          "data": {
            "text/plain": [
              "float"
            ]
          },
          "metadata": {
            "tags": []
          },
          "execution_count": 3
        }
      ]
    },
    {
      "cell_type": "markdown",
      "metadata": {
        "id": "PSsb6FTE6qOg",
        "colab_type": "text"
      },
      "source": [
        "### Divider 만들기 \n"
      ]
    },
    {
      "cell_type": "code",
      "metadata": {
        "id": "TuUc6tuMu_yf",
        "colab_type": "code",
        "outputId": "64361421-1678-4946-e516-5e378921b0ac",
        "colab": {
          "base_uri": "https://localhost:8080/",
          "height": 52
        }
      },
      "source": [
        "images = images.reshape([-1, 64 * 64])\n",
        "print(images.shape)\n",
        "\n",
        "# train data 와 Test data 을 나눕니다. \n",
        "def divide_train_test(dataset, train_ratio):\n",
        "    # fix me #\n",
        "    train_len = dataset.shape[0] * train_ratio\n",
        "    train_len = int(train_len) # int cast for slicing\n",
        "    return dataset[:train_len], dataset[train_len:]\n",
        "\n",
        "# test 이미지와 train 이미지를 나눕니다. 전체 이미지에서 train image 의 비율은 75% 입니다. \n",
        "train_images, test_images = divide_train_test(images, train_ratio=0.75)\n",
        "print('face train dataset shape: {}, test dataset shape : {}'.format(train_images.shape, test_images.shape))"
      ],
      "execution_count": 4,
      "outputs": [
        {
          "output_type": "stream",
          "text": [
            "(400, 4096)\n",
            "face train dataset shape: (300, 4096), test dataset shape : (100, 4096)\n"
          ],
          "name": "stdout"
        }
      ]
    },
    {
      "cell_type": "code",
      "metadata": {
        "id": "dJi7SmhKMH-M",
        "colab_type": "code",
        "outputId": "97f90222-2ab1-4b97-fa47-1fadb5231ae1",
        "colab": {
          "base_uri": "https://localhost:8080/",
          "height": 88
        }
      },
      "source": [
        "# list 함수 작동 실험.. \n",
        "a = [[1,2,3],[4,5,6],[7,8,9]]\n",
        "print(a)\n",
        "print(a[:1][:])\n",
        "del(a[:1])\n",
        "print(a)\n",
        "\n",
        "a = [0,1,2,3,4,5,6,7,8,9]\n",
        "np.random.shuffle(a)\n",
        "a\n",
        "\n",
        "ind_ = [i for i in range(10)]\n",
        "ind_"
      ],
      "execution_count": 5,
      "outputs": [
        {
          "output_type": "stream",
          "text": [
            "[[1, 2, 3], [4, 5, 6], [7, 8, 9]]\n",
            "[[1, 2, 3]]\n",
            "[[4, 5, 6], [7, 8, 9]]\n"
          ],
          "name": "stdout"
        },
        {
          "output_type": "execute_result",
          "data": {
            "text/plain": [
              "[0, 1, 2, 3, 4, 5, 6, 7, 8, 9]"
            ]
          },
          "metadata": {
            "tags": []
          },
          "execution_count": 5
        }
      ]
    },
    {
      "cell_type": "markdown",
      "metadata": {
        "colab_type": "text",
        "id": "zkRinD1_9z6B"
      },
      "source": [
        "### DataProvider 만들기 \n"
      ]
    },
    {
      "cell_type": "code",
      "metadata": {
        "id": "yrQfWPeb9bs_",
        "colab_type": "code",
        "colab": {}
      },
      "source": [
        "random.seed(0)\n",
        "import copy\n",
        "class DataProvider(object):\n",
        "    def __init__(self, images):\n",
        "        self.images = images\n",
        "        self.images_fix = images # fix data저장\n",
        "        self.len_ = self.images.shape[0] # 길이저장\n",
        "        self.len_fix = copy.deepcopy(self.len_)  # fix길이 저장\n",
        "        self.ind_range = self.images.shape[0] # index\n",
        "        self.ind = [ x for x in range(self.ind_range)]\n",
        "        np.random.shuffle(self.ind) # index shuffle\n",
        "        self.images = self.images[self.ind, :] # shuffle 수행\n",
        "        self.images = list(self.images) #list화 시킴(del() 등 list연산 사용필요)\n",
        "        \n",
        "    def next_batch(self, batch_size):\n",
        "        #fix me#\n",
        "        if self.len_ <= batch_size :\n",
        "            ### 해당 epoch의 마지막 batch case ###\n",
        "            # 1.나머지 모두 내보냄\n",
        "            out_batch = self.images[:][:]\n",
        "            del(self.images[:])\n",
        "            \n",
        "            # 2.다음 epoch의 shuffle 수행\n",
        "            self.len_ = self.len_fix\n",
        "            self.images = self.images_fix\n",
        "            self.ind = [ x for x in range(self.ind_range)]\n",
        "            np.random.shuffle(self.ind)\n",
        "            self.images = self.images[self.ind, :]\n",
        "            self.images = list(self.images)\n",
        "            \n",
        "        else : \n",
        "            # 일반 batch수행\n",
        "            out_batch = self.images[:batch_size][:] # slice함\n",
        "            del(self.images[:batch_size]) # 해당 배치만큼 data삭제\n",
        "            self.len_ = self.len_ - batch_size # 길이줄임\n",
        "            out_batch = np.array(out_batch)\n",
        "        return out_batch"
      ],
      "execution_count": 0,
      "outputs": []
    },
    {
      "cell_type": "markdown",
      "metadata": {
        "colab_type": "text",
        "id": "QW1AVFlb-Fdd"
      },
      "source": [
        "### Auto-Encoder 만들기 \n"
      ]
    },
    {
      "cell_type": "code",
      "metadata": {
        "id": "BujYKF986WR_",
        "colab_type": "code",
        "outputId": "a238b3d9-4e5d-4c35-8bf7-9628ddb077d5",
        "colab": {
          "base_uri": "https://localhost:8080/",
          "height": 108
        }
      },
      "source": [
        "g1 = tf.Graph()\n",
        "# Input\n",
        "xs = tf.placeholder(dtype = tf.float32, shape = [None,4096])\n",
        "lr = tf.placeholder(dtype = tf.float32)\n",
        "offset_place = tf.zeros(shape=(1,128), dtype=tf.float32)\n",
        "\n",
        "he_init = tf.initializers.he_normal()\n",
        "\n",
        "# Encoder\n",
        "layer = xs\n",
        "encode_units = [256, 256, 128]\n",
        "encode1 = tf.layers.Dense(units=encode_units[0], activation=tf.nn.relu, kernel_initializer= he_init)(layer)\n",
        "encode2 = tf.layers.Dense(units=encode_units[1], activation=tf.nn.relu, kernel_initializer= he_init)(encode1)\n",
        "encode3 = tf.layers.Dense(units=encode_units[2], activation=tf.nn.relu, kernel_initializer= he_init)(encode2)\n",
        "\n",
        "# Coding\n",
        "code_unit = 128\n",
        "code = tf.layers.Dense(units=code_unit, activation=tf.nn.tanh,\n",
        "                       kernel_initializer=tf.initializers.glorot_normal(),\n",
        "                      name='code')(encode3)\n",
        "\n",
        "code_offset = code + offset_place\n",
        "print(code.shape)\n",
        "\n",
        "# Decoder\n",
        "layer = code_offset\n",
        "decode_units = encode_units[::-1] #역순\n",
        "# except code units\n",
        "#fix me#\n",
        "decode1 = tf.layers.Dense(units=decode_units[0], activation=tf.nn.relu, kernel_initializer= he_init)(layer)\n",
        "decode2 = tf.layers.Dense(units=decode_units[1], activation=tf.nn.relu, kernel_initializer= he_init)(decode1)\n",
        "decode3 = tf.layers.Dense(units=decode_units[2], activation=tf.nn.relu, kernel_initializer= he_init)(decode2)\n",
        "\n",
        "# Reconstruct\n",
        "#fix me #\n",
        "reconst = tf.layers.Dense(units=4096)(decode3)\n",
        "\n",
        "\n",
        "# MSE Loss\n",
        "#fix me#\n",
        "mse = tf.reduce_mean((reconst - xs)**2)\n",
        "\n",
        "# Adam Optimizer \n",
        "#fix me #\n",
        "train_op = tf.train.AdamOptimizer(lr).minimize(mse)"
      ],
      "execution_count": 7,
      "outputs": [
        {
          "output_type": "stream",
          "text": [
            "WARNING:tensorflow:From /usr/local/lib/python3.6/dist-packages/tensorflow/python/framework/op_def_library.py:263: colocate_with (from tensorflow.python.framework.ops) is deprecated and will be removed in a future version.\n",
            "Instructions for updating:\n",
            "Colocations handled automatically by placer.\n",
            "(?, 128)\n"
          ],
          "name": "stdout"
        }
      ]
    },
    {
      "cell_type": "code",
      "metadata": {
        "id": "rGVOrmOwQ0zj",
        "colab_type": "code",
        "outputId": "eb1eaf7b-87f9-4ed6-b9f8-e7dcd79d680e",
        "colab": {
          "base_uri": "https://localhost:8080/",
          "height": 8924
        }
      },
      "source": [
        "# Saver\n",
        "saver = tf.train.Saver()\n",
        "\n",
        "# Session\n",
        "sess = tf.Session()\n",
        "sess.run(tf.global_variables_initializer())\n",
        "\n",
        "# Training\n",
        "batch_size = 40\n",
        "n_epoch = 501\n",
        "n_step = int(len(train_images) / batch_size)\n",
        "lr_in = 0.0001\n",
        "\n",
        "provider = DataProvider(train_images)\n",
        "for e in range(n_epoch):\n",
        "    for i in range(n_step):\n",
        "        batch_xs = provider.next_batch(batch_size)\n",
        "        \n",
        "        # Training\n",
        "        _ = sess.run(train_op, feed_dict = { xs : batch_xs, lr : lr_in})\n",
        "        \n",
        "        # 폴더를 생성합니다.  \n",
        "        savedir = './reconstruct_images'\n",
        "        os.makedirs(savedir, exist_ok=True)\n",
        "    \n",
        "    # Model save\n",
        "    if e % 500 == 0 :\n",
        "        saver.save(sess, './trained_model/' ,global_step=e)\n",
        "    \n",
        "    # epoch 이 한번 돌면 test loss 을 출력함.\n",
        "    test_loss = sess.run(mse, feed_dict = {xs : test_images})\n",
        "    print('epoch : {} , Loss : {}'.format(e ,test_loss))\n",
        "\n",
        "\n",
        "    "
      ],
      "execution_count": 34,
      "outputs": [
        {
          "output_type": "stream",
          "text": [
            "epoch : 0 , Loss : 0.26083657145500183\n",
            "epoch : 1 , Loss : 0.20533829927444458\n",
            "epoch : 2 , Loss : 0.14317451417446136\n",
            "epoch : 3 , Loss : 0.09208515286445618\n",
            "epoch : 4 , Loss : 0.056834135204553604\n",
            "epoch : 5 , Loss : 0.03741913661360741\n",
            "epoch : 6 , Loss : 0.027956560254096985\n",
            "epoch : 7 , Loss : 0.023460064083337784\n",
            "epoch : 8 , Loss : 0.02158898301422596\n",
            "epoch : 9 , Loss : 0.020029056817293167\n",
            "epoch : 10 , Loss : 0.01945425197482109\n",
            "epoch : 11 , Loss : 0.019072474911808968\n",
            "epoch : 12 , Loss : 0.0191112719476223\n",
            "epoch : 13 , Loss : 0.01863682270050049\n",
            "epoch : 14 , Loss : 0.018494049087166786\n",
            "epoch : 15 , Loss : 0.01823565550148487\n",
            "epoch : 16 , Loss : 0.018105747178196907\n",
            "epoch : 17 , Loss : 0.01807563751935959\n",
            "epoch : 18 , Loss : 0.017755446955561638\n",
            "epoch : 19 , Loss : 0.01771942898631096\n",
            "epoch : 20 , Loss : 0.017523180693387985\n",
            "epoch : 21 , Loss : 0.017587900161743164\n",
            "epoch : 22 , Loss : 0.017519019544124603\n",
            "epoch : 23 , Loss : 0.017725462093949318\n",
            "epoch : 24 , Loss : 0.017621736973524094\n",
            "epoch : 25 , Loss : 0.017515692859888077\n",
            "epoch : 26 , Loss : 0.017270846292376518\n",
            "epoch : 27 , Loss : 0.017225949093699455\n",
            "epoch : 28 , Loss : 0.017315413802862167\n",
            "epoch : 29 , Loss : 0.017071090638637543\n",
            "epoch : 30 , Loss : 0.016925955191254616\n",
            "epoch : 31 , Loss : 0.017377234995365143\n",
            "epoch : 32 , Loss : 0.01710652746260166\n",
            "epoch : 33 , Loss : 0.016785653308033943\n",
            "epoch : 34 , Loss : 0.01663362793624401\n",
            "epoch : 35 , Loss : 0.016452087089419365\n",
            "epoch : 36 , Loss : 0.01652250811457634\n",
            "epoch : 37 , Loss : 0.01632135733962059\n",
            "epoch : 38 , Loss : 0.016491541638970375\n",
            "epoch : 39 , Loss : 0.015965254977345467\n",
            "epoch : 40 , Loss : 0.01577962189912796\n",
            "epoch : 41 , Loss : 0.01567564718425274\n",
            "epoch : 42 , Loss : 0.015886766836047173\n",
            "epoch : 43 , Loss : 0.015598494559526443\n",
            "epoch : 44 , Loss : 0.015627849847078323\n",
            "epoch : 45 , Loss : 0.015249324031174183\n",
            "epoch : 46 , Loss : 0.015481552109122276\n",
            "epoch : 47 , Loss : 0.015302709303796291\n",
            "epoch : 48 , Loss : 0.015141581185162067\n",
            "epoch : 49 , Loss : 0.015174119733273983\n",
            "epoch : 50 , Loss : 0.01545809954404831\n",
            "epoch : 51 , Loss : 0.015022839419543743\n",
            "epoch : 52 , Loss : 0.014936505816876888\n",
            "epoch : 53 , Loss : 0.015086155384778976\n",
            "epoch : 54 , Loss : 0.015006441622972488\n",
            "epoch : 55 , Loss : 0.014866070821881294\n",
            "epoch : 56 , Loss : 0.014945928938686848\n",
            "epoch : 57 , Loss : 0.014767879620194435\n",
            "epoch : 58 , Loss : 0.01490134745836258\n",
            "epoch : 59 , Loss : 0.014731993898749352\n",
            "epoch : 60 , Loss : 0.014670971781015396\n",
            "epoch : 61 , Loss : 0.01492539793252945\n",
            "epoch : 62 , Loss : 0.014540658332407475\n",
            "epoch : 63 , Loss : 0.014720692299306393\n",
            "epoch : 64 , Loss : 0.014356392435729504\n",
            "epoch : 65 , Loss : 0.014454958029091358\n",
            "epoch : 66 , Loss : 0.014443140476942062\n",
            "epoch : 67 , Loss : 0.014128762297332287\n",
            "epoch : 68 , Loss : 0.014361981302499771\n",
            "epoch : 69 , Loss : 0.014159067533910275\n",
            "epoch : 70 , Loss : 0.014333424158394337\n",
            "epoch : 71 , Loss : 0.013945825397968292\n",
            "epoch : 72 , Loss : 0.014129609800875187\n",
            "epoch : 73 , Loss : 0.013909104280173779\n",
            "epoch : 74 , Loss : 0.013902077451348305\n",
            "epoch : 75 , Loss : 0.013761082664132118\n",
            "epoch : 76 , Loss : 0.013859420083463192\n",
            "epoch : 77 , Loss : 0.013665752485394478\n",
            "epoch : 78 , Loss : 0.013764568604528904\n",
            "epoch : 79 , Loss : 0.01354712713509798\n",
            "epoch : 80 , Loss : 0.01351197250187397\n",
            "epoch : 81 , Loss : 0.013464344665408134\n",
            "epoch : 82 , Loss : 0.013462667353451252\n",
            "epoch : 83 , Loss : 0.013344974257051945\n",
            "epoch : 84 , Loss : 0.013259614817798138\n",
            "epoch : 85 , Loss : 0.013503874652087688\n",
            "epoch : 86 , Loss : 0.013259717263281345\n",
            "epoch : 87 , Loss : 0.013180779293179512\n",
            "epoch : 88 , Loss : 0.01327101793140173\n",
            "epoch : 89 , Loss : 0.01319910492748022\n",
            "epoch : 90 , Loss : 0.013053192757070065\n",
            "epoch : 91 , Loss : 0.01333407312631607\n",
            "epoch : 92 , Loss : 0.012947550974786282\n",
            "epoch : 93 , Loss : 0.013192934915423393\n",
            "epoch : 94 , Loss : 0.012891922146081924\n",
            "epoch : 95 , Loss : 0.012968722730875015\n",
            "epoch : 96 , Loss : 0.012838760390877724\n",
            "epoch : 97 , Loss : 0.012754959985613823\n",
            "epoch : 98 , Loss : 0.012744158506393433\n",
            "epoch : 99 , Loss : 0.012726218439638615\n",
            "epoch : 100 , Loss : 0.012667935341596603\n",
            "epoch : 101 , Loss : 0.012626308016479015\n",
            "epoch : 102 , Loss : 0.012607160955667496\n",
            "epoch : 103 , Loss : 0.012457302771508694\n",
            "epoch : 104 , Loss : 0.01236366294324398\n",
            "epoch : 105 , Loss : 0.01239951141178608\n",
            "epoch : 106 , Loss : 0.012351935729384422\n",
            "epoch : 107 , Loss : 0.012278304435312748\n",
            "epoch : 108 , Loss : 0.012333502992987633\n",
            "epoch : 109 , Loss : 0.012106973677873611\n",
            "epoch : 110 , Loss : 0.012150323018431664\n",
            "epoch : 111 , Loss : 0.012181511148810387\n",
            "epoch : 112 , Loss : 0.012123516760766506\n",
            "epoch : 113 , Loss : 0.012054754421114922\n",
            "epoch : 114 , Loss : 0.012078754603862762\n",
            "epoch : 115 , Loss : 0.01220716442912817\n",
            "epoch : 116 , Loss : 0.012083644978702068\n",
            "epoch : 117 , Loss : 0.012049764394760132\n",
            "epoch : 118 , Loss : 0.011981802992522717\n",
            "epoch : 119 , Loss : 0.012011854909360409\n",
            "epoch : 120 , Loss : 0.012036751955747604\n",
            "epoch : 121 , Loss : 0.011915680952370167\n",
            "epoch : 122 , Loss : 0.012035881169140339\n",
            "epoch : 123 , Loss : 0.011880779638886452\n",
            "epoch : 124 , Loss : 0.011909267865121365\n",
            "epoch : 125 , Loss : 0.011880175210535526\n",
            "epoch : 126 , Loss : 0.011861748993396759\n",
            "epoch : 127 , Loss : 0.012045416980981827\n",
            "epoch : 128 , Loss : 0.011842172592878342\n",
            "epoch : 129 , Loss : 0.011830132454633713\n",
            "epoch : 130 , Loss : 0.011836779303848743\n",
            "epoch : 131 , Loss : 0.011779215186834335\n",
            "epoch : 132 , Loss : 0.011838044971227646\n",
            "epoch : 133 , Loss : 0.011837685480713844\n",
            "epoch : 134 , Loss : 0.011796948499977589\n",
            "epoch : 135 , Loss : 0.011784570291638374\n",
            "epoch : 136 , Loss : 0.011833914555609226\n",
            "epoch : 137 , Loss : 0.011608235538005829\n",
            "epoch : 138 , Loss : 0.011662185192108154\n",
            "epoch : 139 , Loss : 0.011804705485701561\n",
            "epoch : 140 , Loss : 0.011621282435953617\n",
            "epoch : 141 , Loss : 0.011591370217502117\n",
            "epoch : 142 , Loss : 0.011638449504971504\n",
            "epoch : 143 , Loss : 0.011621194891631603\n",
            "epoch : 144 , Loss : 0.01142245065420866\n",
            "epoch : 145 , Loss : 0.011551333591341972\n",
            "epoch : 146 , Loss : 0.011533880606293678\n",
            "epoch : 147 , Loss : 0.011464557610452175\n",
            "epoch : 148 , Loss : 0.011578257195651531\n",
            "epoch : 149 , Loss : 0.01148452889174223\n",
            "epoch : 150 , Loss : 0.011486065573990345\n",
            "epoch : 151 , Loss : 0.011377155780792236\n",
            "epoch : 152 , Loss : 0.011395104229450226\n",
            "epoch : 153 , Loss : 0.011331995949149132\n",
            "epoch : 154 , Loss : 0.011388394981622696\n",
            "epoch : 155 , Loss : 0.011342311277985573\n",
            "epoch : 156 , Loss : 0.011325998231768608\n",
            "epoch : 157 , Loss : 0.011255430988967419\n",
            "epoch : 158 , Loss : 0.011199850589036942\n",
            "epoch : 159 , Loss : 0.011204028502106667\n",
            "epoch : 160 , Loss : 0.011128826066851616\n",
            "epoch : 161 , Loss : 0.011100506410002708\n",
            "epoch : 162 , Loss : 0.011020810343325138\n",
            "epoch : 163 , Loss : 0.011103987693786621\n",
            "epoch : 164 , Loss : 0.011130833998322487\n",
            "epoch : 165 , Loss : 0.011015033349394798\n",
            "epoch : 166 , Loss : 0.010955807752907276\n",
            "epoch : 167 , Loss : 0.010984890162944794\n",
            "epoch : 168 , Loss : 0.010937192477285862\n",
            "epoch : 169 , Loss : 0.010954372584819794\n",
            "epoch : 170 , Loss : 0.010901336558163166\n",
            "epoch : 171 , Loss : 0.010837150737643242\n",
            "epoch : 172 , Loss : 0.010837974958121777\n",
            "epoch : 173 , Loss : 0.01087424997240305\n",
            "epoch : 174 , Loss : 0.010880988091230392\n",
            "epoch : 175 , Loss : 0.010801812633872032\n",
            "epoch : 176 , Loss : 0.010781748220324516\n",
            "epoch : 177 , Loss : 0.01070459559559822\n",
            "epoch : 178 , Loss : 0.010745164006948471\n",
            "epoch : 179 , Loss : 0.010725174099206924\n",
            "epoch : 180 , Loss : 0.010747261345386505\n",
            "epoch : 181 , Loss : 0.010736404918134212\n",
            "epoch : 182 , Loss : 0.010585777461528778\n",
            "epoch : 183 , Loss : 0.010555858723819256\n",
            "epoch : 184 , Loss : 0.010617010295391083\n",
            "epoch : 185 , Loss : 0.0107236597687006\n",
            "epoch : 186 , Loss : 0.010561274364590645\n",
            "epoch : 187 , Loss : 0.010561318136751652\n",
            "epoch : 188 , Loss : 0.01061013713479042\n",
            "epoch : 189 , Loss : 0.010559933260083199\n",
            "epoch : 190 , Loss : 0.010478949174284935\n",
            "epoch : 191 , Loss : 0.010546747595071793\n",
            "epoch : 192 , Loss : 0.010484356433153152\n",
            "epoch : 193 , Loss : 0.01046707946807146\n",
            "epoch : 194 , Loss : 0.010507995262742043\n",
            "epoch : 195 , Loss : 0.010544409975409508\n",
            "epoch : 196 , Loss : 0.010443370789289474\n",
            "epoch : 197 , Loss : 0.010517661459743977\n",
            "epoch : 198 , Loss : 0.010480139404535294\n",
            "epoch : 199 , Loss : 0.010435737669467926\n",
            "epoch : 200 , Loss : 0.01039664726704359\n",
            "epoch : 201 , Loss : 0.010416432283818722\n",
            "epoch : 202 , Loss : 0.010402228683233261\n",
            "epoch : 203 , Loss : 0.010421602986752987\n",
            "epoch : 204 , Loss : 0.010386088863015175\n",
            "epoch : 205 , Loss : 0.010394716635346413\n",
            "epoch : 206 , Loss : 0.010346009396016598\n",
            "epoch : 207 , Loss : 0.010379437357187271\n",
            "epoch : 208 , Loss : 0.010367501527071\n",
            "epoch : 209 , Loss : 0.010328910313546658\n",
            "epoch : 210 , Loss : 0.010302536189556122\n",
            "epoch : 211 , Loss : 0.010279107838869095\n",
            "epoch : 212 , Loss : 0.010318574495613575\n",
            "epoch : 213 , Loss : 0.010354037396609783\n",
            "epoch : 214 , Loss : 0.010271983221173286\n",
            "epoch : 215 , Loss : 0.010274006053805351\n",
            "epoch : 216 , Loss : 0.010307447984814644\n",
            "epoch : 217 , Loss : 0.01025477796792984\n",
            "epoch : 218 , Loss : 0.010287878103554249\n",
            "epoch : 219 , Loss : 0.01022164337337017\n",
            "epoch : 220 , Loss : 0.010275390930473804\n",
            "epoch : 221 , Loss : 0.010317576117813587\n",
            "epoch : 222 , Loss : 0.010195894166827202\n",
            "epoch : 223 , Loss : 0.010212590917944908\n",
            "epoch : 224 , Loss : 0.010273899883031845\n",
            "epoch : 225 , Loss : 0.01025872491300106\n",
            "epoch : 226 , Loss : 0.010202441364526749\n",
            "epoch : 227 , Loss : 0.010223113000392914\n",
            "epoch : 228 , Loss : 0.010302046313881874\n",
            "epoch : 229 , Loss : 0.010179983451962471\n",
            "epoch : 230 , Loss : 0.010163197293877602\n",
            "epoch : 231 , Loss : 0.010220995172858238\n",
            "epoch : 232 , Loss : 0.010116660967469215\n",
            "epoch : 233 , Loss : 0.010112271644175053\n",
            "epoch : 234 , Loss : 0.010185901075601578\n",
            "epoch : 235 , Loss : 0.010121258907020092\n",
            "epoch : 236 , Loss : 0.010148800909519196\n",
            "epoch : 237 , Loss : 0.010087342001497746\n",
            "epoch : 238 , Loss : 0.01005866564810276\n",
            "epoch : 239 , Loss : 0.010110126808285713\n",
            "epoch : 240 , Loss : 0.010072247125208378\n",
            "epoch : 241 , Loss : 0.010219509713351727\n",
            "epoch : 242 , Loss : 0.010132985189557076\n",
            "epoch : 243 , Loss : 0.010072377510368824\n",
            "epoch : 244 , Loss : 0.010075245052576065\n",
            "epoch : 245 , Loss : 0.010126900859177113\n",
            "epoch : 246 , Loss : 0.010051889345049858\n",
            "epoch : 247 , Loss : 0.010024568066000938\n",
            "epoch : 248 , Loss : 0.010001552291214466\n",
            "epoch : 249 , Loss : 0.010059190914034843\n",
            "epoch : 250 , Loss : 0.010029900819063187\n",
            "epoch : 251 , Loss : 0.010059169493615627\n",
            "epoch : 252 , Loss : 0.010020093061029911\n",
            "epoch : 253 , Loss : 0.009929215535521507\n",
            "epoch : 254 , Loss : 0.009964660741388798\n",
            "epoch : 255 , Loss : 0.009997311048209667\n",
            "epoch : 256 , Loss : 0.009970549494028091\n",
            "epoch : 257 , Loss : 0.009942618198692799\n",
            "epoch : 258 , Loss : 0.00994920264929533\n",
            "epoch : 259 , Loss : 0.009922432713210583\n",
            "epoch : 260 , Loss : 0.009937040507793427\n",
            "epoch : 261 , Loss : 0.0098841218277812\n",
            "epoch : 262 , Loss : 0.009966489858925343\n",
            "epoch : 263 , Loss : 0.00992234144359827\n",
            "epoch : 264 , Loss : 0.00987931527197361\n",
            "epoch : 265 , Loss : 0.009887750260531902\n",
            "epoch : 266 , Loss : 0.009885242208838463\n",
            "epoch : 267 , Loss : 0.009857977740466595\n",
            "epoch : 268 , Loss : 0.009836907498538494\n",
            "epoch : 269 , Loss : 0.009849270805716515\n",
            "epoch : 270 , Loss : 0.009867638349533081\n",
            "epoch : 271 , Loss : 0.009771149605512619\n",
            "epoch : 272 , Loss : 0.009782353416085243\n",
            "epoch : 273 , Loss : 0.009880599565804005\n",
            "epoch : 274 , Loss : 0.009762486442923546\n",
            "epoch : 275 , Loss : 0.009780336171388626\n",
            "epoch : 276 , Loss : 0.009861431084573269\n",
            "epoch : 277 , Loss : 0.009755161590874195\n",
            "epoch : 278 , Loss : 0.009697315283119678\n",
            "epoch : 279 , Loss : 0.009730094112455845\n",
            "epoch : 280 , Loss : 0.009746335446834564\n",
            "epoch : 281 , Loss : 0.009691489860415459\n",
            "epoch : 282 , Loss : 0.009766488336026669\n",
            "epoch : 283 , Loss : 0.00978564377874136\n",
            "epoch : 284 , Loss : 0.009714493528008461\n",
            "epoch : 285 , Loss : 0.009673877619206905\n",
            "epoch : 286 , Loss : 0.009798102080821991\n",
            "epoch : 287 , Loss : 0.009647312574088573\n",
            "epoch : 288 , Loss : 0.009629970416426659\n",
            "epoch : 289 , Loss : 0.009743127971887589\n",
            "epoch : 290 , Loss : 0.009671970270574093\n",
            "epoch : 291 , Loss : 0.009637287817895412\n",
            "epoch : 292 , Loss : 0.0096611138433218\n",
            "epoch : 293 , Loss : 0.009662371128797531\n",
            "epoch : 294 , Loss : 0.009652913548052311\n",
            "epoch : 295 , Loss : 0.00966176949441433\n",
            "epoch : 296 , Loss : 0.009622037410736084\n",
            "epoch : 297 , Loss : 0.009653211571276188\n",
            "epoch : 298 , Loss : 0.009676682762801647\n",
            "epoch : 299 , Loss : 0.009572039358317852\n",
            "epoch : 300 , Loss : 0.00960929412394762\n",
            "epoch : 301 , Loss : 0.009629495441913605\n",
            "epoch : 302 , Loss : 0.009530281648039818\n",
            "epoch : 303 , Loss : 0.0096128573641181\n",
            "epoch : 304 , Loss : 0.009553024545311928\n",
            "epoch : 305 , Loss : 0.009625942446291447\n",
            "epoch : 306 , Loss : 0.00952936802059412\n",
            "epoch : 307 , Loss : 0.009517630562186241\n",
            "epoch : 308 , Loss : 0.00960235670208931\n",
            "epoch : 309 , Loss : 0.009521185420453548\n",
            "epoch : 310 , Loss : 0.009501893073320389\n",
            "epoch : 311 , Loss : 0.00946395006030798\n",
            "epoch : 312 , Loss : 0.009487897157669067\n",
            "epoch : 313 , Loss : 0.009482388384640217\n",
            "epoch : 314 , Loss : 0.009515051729977131\n",
            "epoch : 315 , Loss : 0.009450403042137623\n",
            "epoch : 316 , Loss : 0.009546736255288124\n",
            "epoch : 317 , Loss : 0.009500864893198013\n",
            "epoch : 318 , Loss : 0.009426564909517765\n",
            "epoch : 319 , Loss : 0.009461982175707817\n",
            "epoch : 320 , Loss : 0.009432882070541382\n",
            "epoch : 321 , Loss : 0.009452040307223797\n",
            "epoch : 322 , Loss : 0.009453143924474716\n",
            "epoch : 323 , Loss : 0.009549356997013092\n",
            "epoch : 324 , Loss : 0.009383374825119972\n",
            "epoch : 325 , Loss : 0.00945054367184639\n",
            "epoch : 326 , Loss : 0.009356802329421043\n",
            "epoch : 327 , Loss : 0.009369812905788422\n",
            "epoch : 328 , Loss : 0.00941824447363615\n",
            "epoch : 329 , Loss : 0.009337596595287323\n",
            "epoch : 330 , Loss : 0.009395304135978222\n",
            "epoch : 331 , Loss : 0.009475570172071457\n",
            "epoch : 332 , Loss : 0.009397037327289581\n",
            "epoch : 333 , Loss : 0.009353331290185452\n",
            "epoch : 334 , Loss : 0.009356793016195297\n",
            "epoch : 335 , Loss : 0.009343546815216541\n",
            "epoch : 336 , Loss : 0.009317743591964245\n",
            "epoch : 337 , Loss : 0.009369147010147572\n",
            "epoch : 338 , Loss : 0.009311145171523094\n",
            "epoch : 339 , Loss : 0.009316138923168182\n",
            "epoch : 340 , Loss : 0.009445395320653915\n",
            "epoch : 341 , Loss : 0.009348824620246887\n",
            "epoch : 342 , Loss : 0.009296991862356663\n",
            "epoch : 343 , Loss : 0.009338929317891598\n",
            "epoch : 344 , Loss : 0.009238098748028278\n",
            "epoch : 345 , Loss : 0.00940633937716484\n",
            "epoch : 346 , Loss : 0.009275411255657673\n",
            "epoch : 347 , Loss : 0.009300441481173038\n",
            "epoch : 348 , Loss : 0.009319870732724667\n",
            "epoch : 349 , Loss : 0.009297685697674751\n",
            "epoch : 350 , Loss : 0.009255248121917248\n",
            "epoch : 351 , Loss : 0.009279949590563774\n",
            "epoch : 352 , Loss : 0.009323119185864925\n",
            "epoch : 353 , Loss : 0.009245824068784714\n",
            "epoch : 354 , Loss : 0.009256784804165363\n",
            "epoch : 355 , Loss : 0.009247122332453728\n",
            "epoch : 356 , Loss : 0.009231210686266422\n",
            "epoch : 357 , Loss : 0.00917648896574974\n",
            "epoch : 358 , Loss : 0.009237688966095448\n",
            "epoch : 359 , Loss : 0.009250946342945099\n",
            "epoch : 360 , Loss : 0.009203420020639896\n",
            "epoch : 361 , Loss : 0.009227978996932507\n",
            "epoch : 362 , Loss : 0.009211677126586437\n",
            "epoch : 363 , Loss : 0.009145312011241913\n",
            "epoch : 364 , Loss : 0.009222136810421944\n",
            "epoch : 365 , Loss : 0.00919162854552269\n",
            "epoch : 366 , Loss : 0.009176304563879967\n",
            "epoch : 367 , Loss : 0.009225744754076004\n",
            "epoch : 368 , Loss : 0.009172276593744755\n",
            "epoch : 369 , Loss : 0.00917392410337925\n",
            "epoch : 370 , Loss : 0.009213526733219624\n",
            "epoch : 371 , Loss : 0.009151825681328773\n",
            "epoch : 372 , Loss : 0.009195354767143726\n",
            "epoch : 373 , Loss : 0.009161322377622128\n",
            "epoch : 374 , Loss : 0.009151280857622623\n",
            "epoch : 375 , Loss : 0.00908888690173626\n",
            "epoch : 376 , Loss : 0.0091439513489604\n",
            "epoch : 377 , Loss : 0.00915205106139183\n",
            "epoch : 378 , Loss : 0.009100751020014286\n",
            "epoch : 379 , Loss : 0.009169082157313824\n",
            "epoch : 380 , Loss : 0.009166793897747993\n",
            "epoch : 381 , Loss : 0.00917157530784607\n",
            "epoch : 382 , Loss : 0.009113572537899017\n",
            "epoch : 383 , Loss : 0.009063590317964554\n",
            "epoch : 384 , Loss : 0.009099100716412067\n",
            "epoch : 385 , Loss : 0.0091638695448637\n",
            "epoch : 386 , Loss : 0.009075086563825607\n",
            "epoch : 387 , Loss : 0.009089058265089989\n",
            "epoch : 388 , Loss : 0.009091133251786232\n",
            "epoch : 389 , Loss : 0.009149172343313694\n",
            "epoch : 390 , Loss : 0.009055925533175468\n",
            "epoch : 391 , Loss : 0.009090103209018707\n",
            "epoch : 392 , Loss : 0.009042411111295223\n",
            "epoch : 393 , Loss : 0.009118001908063889\n",
            "epoch : 394 , Loss : 0.009038216434419155\n",
            "epoch : 395 , Loss : 0.009094475768506527\n",
            "epoch : 396 , Loss : 0.009051525965332985\n",
            "epoch : 397 , Loss : 0.009045310318470001\n",
            "epoch : 398 , Loss : 0.009005262516438961\n",
            "epoch : 399 , Loss : 0.009099462069571018\n",
            "epoch : 400 , Loss : 0.0090039586648345\n",
            "epoch : 401 , Loss : 0.009052538312971592\n",
            "epoch : 402 , Loss : 0.009038891643285751\n",
            "epoch : 403 , Loss : 0.009042821824550629\n",
            "epoch : 404 , Loss : 0.009082742966711521\n",
            "epoch : 405 , Loss : 0.00901206023991108\n",
            "epoch : 406 , Loss : 0.009013648144900799\n",
            "epoch : 407 , Loss : 0.008991841226816177\n",
            "epoch : 408 , Loss : 0.008990265429019928\n",
            "epoch : 409 , Loss : 0.009015696123242378\n",
            "epoch : 410 , Loss : 0.008993598632514477\n",
            "epoch : 411 , Loss : 0.009091505780816078\n",
            "epoch : 412 , Loss : 0.008968137204647064\n",
            "epoch : 413 , Loss : 0.0089960228651762\n",
            "epoch : 414 , Loss : 0.009037340991199017\n",
            "epoch : 415 , Loss : 0.00899898074567318\n",
            "epoch : 416 , Loss : 0.008953290060162544\n",
            "epoch : 417 , Loss : 0.00897158868610859\n",
            "epoch : 418 , Loss : 0.008995803073048592\n",
            "epoch : 419 , Loss : 0.00902730505913496\n",
            "epoch : 420 , Loss : 0.00907058734446764\n",
            "epoch : 421 , Loss : 0.008930188603699207\n",
            "epoch : 422 , Loss : 0.00898266676813364\n",
            "epoch : 423 , Loss : 0.008940101601183414\n",
            "epoch : 424 , Loss : 0.00901881419122219\n",
            "epoch : 425 , Loss : 0.008984563872218132\n",
            "epoch : 426 , Loss : 0.00894905161112547\n",
            "epoch : 427 , Loss : 0.00893546361476183\n",
            "epoch : 428 , Loss : 0.009026776999235153\n",
            "epoch : 429 , Loss : 0.008987200446426868\n",
            "epoch : 430 , Loss : 0.008994636125862598\n",
            "epoch : 431 , Loss : 0.00893229991197586\n",
            "epoch : 432 , Loss : 0.008981449529528618\n",
            "epoch : 433 , Loss : 0.008897142484784126\n",
            "epoch : 434 , Loss : 0.008944830857217312\n",
            "epoch : 435 , Loss : 0.009005185216665268\n",
            "epoch : 436 , Loss : 0.008936035446822643\n",
            "epoch : 437 , Loss : 0.008940371684730053\n",
            "epoch : 438 , Loss : 0.008900148794054985\n",
            "epoch : 439 , Loss : 0.008967976085841656\n",
            "epoch : 440 , Loss : 0.00896091666072607\n",
            "epoch : 441 , Loss : 0.0089182797819376\n",
            "epoch : 442 , Loss : 0.008904245682060719\n",
            "epoch : 443 , Loss : 0.008913327008485794\n",
            "epoch : 444 , Loss : 0.008947496302425861\n",
            "epoch : 445 , Loss : 0.00888400711119175\n",
            "epoch : 446 , Loss : 0.008896571584045887\n",
            "epoch : 447 , Loss : 0.008911662735044956\n",
            "epoch : 448 , Loss : 0.00888193491846323\n",
            "epoch : 449 , Loss : 0.008893611840903759\n",
            "epoch : 450 , Loss : 0.008940506726503372\n",
            "epoch : 451 , Loss : 0.0088797090575099\n",
            "epoch : 452 , Loss : 0.008838895708322525\n",
            "epoch : 453 , Loss : 0.008953996002674103\n",
            "epoch : 454 , Loss : 0.008906402625143528\n",
            "epoch : 455 , Loss : 0.008880616165697575\n",
            "epoch : 456 , Loss : 0.008910599164664745\n",
            "epoch : 457 , Loss : 0.008868597447872162\n",
            "epoch : 458 , Loss : 0.008892498910427094\n",
            "epoch : 459 , Loss : 0.008868513628840446\n",
            "epoch : 460 , Loss : 0.008934314362704754\n",
            "epoch : 461 , Loss : 0.008912384510040283\n",
            "epoch : 462 , Loss : 0.00892613735049963\n",
            "epoch : 463 , Loss : 0.00885720644146204\n",
            "epoch : 464 , Loss : 0.008892284706234932\n",
            "epoch : 465 , Loss : 0.008884904906153679\n",
            "epoch : 466 , Loss : 0.008907641284167767\n",
            "epoch : 467 , Loss : 0.008908381685614586\n",
            "epoch : 468 , Loss : 0.008834152482450008\n",
            "epoch : 469 , Loss : 0.008943796157836914\n",
            "epoch : 470 , Loss : 0.008835607208311558\n",
            "epoch : 471 , Loss : 0.008917377330362797\n",
            "epoch : 472 , Loss : 0.00886562466621399\n",
            "epoch : 473 , Loss : 0.008852778002619743\n",
            "epoch : 474 , Loss : 0.00896497257053852\n",
            "epoch : 475 , Loss : 0.008804073557257652\n",
            "epoch : 476 , Loss : 0.008874309249222279\n",
            "epoch : 477 , Loss : 0.008913707919418812\n",
            "epoch : 478 , Loss : 0.008796419017016888\n",
            "epoch : 479 , Loss : 0.008939850144088268\n",
            "epoch : 480 , Loss : 0.008858268149197102\n",
            "epoch : 481 , Loss : 0.008840811438858509\n",
            "epoch : 482 , Loss : 0.008929470553994179\n",
            "epoch : 483 , Loss : 0.008829126134514809\n",
            "epoch : 484 , Loss : 0.008905677124857903\n",
            "epoch : 485 , Loss : 0.0088857002556324\n",
            "epoch : 486 , Loss : 0.00881759449839592\n",
            "epoch : 487 , Loss : 0.008884011767804623\n",
            "epoch : 488 , Loss : 0.00886351615190506\n",
            "epoch : 489 , Loss : 0.00891187321394682\n",
            "epoch : 490 , Loss : 0.00880878884345293\n",
            "epoch : 491 , Loss : 0.008859245106577873\n",
            "epoch : 492 , Loss : 0.008877169340848923\n",
            "epoch : 493 , Loss : 0.008805551566183567\n",
            "epoch : 494 , Loss : 0.008845839649438858\n",
            "epoch : 495 , Loss : 0.008827991783618927\n",
            "epoch : 496 , Loss : 0.008830523118376732\n",
            "epoch : 497 , Loss : 0.00878516212105751\n",
            "epoch : 498 , Loss : 0.008825096301734447\n",
            "epoch : 499 , Loss : 0.00884197372943163\n",
            "epoch : 500 , Loss : 0.00888330489397049\n"
          ],
          "name": "stdout"
        }
      ]
    },
    {
      "cell_type": "markdown",
      "metadata": {
        "colab_type": "text",
        "id": "faywqEQvCEWP"
      },
      "source": [
        "### Change face 만들기 \n",
        "\n",
        "학습된 코딩 부분을 변형해 얼굴이 어떻게 변화하는지 살펴 봅니다.\n",
        "![Imgur](https://i.imgur.com/Ehc5Miw.png)"
      ]
    },
    {
      "cell_type": "code",
      "metadata": {
        "id": "iOKMRv0UCaSo",
        "colab_type": "code",
        "outputId": "9332bc10-630c-4f43-d9d3-2457980083f2",
        "colab": {
          "base_uri": "https://localhost:8080/",
          "height": 138
        }
      },
      "source": [
        "# code의 output에 offest을 더해서 움직임 (w,b아님)\n",
        "# 모델을 그대로 사용함 코드뒤로 잘라서 사용하지 않음\n",
        "# code에 offset 을 추가\n",
        "sample = test_images[1:2]\n",
        "offset = [0.]*128 #np.zeros(shape=(128,), dtype=np.float32)\n",
        "\n",
        "# 복원된 이미지가 저장됩니다.\n",
        "offset_images = []\n",
        "\n",
        "# offset vector 의 element 는 모두 0 입니다. \n",
        "# offset vector 에 특정 element 에 0.1 씩 더한후 결과를 다시 코드(code)에 주입합니다.\n",
        "# 코드에 주입한 후 reconstruct 된 결과를 offset_images 에 저장합니다. \n",
        "offset_number = 3\n",
        "for i in np.arange(0, 1, 0.1):\n",
        "    offset[offset_number] = i\n",
        "    offset_ = np.reshape(offset, (-1,128))\n",
        "    recon_noise = sess.run(reconst, feed_dict = { xs : sample,\n",
        "                                    offset_place : offset_})\n",
        "    recon_noise_img =  np.reshape(recon_noise, (64,64)) \n",
        "    offset_images.append(recon_noise_img)\n",
        "\n",
        "# 이미지를 가로로 붙여 한장의 이미지로 만듭니다. \n",
        "merged_images = np.concatenate([offset_images[i] for i in range(0,10)], axis = 1)\n",
        "\n",
        "# 가장 왼쪽부터 original image, reconstruct image ,offset 에 0.1 씩 더해진 이미지를 \n",
        "# 한장의 이미지로 만듭니다. \n",
        "sample_img = np.concatenate([sample.reshape(64,64), sess.run(reconst, feed_dict = { xs : sample}).reshape(64,64), merged_images], axis = 1)\n",
        "faces = sample_img\n",
        "plt.figure(figsize=(15,10))\n",
        "plt.imshow(faces, cmap='gray')"
      ],
      "execution_count": 23,
      "outputs": [
        {
          "output_type": "execute_result",
          "data": {
            "text/plain": [
              "<matplotlib.image.AxesImage at 0x7f20a9e634e0>"
            ]
          },
          "metadata": {
            "tags": []
          },
          "execution_count": 23
        },
        {
          "output_type": "display_data",
          "data": {
            "image/png": "[encoded data removed]",
            "text/plain": [
              "<Figure size 1080x720 with 1 Axes>"
            ]
          },
          "metadata": {
            "tags": []
          }
        }
      ]
    },
    {
      "cell_type": "markdown",
      "metadata": {
        "colab_type": "text",
        "id": "SI7DGPG1BuT8"
      },
      "source": [
        "### 자신의 얼굴 변형해보기\n",
        "\n",
        "자신의 얼굴  auto encoder 에 넣고 복원된 결과를 확인해 봅니다. \n"
      ]
    },
    {
      "cell_type": "code",
      "metadata": {
        "id": "YhXMeRP9vIQF",
        "colab_type": "code",
        "outputId": "8b523188-e92f-47f8-c992-e082b83e2a4a",
        "colab": {
          "base_uri": "https://localhost:8080/",
          "height": 237
        }
      },
      "source": [
        "#파일명은 myface.jpeg 로 넣어주세요. \n",
        "\n",
        "import cv2\n",
        "# image 을 읽어오고\n",
        "my_img = cv2.imread('my_face.jpg')\n",
        "#컬러사진을 흑백사진으로 바꿉니다. \n",
        "my_img = cv2.cvtColor(my_img, cv2.COLOR_BGR2GRAY)\n",
        "# 이미지 size 을 조절합니다. \n",
        "my_img_gray=cv2.resize(my_img,(64,64))\n",
        "\n",
        "offset = [0.]*128\n",
        "offset_ = np.reshape(offset, (-1,128))\n",
        "\n",
        "# pixel 값의 범위가 0~1 사이가 되도록 normalize 합니다. \n",
        "my_gray = my_img_gray / 255.\n",
        "\n",
        "# 이미지를 auto encoder 에 넣을수 있도록 한줄로 핍니다. \n",
        "my_flat = np.reshape(my_gray,(1,-1))\n",
        "\n",
        "# auto encoder 에서 복원된 이미지를 가져옵니다. \n",
        "recon_noise = sess.run(reconst, feed_dict = { xs : my_flat,\n",
        "                                offset_place : offset_})\n",
        "my_recon = recon_noise\n",
        "my_recon = my_recon.reshape(64,64)\n",
        "# original 사진과 복원된 이미지를 붙여 한장의 사진으로 만듭니다. \n",
        "faces = np.concatenate([my_gray,my_recon], axis = 1)\n",
        "plt.imshow(faces, cmap='gray')"
      ],
      "execution_count": 40,
      "outputs": [
        {
          "output_type": "execute_result",
          "data": {
            "text/plain": [
              "<matplotlib.image.AxesImage at 0x7f20a80455c0>"
            ]
          },
          "metadata": {
            "tags": []
          },
          "execution_count": 40
        },
        {
          "output_type": "display_data",
          "data": {
            "image/png": "[encoded data removed]",
            "text/plain": [
              "<Figure size 432x288 with 1 Axes>"
            ]
          },
          "metadata": {
            "tags": []
          }
        }
      ]
    },
    {
      "cell_type": "markdown",
      "metadata": {
        "id": "4xL7GRMAf2Fd",
        "colab_type": "text"
      },
      "source": [
        "#  \n",
        "\n",
        "---\n",
        "\n",
        "    Copyright(c) 2019 by Public AI. All rights reserved.<br>\n",
        "    Writen by PAI, SangJae Kang ( rocketgrowthsj@publicai.co.kr )  last updated on 2019/03/22\n",
        "\n",
        "---"
      ]
    }
  ]
}