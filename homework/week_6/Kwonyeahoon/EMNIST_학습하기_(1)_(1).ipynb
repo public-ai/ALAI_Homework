{
  "nbformat": 4,
  "nbformat_minor": 0,
  "metadata": {
    "colab": {
      "name": "EMNIST_학습하기_(1) (1).ipynb",
      "version": "0.3.2",
      "provenance": [],
      "collapsed_sections": []
    },
    "language_info": {
      "codemirror_mode": {
        "name": "ipython",
        "version": 3
      },
      "file_extension": ".py",
      "mimetype": "text/x-python",
      "name": "python",
      "nbconvert_exporter": "python",
      "pygments_lexer": "ipython3",
      "version": "3.6.5"
    },
    "kernelspec": {
      "name": "python3",
      "display_name": "Python 3"
    },
    "accelerator": "GPU"
  },
  "cells": [
    {
      "cell_type": "markdown",
      "metadata": {
        "colab_type": "text",
        "id": "V5DbTV6Y8_fm"
      },
      "source": [
        " ╔══<i><b>&nbsp;Alai-DeepLearning&nbsp;</b></i>══════════════════════════════════╗\n",
        "\n",
        "###  &nbsp;&nbsp; **✎&nbsp;&nbsp;Week 6. MLP_basis**\n",
        "# Homework 1. EMNIST 학습하기\n",
        "\n",
        "## 8_Tensorflow을 이용한 Network Training\n",
        "\n",
        "\n",
        "### _Objective_\n",
        "* MNIST 보다 Class 수가 많아진, Extended MNIST을 학습시켜 봅니다.\n",
        " \n",
        "╚═══════════════════════════════════════════════╝\n",
        "\n"
      ]
    },
    {
      "cell_type": "code",
      "metadata": {
        "id": "7PnkwflMPHIR",
        "colab_type": "code",
        "outputId": "3ae30c56-2470-4b0d-e218-59d26026465d",
        "colab": {
          "base_uri": "https://localhost:8080/",
          "height": 260
        }
      },
      "source": [
        "# 우선 실행해 주세요 \n",
        "!pip install tensorboardcolab\n",
        "!pip install emnist\n",
        "import tensorboardcolab\n",
        "\n",
        "from emnist import extract_training_samples\n",
        "import matplotlib.pyplot as plt \n",
        "import numpy as np \n",
        "import tensorflow as tf\n",
        "import random\n",
        "import pandas as pd\n",
        "from tqdm import tqdm\n"
      ],
      "execution_count": 1,
      "outputs": [
        {
          "output_type": "stream",
          "text": [
            "Requirement already satisfied: tensorboardcolab in /usr/local/lib/python3.6/dist-packages (0.0.22)\n",
            "Collecting emnist\n",
            "  Downloading https://files.pythonhosted.org/packages/d1/f4/78b24acbef9e8fe976dda700f16a3606f3b8363b015bc555f8050fbbd8ac/emnist-0.0-py3-none-any.whl\n",
            "Requirement already satisfied: requests in /usr/local/lib/python3.6/dist-packages (from emnist) (2.21.0)\n",
            "Requirement already satisfied: numpy in /usr/local/lib/python3.6/dist-packages (from emnist) (1.16.3)\n",
            "Requirement already satisfied: tqdm in /usr/local/lib/python3.6/dist-packages (from emnist) (4.28.1)\n",
            "Requirement already satisfied: urllib3<1.25,>=1.21.1 in /usr/local/lib/python3.6/dist-packages (from requests->emnist) (1.24.3)\n",
            "Requirement already satisfied: certifi>=2017.4.17 in /usr/local/lib/python3.6/dist-packages (from requests->emnist) (2019.3.9)\n",
            "Requirement already satisfied: chardet<3.1.0,>=3.0.2 in /usr/local/lib/python3.6/dist-packages (from requests->emnist) (3.0.4)\n",
            "Requirement already satisfied: idna<2.9,>=2.5 in /usr/local/lib/python3.6/dist-packages (from requests->emnist) (2.8)\n",
            "Installing collected packages: emnist\n",
            "Successfully installed emnist-0.0\n"
          ],
          "name": "stdout"
        },
        {
          "output_type": "stream",
          "text": [
            "Using TensorFlow backend.\n"
          ],
          "name": "stderr"
        }
      ]
    },
    {
      "cell_type": "markdown",
      "metadata": {
        "colab_type": "text",
        "id": "FNAEl-cMy21-"
      },
      "source": [
        "## 문제 1.EMNIST 학습시키기 \n",
        "\n",
        "EMNIST는 27개의 알파벳으로 이루어진 글자 데이터셋입니다.<br>\n",
        "MNIST보다 훨신 더 많은 클래스로 이루어져 있습니다.<br>\n",
        "\n"
      ]
    },
    {
      "cell_type": "code",
      "metadata": {
        "colab_type": "code",
        "id": "VNWgFdAsFchh",
        "outputId": "68ade4da-1efa-49f1-cd9e-4e9d44a1fcc5",
        "colab": {
          "base_uri": "https://localhost:8080/",
          "height": 139
        }
      },
      "source": [
        "# 데이터를 시각화 합니다.\n",
        "images, labels = extract_training_samples('letters')\n",
        "\n",
        "n_unique = len(set(labels))\n",
        "fig, axes = plt.subplots(1, n_unique)\n",
        "fig.set_size_inches(30,10)\n",
        "for ind in range(1,n_unique+1):\n",
        "    ax = axes[ind-1]\n",
        "    sample_index = np.where(labels == ind)[0][0]\n",
        "    ax.imshow(images[sample_index])\n",
        "    ax.set_title(str(ind))\n",
        "              \n",
        "plt.show()"
      ],
      "execution_count": 11,
      "outputs": [
        {
          "output_type": "display_data",
          "data": {
            "image/png": "[encoded data removed]",
            "text/plain": [
              "<Figure size 2160x720 with 26 Axes>"
            ]
          },
          "metadata": {
            "tags": []
          }
        }
      ]
    },
    {
      "cell_type": "markdown",
      "metadata": {
        "id": "JQrTYeNvPHIf",
        "colab_type": "text"
      },
      "source": [
        "아래와 같이 학습 데이터셋, 평가데이터셋, validation 데이터셋으로 나뉘어져 있습니다.<br>"
      ]
    },
    {
      "cell_type": "code",
      "metadata": {
        "id": "rHLDRLFdPHIg",
        "colab_type": "code",
        "outputId": "315ec836-c753-42bf-c334-641cc0631981",
        "colab": {
          "base_uri": "https://localhost:8080/",
          "height": 111
        }
      },
      "source": [
        "# Train-Test Dataset Split\n",
        "np.random.seed(1)\n",
        "indices = np.arange(len(images))\n",
        "np.random.shuffle(indices)\n",
        "\n",
        "test_indices = indices[:len(images)//10]\n",
        "valid_indices = indices[len(images)//10:2*len(images)//10]\n",
        "train_indices = indices[2*len(images)//10:]\n",
        "\n",
        "test_images, test_labels = images[test_indices], labels[test_indices]\n",
        "valid_images, valid_labels = images[valid_indices], labels[valid_indices]\n",
        "train_images, train_labels = images[train_indices], labels[train_indices]\n",
        "\n",
        "print(\"test 데이터 셋 수 : \",len(test_indices))\n",
        "print(\"validation 데이터 셋 수 : \",len(valid_indices))\n",
        "print(\"train 데이터 셋 수 : \",len(train_indices))\n",
        "\n",
        "\n",
        "print(len(train_labels))\n",
        "print(len(valid_labels))\n",
        "\n",
        "test_i = test_images\n",
        "train_i = train_images\n",
        "valid_i = valid_images\n",
        "\n",
        "df_test_images = pd.DataFrame(np.reshape(test_i,(-1,28*28)))\n",
        "df_train_images = pd.DataFrame(np.reshape(train_i,(-1,28*28)))\n",
        "df_valid_images = pd.DataFrame(np.reshape(valid_i,(-1,28*28)))\n",
        "\n",
        "#print(df_test_images.values[0])\n",
        "\n",
        "df_train_images = (df_train_images - df_train_images.min(axis=0)) / (df_train_images.max(axis=0) - df_train_images.min(axis=0))\n",
        "df_valid_images = (df_valid_images - df_valid_images.min(axis=0)) / (df_valid_images.max(axis=0) - df_valid_images.min(axis=0))\n",
        "df_test_images = (df_test_images - df_test_images.min(axis=0)) / (df_test_images.max(axis=0) - df_test_images.min(axis=0))\n",
        "\n",
        "#print(df_train_images.describe())\n",
        "#print(df_valid_images.describe())\n",
        "#print(df_test_images.values[0])\n",
        "#print(df_test_images.describe())"
      ],
      "execution_count": 12,
      "outputs": [
        {
          "output_type": "stream",
          "text": [
            "test 데이터 셋 수 :  12480\n",
            "validation 데이터 셋 수 :  12480\n",
            "train 데이터 셋 수 :  99840\n",
            "99840\n",
            "12480\n"
          ],
          "name": "stdout"
        }
      ]
    },
    {
      "cell_type": "code",
      "metadata": {
        "id": "KQkIT2aPNdoS",
        "colab_type": "code",
        "colab": {}
      },
      "source": [
        "df_train_images[df_train_images.isna()] = 0\n",
        "df_valid_images[df_valid_images.isna()] = 0\n",
        "df_test_images[df_test_images.isna()] = 0\n",
        "\n",
        "test_images = df_test_images\n",
        "train_images = df_train_images\n",
        "valid_images = df_valid_images\n",
        "\n",
        "#df_train_images.describe()\n",
        "#print(df_test_images.describe())"
      ],
      "execution_count": 0,
      "outputs": []
    },
    {
      "cell_type": "markdown",
      "metadata": {
        "id": "8lL77fUvPHIl",
        "colab_type": "text"
      },
      "source": [
        "### 목표\n",
        "\n",
        "> Test 데이터셋의 정확도가 **90%**가 넘는 Classification 모델을 구현해 주세요"
      ]
    },
    {
      "cell_type": "code",
      "metadata": {
        "id": "JOJWQkC0F4SM",
        "colab_type": "code",
        "colab": {}
      },
      "source": [
        "# label을 one-hot encoding하기위함(tf.onehot()이 indice에서 0부터 시작)\n",
        "valid_labels -= 1\n",
        "train_labels -= 1\n",
        "test_labels -= 1"
      ],
      "execution_count": 0,
      "outputs": []
    },
    {
      "cell_type": "code",
      "metadata": {
        "id": "fP5bOBBx9CvC",
        "colab_type": "code",
        "colab": {
          "base_uri": "https://localhost:8080/",
          "height": 36
        },
        "outputId": "119bbda1-317d-4a77-8d67-b86e3a0de515"
      },
      "source": [
        "train_labels.shape"
      ],
      "execution_count": 23,
      "outputs": [
        {
          "output_type": "execute_result",
          "data": {
            "text/plain": [
              "(99840,)"
            ]
          },
          "metadata": {
            "tags": []
          },
          "execution_count": 23
        }
      ]
    },
    {
      "cell_type": "markdown",
      "metadata": {
        "colab_type": "text",
        "id": "XZURk9HL8_fp"
      },
      "source": [
        "#### 답안지 입력란\n",
        "* 아래에 답을 서술하여 주세요"
      ]
    },
    {
      "cell_type": "code",
      "metadata": {
        "id": "hU4QG8yMPHIn",
        "colab_type": "code",
        "colab": {}
      },
      "source": [
        "class EMNIST_DNN :\n",
        "    def __init__(self):\n",
        "        self.g_emnist = tf.Graph()\n",
        "        self.units1 = 1500\n",
        "        self.units2 = 1500\n",
        "        self.units3 = 1000\n",
        "        self.units4 = 500\n",
        "        self.units5 = 100\n",
        "\n",
        "    def data_import(self, x, label) :\n",
        "        #flat, label reshape\n",
        "        x_newshape = np.reshape(x, (-1, 28*28))\n",
        "        #label = np.reshape(label, (-1,1))\n",
        "        #label = np.array(label,dtype = float32)\n",
        "        #label_onehot = tf.one_hot(label, 26)\n",
        "        #sess = tf.Session()\n",
        "        #label_onehot_ = sess.run(label_onehot)\n",
        "        return x_newshape, label\n",
        "\n",
        "    def model(self) :\n",
        "        with self.g_emnist.as_default() :\n",
        "            self.xs = tf.placeholder(dtype = tf.float32, shape=[None,28*28], name='xs')\n",
        "            self.labels_raw = tf.placeholder(dtype=tf.int32, shape=[None], name='labels_')\n",
        "            self.labels_ = tf.one_hot(self.labels_raw, 26)\n",
        "            self.hidden1 = tf.layers.Dense(units=self.units1, activation=tf.nn.relu, \n",
        "                                           kernel_initializer=tf.random_normal_initializer(mean=0, stddev=tf.sqrt(2/self.units1)),\n",
        "                                           name=\"hidden1\")(self.xs)\n",
        "            self.hidden2 = tf.layers.Dense(units=self.units2, activation=tf.nn.relu,\n",
        "                                           kernel_initializer=tf.random_normal_initializer(mean=0, stddev=tf.sqrt(2/self.units2)),\n",
        "                                           name=\"hidden2\")(self.hidden1)\n",
        "            self.hidden3 = tf.layers.Dense(units=self.units3, activation=tf.nn.relu,\n",
        "                                           kernel_initializer=tf.random_normal_initializer(mean=0, stddev=tf.sqrt(2/self.units3)),\n",
        "                                           name=\"hidden3\")(self.hidden2)\n",
        "            self.hidden4 = tf.layers.Dense(units=self.units4, activation=tf.nn.relu,\n",
        "                                           kernel_initializer=tf.random_normal_initializer(mean=0, stddev=tf.sqrt(2/self.units4)),\n",
        "                                           name=\"hidden4\")(self.hidden3)\n",
        "            self.hidden5 = tf.layers.Dense(units=self.units5, activation=tf.nn.relu,\n",
        "                                            kernel_initializer=tf.random_normal_initializer(mean=0, stddev=tf.sqrt(2/self.units5)),\n",
        "                                           name=\"hidden5\")(self.hidden4)\n",
        "            self.out = tf.layers.Dense(units=26 ,name=\"out\")(self.hidden5)\n",
        "\n",
        "    def loss_acc_cal(self) :\n",
        "        with self.g_emnist.as_default() :\n",
        "            print(self.out)\n",
        "            self.loss = tf.losses.softmax_cross_entropy(self.labels_, self.out)\n",
        "            self.soft_max_out = tf.nn.softmax(self.out, name='soft_max')\n",
        "            self.acc = tf.reduce_mean(tf.cast(tf.equal(tf.argmax(self.soft_max_out, axis = 1),\n",
        "                                                       tf.argmax(self.labels_, axis=1)), tf.float32), axis=0, name='acc')\n",
        "\n",
        "    def train(self, train_num, learning_rate) :\n",
        "        self.train_num = train_num\n",
        "        self.learning_rate = learning_rate\n",
        "        self.xs_, self.ys_ = self.data_import(train_images, train_labels)\n",
        "        self.xs_val, self.ys_val = self.data_import(valid_images, valid_labels)\n",
        "        self.xs_test, self.ys_test = self.data_import(test_images, test_labels)\n",
        "        self.loss_list = []\n",
        "        self.acc_list = []\n",
        "        self.vali_loss_list = []\n",
        "        self.vali_acc_list = []\n",
        "        self.loss_acc_cal()\n",
        "        with self.g_emnist.as_default() :\n",
        "            saver = tf.train.Saver()\n",
        "            self.train_op = tf.train.AdamOptimizer(learning_rate).minimize(self.loss)\n",
        "            with tf.Session(graph = self.g_emnist) as sess :\n",
        "                train_var = tf.get_collection(tf.GraphKeys.TRAINABLE_VARIABLES)\n",
        "                print(train_var)\n",
        "                sess.run(tf.global_variables_initializer())\n",
        "                sess.run(tf.variables_initializer(train_var))\n",
        "                for epoch in range(train_num):\n",
        "                    _, loss_, acc_ = sess.run([self.train_op, self.loss, self.acc],\n",
        "                                              feed_dict={self.xs : self.xs_,\n",
        "                                                         self.labels_raw : self.ys_})\n",
        "                    if epoch %10 == 0 :\n",
        "                        print(\"train_loss : {:<10.3f}, train_acc : {:<10.3f}\".format(loss_, acc_))\n",
        "                        self.loss_list.append(loss_)\n",
        "                        self.acc_list.append(acc_)\n",
        "                    if epoch % 50 == 0 :\n",
        "                        loss_val, acc_val = sess.run([self.loss, self.acc],\n",
        "                                                     feed_dict={self.xs : self.xs_val,\n",
        "                                                                self.labels_raw : self.ys_val})\n",
        "                        print(\"valid_loss : {:<10.3f}, valid_acc : {:<10.3f}\".format(loss_val, acc_val))\n",
        "                        print(\"Epoch : {:<10}\".format(epoch))\n",
        "                        print(\"===========================================\")\n",
        "                        self.vali_loss_list.append(loss_val)\n",
        "                        self.vali_acc_list.append(acc_val)\n",
        "                    if self.vali_acc_list[-1] > 0.9:\n",
        "                        print(\"validation acc: \" ,self.vali_acc_list[-1])\n",
        "                        saver.save(sess, \"./tmp\", global_step = epoch)\n",
        "                        break;\n",
        "        \n",
        "    def visualize(self) :\n",
        "        fig = plt.figure(figsize=(10,5))\n",
        "        ax1 = fig.add_subplot(1,2,1)\n",
        "        ax1.plot(np.arange(0, len(self.loss_list)), self.loss_list)\n",
        "        ax1.plot(np.linspace(0, len(self.loss_list), len(self.vali_loss_list)), self.vali_loss_list)\n",
        "        \n",
        "        ax2 = fig.add_subplot(1,2,2)\n",
        "        ax2.plot(np.arange(0, len(self.acc_list)), self.acc_list)\n",
        "        ax2.plot(np.linspace(0, len(self.acc_list), len(self.vali_acc_list), self.vali_acc_list), self.vali_acc_list)\n",
        "          "
      ],
      "execution_count": 0,
      "outputs": []
    },
    {
      "cell_type": "code",
      "metadata": {
        "id": "jy_ThH28S8tB",
        "colab_type": "code",
        "outputId": "21b7434a-f303-4206-cd66-161dbc677393",
        "colab": {
          "base_uri": "https://localhost:8080/",
          "height": 1277
        }
      },
      "source": [
        "dnn1 = EMNIST_DNN()\n",
        "dnn1.model()\n",
        "dnn1.train(500, 0.0001)\n",
        "dnn1.visualize()"
      ],
      "execution_count": 31,
      "outputs": [
        {
          "output_type": "stream",
          "text": [
            "Tensor(\"out/BiasAdd:0\", shape=(?, 26), dtype=float32)\n",
            "WARNING:tensorflow:From /usr/local/lib/python3.6/dist-packages/tensorflow/python/ops/losses/losses_impl.py:209: to_float (from tensorflow.python.ops.math_ops) is deprecated and will be removed in a future version.\n",
            "Instructions for updating:\n",
            "Use tf.cast instead.\n",
            "[<tf.Variable 'hidden1/kernel:0' shape=(784, 1500) dtype=float32_ref>, <tf.Variable 'hidden1/bias:0' shape=(1500,) dtype=float32_ref>, <tf.Variable 'hidden2/kernel:0' shape=(1500, 1500) dtype=float32_ref>, <tf.Variable 'hidden2/bias:0' shape=(1500,) dtype=float32_ref>, <tf.Variable 'hidden3/kernel:0' shape=(1500, 1000) dtype=float32_ref>, <tf.Variable 'hidden3/bias:0' shape=(1000,) dtype=float32_ref>, <tf.Variable 'hidden4/kernel:0' shape=(1000, 500) dtype=float32_ref>, <tf.Variable 'hidden4/bias:0' shape=(500,) dtype=float32_ref>, <tf.Variable 'hidden5/kernel:0' shape=(500, 100) dtype=float32_ref>, <tf.Variable 'hidden5/bias:0' shape=(100,) dtype=float32_ref>, <tf.Variable 'out/kernel:0' shape=(100, 26) dtype=float32_ref>, <tf.Variable 'out/bias:0' shape=(26,) dtype=float32_ref>]\n",
            "train_loss : 4.527     , train_acc : 0.038     \n",
            "valid_loss : 3.693     , valid_acc : 0.053     \n",
            "Epoch : 0         \n",
            "===========================================\n",
            "train_loss : 2.310     , train_acc : 0.417     \n",
            "train_loss : 1.527     , train_acc : 0.581     \n",
            "train_loss : 1.124     , train_acc : 0.681     \n",
            "train_loss : 0.885     , train_acc : 0.746     \n",
            "train_loss : 0.730     , train_acc : 0.789     \n",
            "valid_loss : 0.766     , valid_acc : 0.782     \n",
            "Epoch : 50        \n",
            "===========================================\n",
            "train_loss : 0.619     , train_acc : 0.820     \n",
            "train_loss : 0.536     , train_acc : 0.844     \n",
            "train_loss : 0.470     , train_acc : 0.863     \n",
            "train_loss : 0.416     , train_acc : 0.879     \n",
            "train_loss : 0.371     , train_acc : 0.892     \n",
            "valid_loss : 0.463     , valid_acc : 0.863     \n",
            "Epoch : 100       \n",
            "===========================================\n",
            "train_loss : 0.333     , train_acc : 0.903     \n",
            "train_loss : 0.301     , train_acc : 0.913     \n",
            "train_loss : 0.276     , train_acc : 0.920     \n",
            "train_loss : 0.253     , train_acc : 0.927     \n",
            "train_loss : 0.233     , train_acc : 0.933     \n",
            "valid_loss : 0.373     , valid_acc : 0.888     \n",
            "Epoch : 150       \n",
            "===========================================\n",
            "train_loss : 0.215     , train_acc : 0.939     \n",
            "train_loss : 0.200     , train_acc : 0.943     \n",
            "train_loss : 0.186     , train_acc : 0.948     \n",
            "train_loss : 0.173     , train_acc : 0.952     \n",
            "train_loss : 0.162     , train_acc : 0.956     \n",
            "valid_loss : 0.341     , valid_acc : 0.897     \n",
            "Epoch : 200       \n",
            "===========================================\n",
            "train_loss : 0.152     , train_acc : 0.959     \n",
            "train_loss : 0.142     , train_acc : 0.962     \n",
            "train_loss : 0.133     , train_acc : 0.965     \n",
            "train_loss : 0.125     , train_acc : 0.968     \n",
            "train_loss : 0.117     , train_acc : 0.970     \n",
            "valid_loss : 0.327     , valid_acc : 0.901     \n",
            "Epoch : 250       \n",
            "===========================================\n",
            "validation acc:  0.9008013\n"
          ],
          "name": "stdout"
        },
        {
          "output_type": "display_data",
          "data": {
            "image/png": "[encoded data removed]",
            "text/plain": [
              "<Figure size 720x360 with 2 Axes>"
            ]
          },
          "metadata": {
            "tags": []
          }
        }
      ]
    },
    {
      "cell_type": "code",
      "metadata": {
        "id": "n4CZGAYPWHuI",
        "colab_type": "code",
        "outputId": "c061335f-8a9b-458c-ba26-49c78221d847",
        "colab": {
          "base_uri": "https://localhost:8080/",
          "height": 323
        }
      },
      "source": [
        "dnn1.visualize()"
      ],
      "execution_count": 0,
      "outputs": [
        {
          "output_type": "display_data",
          "data": {
            "image/png": "[encoded data removed]",
            "text/plain": [
              "<Figure size 720x360 with 2 Axes>"
            ]
          },
          "metadata": {
            "tags": []
          }
        }
      ]
    },
    {
      "cell_type": "code",
      "metadata": {
        "id": "7SFJsqtQA8bV",
        "colab_type": "code",
        "outputId": "a9be9dc3-7eae-42dd-c87f-2e96c2d45e21",
        "colab": {
          "base_uri": "https://localhost:8080/",
          "height": 72
        }
      },
      "source": [
        "from tensorflow.python.training import checkpoint_utils as cp\n",
        "print('저장된 변수의 이름을 불러옵니다')\n",
        "var_names = cp.list_variables('./tmp-265')\n",
        "print('저장된 변수의 이름 {}'.format(var_names))"
      ],
      "execution_count": 0,
      "outputs": [
        {
          "output_type": "stream",
          "text": [
            "저장된 변수의 이름을 불러옵니다\n",
            "저장된 변수의 이름 [('hidden1/bias', [1500]), ('hidden1/kernel', [784, 1500]), ('hidden2/bias', [1500]), ('hidden2/kernel', [1500, 1500]), ('hidden3/bias', [1000]), ('hidden3/kernel', [1500, 1000]), ('hidden4/bias', [500]), ('hidden4/kernel', [1000, 500]), ('hidden5/bias', [100]), ('hidden5/kernel', [500, 100]), ('out/bias', [26]), ('out/kernel', [100, 26])]\n"
          ],
          "name": "stdout"
        }
      ]
    },
    {
      "cell_type": "code",
      "metadata": {
        "id": "8Yq3VTphj4eg",
        "colab_type": "code",
        "outputId": "81d85e03-4456-4287-c78f-cb06c0c13dc9",
        "colab": {
          "base_uri": "https://localhost:8080/",
          "height": 131
        }
      },
      "source": [
        "#test set 검증을 위한 model restore\n",
        "def data_import_test(x, label) :\n",
        "    #flat, label reshape\n",
        "    x_newshape = np.reshape(x, (-1, 28*28))\n",
        "    #label_onehot = tf.one_hot(label, 26)\n",
        "    #sess = tf.Session()\n",
        "    #label_onehot_ = sess.run(label_onehot)\n",
        "    return x_newshape, label\n",
        "\n",
        "def test() :\n",
        "    with tf.Session() as sess :\n",
        "        xs_test, ys_test = data_import_test(test_images, test_labels)\n",
        "        test_saver = tf.train.import_meta_graph(\"./tmp-250.meta\")\n",
        "        test_saver.restore(sess, \"./tmp-250\")\n",
        "        g_test = tf.get_default_graph()\n",
        "        #loss_test = g_test.get_tensor_by_name(name = \"loss:0\")\n",
        "        loss_test = g_test.get_collection(tf.GraphKeys.LOSSES)\n",
        "        acc_test = g_test.get_tensor_by_name(name = \"acc:0\")\n",
        "        xs_test_p = g_test.get_tensor_by_name(name = \"xs:0\")\n",
        "        labels_test_p = g_test.get_tensor_by_name(name = \"labels_:0\")\n",
        "        loss_t, acc_t = sess.run([loss_test, acc_test], feed_dict = {xs_test_p : xs_test,\n",
        "                                                                    labels_test_p : ys_test})\n",
        "        print(\"test accuracy : {:<10.3f}\".format(acc_t))\n",
        "test()"
      ],
      "execution_count": 32,
      "outputs": [
        {
          "output_type": "stream",
          "text": [
            "WARNING:tensorflow:From /usr/local/lib/python3.6/dist-packages/tensorflow/python/training/saver.py:1266: checkpoint_exists (from tensorflow.python.training.checkpoint_management) is deprecated and will be removed in a future version.\n",
            "Instructions for updating:\n",
            "Use standard file APIs to check for files with this prefix.\n",
            "INFO:tensorflow:Restoring parameters from ./tmp-250\n",
            "test accuracy : 0.899     \n"
          ],
          "name": "stdout"
        }
      ]
    },
    {
      "cell_type": "markdown",
      "metadata": {
        "id": "NmqpjYe116YY",
        "colab_type": "text"
      },
      "source": [
        ""
      ]
    },
    {
      "cell_type": "markdown",
      "metadata": {
        "colab_type": "text",
        "id": "3IzIVKHoYgiV"
      },
      "source": [
        "#  \n",
        "\n",
        "<hr>\n",
        "<div style = \"background-image: url('https://algorithmai.io/static/media/logo.665798c4.png');background-repeat: no-repeat; background-position: right; background-size: 220px 40px; padding : 5px 10px 5px 5px;\">\n",
        "    Copyright(c) 2019 by Public AI. All rights reserved.<br>\n",
        "    Writen by PAI, SangJae Kang ( rocketgrowthsj@publicai.co.kr )  last updated on 2019/04/17\n",
        "</div>\n",
        "<hr>"
      ]
    }
  ]
}