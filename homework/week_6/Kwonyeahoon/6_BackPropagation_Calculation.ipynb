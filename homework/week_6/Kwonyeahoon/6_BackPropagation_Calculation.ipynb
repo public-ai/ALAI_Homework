{
  "nbformat": 4,
  "nbformat_minor": 0,
  "metadata": {
    "colab": {
      "name": "6_BackPropagation Calculation.ipynb",
      "version": "0.3.2",
      "provenance": [],
      "collapsed_sections": []
    },
    "language_info": {
      "codemirror_mode": {
        "name": "ipython",
        "version": 3
      },
      "file_extension": ".py",
      "mimetype": "text/x-python",
      "name": "python",
      "nbconvert_exporter": "python",
      "pygments_lexer": "ipython3",
      "version": "3.6.5"
    },
    "kernelspec": {
      "display_name": "Python 3",
      "language": "python",
      "name": "python3"
    }
  },
  "cells": [
    {
      "cell_type": "code",
      "metadata": {
        "id": "UX56ZbF-0ErC",
        "colab_type": "code",
        "colab": {}
      },
      "source": [
        "import numpy as np "
      ],
      "execution_count": 0,
      "outputs": []
    },
    {
      "cell_type": "markdown",
      "metadata": {
        "colab_type": "text",
        "id": "5v7pT4hd34dN"
      },
      "source": [
        "## 연습문제  1<br>\n",
        "x = 1 , y = 2 , z =3 일 때 answer1 에 $\\frac{\\partial z}{\\partial x }$ 값을 넣어주세요<br>\n",
        "![Imgur](https://i.imgur.com/fsNYUzF.png)"
      ]
    },
    {
      "cell_type": "markdown",
      "metadata": {
        "colab_type": "text",
        "id": "ivK4bPMDDdxN"
      },
      "source": [
        "#### 답안지 입력란\n",
        "* 아래에 답을 서술하여 주세요\n",
        "* `answer1`에 정답을 담아주세요"
      ]
    },
    {
      "cell_type": "code",
      "metadata": {
        "colab_type": "code",
        "id": "yqpS0pvyDdxO",
        "colab": {}
      },
      "source": [
        "# 정답을 입력해 주세요\n",
        "answer1 = 1\n"
      ],
      "execution_count": 0,
      "outputs": []
    },
    {
      "cell_type": "markdown",
      "metadata": {
        "colab_type": "text",
        "id": "glox4LX9Dge_"
      },
      "source": [
        "#### 정답 확인\n",
        "* 정답을 입력한 후, 아래를 실행시키면 정답인지 확인합니다."
      ]
    },
    {
      "cell_type": "code",
      "metadata": {
        "colab_type": "code",
        "id": "PUlvZVHDDge_",
        "outputId": "5b4f42c0-41d2-47f6-90d4-1ffe55ea5961",
        "colab": {
          "base_uri": "https://localhost:8080/",
          "height": 34
        }
      },
      "source": [
        "assert 'answer1' in globals(), \"answer1에 값을 담았는지 확인해주세요\"\n",
        "\n",
        "if answer1 == 1:\n",
        "    print(\"정답입니다!!!!\")\n",
        "else:\n",
        "    raise ValueError(\"x가 1인지 확인해 주세요\")"
      ],
      "execution_count": 5,
      "outputs": [
        {
          "output_type": "stream",
          "text": [
            "정답입니다!!!!\n"
          ],
          "name": "stdout"
        }
      ]
    },
    {
      "cell_type": "markdown",
      "metadata": {
        "colab_type": "text",
        "id": "R6db2cCysOWI"
      },
      "source": [
        "\n",
        "## 연습문제  2<br>\n",
        "x = 1 , y = 2 , z =3 일 때 answer1 에 $\\frac{\\partial z}{\\partial y }$ 값을 넣어주세요<br>\n",
        "\n",
        "![Imgur](https://i.imgur.com/q2bcePY.png)"
      ]
    },
    {
      "cell_type": "markdown",
      "metadata": {
        "colab_type": "text",
        "id": "7T7GmfEAsYNz"
      },
      "source": [
        "#### 답안지 입력란\n",
        "* 아래에 답을 서술하여 주세요\n",
        "* `answer2`에 정답을 담아주세요"
      ]
    },
    {
      "cell_type": "code",
      "metadata": {
        "colab_type": "code",
        "id": "VJGxTMnEsYN0",
        "colab": {}
      },
      "source": [
        "# 정답을 입력해 주세요\n",
        "answer2 = 1\n"
      ],
      "execution_count": 0,
      "outputs": []
    },
    {
      "cell_type": "markdown",
      "metadata": {
        "colab_type": "text",
        "id": "U3Vnw_c3sYN2"
      },
      "source": [
        "#### 정답 확인\n",
        "* 정답을 입력한 후, 아래를 실행시키면 정답인지 확인합니다."
      ]
    },
    {
      "cell_type": "code",
      "metadata": {
        "colab_type": "code",
        "id": "k-CZK05YsYN4",
        "outputId": "3d6844be-7c3e-4787-bc5d-ad95b73b754d",
        "colab": {
          "base_uri": "https://localhost:8080/",
          "height": 34
        }
      },
      "source": [
        "assert 'answer2' in globals(), \"answer2에 값을 담았는지 확인해주세요\"\n",
        "\n",
        "if answer2 == 1:\n",
        "    print(\"정답입니다!!!!\")\n",
        "else:\n",
        "    raise ValueError(\"x가 1234인지 확인해 주세요\")"
      ],
      "execution_count": 7,
      "outputs": [
        {
          "output_type": "stream",
          "text": [
            "정답입니다!!!!\n"
          ],
          "name": "stdout"
        }
      ]
    },
    {
      "cell_type": "markdown",
      "metadata": {
        "colab_type": "text",
        "id": "XGDlOD-u6SFB"
      },
      "source": [
        "## 연습문제 3\n",
        "\n",
        "아래 그림은 sigmoid 표현한 graph 입니다. \n",
        "\n",
        "\n",
        "x = 3 일때 \n",
        "$\\frac{\\partial L}{\\partial x}$ 을 구해 answer3 에 넣어주세요.<br>\n",
        "\n",
        "\n",
        "![Imgur](https://i.imgur.com/MdxPuau.png)"
      ]
    },
    {
      "cell_type": "markdown",
      "metadata": {
        "colab_type": "text",
        "id": "d1VsWsZ1rQHb"
      },
      "source": [
        "#### 답안지 입력란\n",
        "* 아래에 답을 서술하여 주세요\n",
        "* `answer3`에 정답을 담아주세요"
      ]
    },
    {
      "cell_type": "code",
      "metadata": {
        "colab_type": "code",
        "id": "U0Z4_W0CrQHc",
        "colab": {}
      },
      "source": [
        "# 정답을 입력해 주세요\n",
        "#sig' = sig * (1-sig)\n",
        "answer3 = np.exp(-3) / ((1 + np.exp(-3))**2)\n"
      ],
      "execution_count": 0,
      "outputs": []
    },
    {
      "cell_type": "markdown",
      "metadata": {
        "colab_type": "text",
        "id": "SL7B9WharQHd"
      },
      "source": [
        "#### 정답 확인\n",
        "* 정답을 입력한 후, 아래를 실행시키면 정답인지 확인합니다."
      ]
    },
    {
      "cell_type": "code",
      "metadata": {
        "colab_type": "code",
        "id": "hOz_jD4jrQHd",
        "outputId": "5588b33a-914b-4029-d001-0bd7f1f07c0c",
        "colab": {
          "base_uri": "https://localhost:8080/",
          "height": 34
        }
      },
      "source": [
        "from numpy.testing import assert_almost_equal\n",
        "assert 'answer3' in globals(), \"answer3에 값을 담았는지 확인해주세요\"\n",
        "\n",
        "A = 0.045176659730912\n",
        "assert_almost_equal(answer3, A, decimal=5,\n",
        "                    err_msg=\"정답이 {} 인지 확인해 주세요\".format(A))\n",
        "print(\"정답입니다!!!!\")"
      ],
      "execution_count": 11,
      "outputs": [
        {
          "output_type": "stream",
          "text": [
            "정답입니다!!!!\n"
          ],
          "name": "stdout"
        }
      ]
    },
    {
      "cell_type": "markdown",
      "metadata": {
        "colab_type": "text",
        "id": "fkIjw-kqKVWS"
      },
      "source": [
        "## 연습문제 4\n",
        "아래 그림을 이용해서 x = 3 , y=1, Loss=2.6 일때 <br> $\\frac{\\partial loss}{\\partial W^0_{00}}$  을 구해 answer4 에 넣어주세요 \n",
        "\n",
        "\n",
        "![Imgur](https://i.imgur.com/KPr1p67.png)\n",
        "\n",
        "\n",
        "\n"
      ]
    },
    {
      "cell_type": "markdown",
      "metadata": {
        "colab_type": "text",
        "id": "Acq80B1JrQg8"
      },
      "source": [
        "#### 답안지 입력란\n",
        "* 아래에 답을 서술하여 주세요\n",
        "* `answer4`에 정답을 담아주세요"
      ]
    },
    {
      "cell_type": "code",
      "metadata": {
        "colab_type": "code",
        "id": "GLAUKwc-rQg8",
        "outputId": "fb17ece4-f55f-4978-d13e-6e74f3c73873",
        "colab": {
          "base_uri": "https://localhost:8080/",
          "height": 34
        }
      },
      "source": [
        "x = 3\n",
        "y = 1\n",
        "loss = 2.6\n",
        "\n",
        "w0 = 0.12\n",
        "w1 = 0.07\n",
        "\n",
        "#######layer#########\n",
        "z = x * w0\n",
        "a = 1 / (1 + np.exp(-z))\n",
        "\n",
        "logits = a * w1\n",
        "pred = 1 / (1 + np.exp(-logits))\n",
        "\n",
        "######back prop#######\n",
        "#dL_dpred * a\n",
        "dL_dlogits = pred - y\n",
        "dL_da = dL_dlogits * w1\n",
        "\n",
        "#dL_da * da_dz * dz_dw\n",
        "da_dz = a*(1-a)\n",
        "dz_dw = x\n",
        "dL_dw0 = dL_da * da_dz * dz_dw\n",
        "\n",
        "\n",
        "answer4 = dL_dw0\n",
        "answer4"
      ],
      "execution_count": 24,
      "outputs": [
        {
          "output_type": "execute_result",
          "data": {
            "text/plain": [
              "-0.024893594805934935"
            ]
          },
          "metadata": {
            "tags": []
          },
          "execution_count": 24
        }
      ]
    },
    {
      "cell_type": "markdown",
      "metadata": {
        "colab_type": "text",
        "id": "8sIP7P8rrQg_"
      },
      "source": [
        "#### 정답 확인\n",
        "* 정답을 입력한 후, 아래를 실행시키면 정답인지 확인합니다."
      ]
    },
    {
      "cell_type": "code",
      "metadata": {
        "colab_type": "code",
        "id": "Ymilc8dVrQg_",
        "outputId": "d7742a63-2827-4dad-a0ba-c126b78d0401",
        "colab": {
          "base_uri": "https://localhost:8080/",
          "height": 34
        }
      },
      "source": [
        "from numpy.testing import assert_almost_equal\n",
        "assert 'answer4' in globals(), \"answer4에 값을 담았는지 확인해주세요\"\n",
        "\n",
        "A = -0.024893594805934935\n",
        "assert_almost_equal(answer4, A, decimal=5,\n",
        "                    err_msg=\"정답이 {} 인지 확인해 주세요\".format(A))\n",
        "print(\"정답입니다!!!!\")"
      ],
      "execution_count": 25,
      "outputs": [
        {
          "output_type": "stream",
          "text": [
            "정답입니다!!!!\n"
          ],
          "name": "stdout"
        }
      ]
    },
    {
      "cell_type": "markdown",
      "metadata": {
        "colab_type": "text",
        "id": "_mSm38khPfUq"
      },
      "source": [
        "## 연습문제 5\n",
        "아래 그림을 이용해서 x = -3 , y=1, Loss=2.6 일때 <br> $\\frac{\\partial loss}{\\partial W^0_{00}}$  을 구해 answer4 에 넣어주세요 \n",
        "\n",
        "![Imgur](https://i.imgur.com/NxiKmSe.png)\n",
        "\n",
        "\n",
        "\n"
      ]
    },
    {
      "cell_type": "markdown",
      "metadata": {
        "colab_type": "text",
        "id": "sD8h_oA9rQ7k"
      },
      "source": [
        "#### 답안지 입력란\n",
        "* 아래에 답을 서술하여 주세요\n",
        "* `answer5`에 정답을 담아주세요"
      ]
    },
    {
      "cell_type": "code",
      "metadata": {
        "colab_type": "code",
        "id": "GAwswZ4MrQ7l",
        "colab": {}
      },
      "source": [
        "# 합성함수 미분 : dL_dw0 = dL_dpred * dpred_dlogit * dlogit_da * da_dz * dz_dw0\n",
        "x = -3\n",
        "y = 1\n",
        "loss = -2.6\n",
        "w0 = 0.12\n",
        "w1 = 0.07\n",
        "\n",
        "#forward\n",
        "z = x*w0\n",
        "a = np.where(z > 0, z, 0)\n",
        "logits = a * w1\n",
        "pred = 1 / ( 1 + np.exp(-logits))\n",
        "\n",
        "#backward\n",
        "dL_dlogits = pred - y\n",
        "dlogits_da = w1\n",
        "da_dz = np.where(z > 0 ,1, 0)\n",
        "dz_dw0 = x\n",
        "\n",
        "\n",
        "dL_dw0 = dL_dlogits * dlogit_da * da_dz * dz_dw0\n",
        "\n",
        "answer5 = dL_dw0\n",
        "\n"
      ],
      "execution_count": 0,
      "outputs": []
    },
    {
      "cell_type": "markdown",
      "metadata": {
        "colab_type": "text",
        "id": "1yt_Rb21rQ7n"
      },
      "source": [
        "#### 정답 확인\n",
        "* 정답을 입력한 후, 아래를 실행시키면 정답인지 확인합니다."
      ]
    },
    {
      "cell_type": "code",
      "metadata": {
        "colab_type": "code",
        "id": "zjZ6U9OhrQ7n",
        "outputId": "daea4b8d-2a87-4383-d433-1b441a37332c",
        "colab": {
          "base_uri": "https://localhost:8080/",
          "height": 34
        }
      },
      "source": [
        "from numpy.testing import assert_almost_equal\n",
        "assert 'answer5' in globals(), \"answer5에 값을 담았는지 확인해주세요\"\n",
        "\n",
        "A = 0.0\n",
        "assert_almost_equal(answer5, A, decimal=5,\n",
        "                    err_msg=\"정답이 {} 인지 확인해 주세요\".format(A))\n",
        "print(\"정답입니다!!!!\")"
      ],
      "execution_count": 28,
      "outputs": [
        {
          "output_type": "stream",
          "text": [
            "정답입니다!!!!\n"
          ],
          "name": "stdout"
        }
      ]
    },
    {
      "cell_type": "markdown",
      "metadata": {
        "colab_type": "text",
        "id": "7smDj1A4SwZz"
      },
      "source": [
        "## 연습문제 6\n",
        "\n",
        "아래 그림을 이용해서 x = 3 , y=1, Loss=2.6 일때 $\\frac{\\partial Loss}{\\partial X} $ 을 구해서 answer6 에 넣어주세요 "
      ]
    },
    {
      "cell_type": "markdown",
      "metadata": {
        "colab_type": "text",
        "id": "iqzUX2tRMz42"
      },
      "source": [
        "![Imgur](https://i.imgur.com/JQTcwcP.png)"
      ]
    },
    {
      "cell_type": "markdown",
      "metadata": {
        "colab_type": "text",
        "id": "C71uyQvqrRZT"
      },
      "source": [
        "#### 답안지 입력란\n",
        "* 아래에 답을 서술하여 주세요\n",
        "* `answer6`에 정답을 담아주세요"
      ]
    },
    {
      "cell_type": "code",
      "metadata": {
        "colab_type": "code",
        "id": "EdtqsPcBrRZT",
        "outputId": "7867bf1d-a6da-408d-dcfd-d7b54a109331",
        "colab": {
          "base_uri": "https://localhost:8080/",
          "height": 34
        }
      },
      "source": [
        "x = np.array(3.,ndmin=2) # (1,1)\n",
        "y = np.array(1.,ndmin=2)\n",
        "loss = 2.6\n",
        "w0 = np.array([[0.12, -0.23]]) # (1,2)\n",
        "w1 = np.array([[0.07], [0.16]]) # (2,1)\n",
        "\n",
        "#forward\n",
        "z = np.matmul(x,w0)\n",
        "a = 1/(1 + np.exp(-z))\n",
        "logits = np.matmul(a, w1)\n",
        "pred = 1 / (1 + np.exp(-logits))\n",
        "\n",
        "#backward\n",
        "dL_dlogits = pred - y\n",
        "dlogits_da = w1\n",
        "da_dz = a * (1-a)\n",
        "dz_dX = w0\n",
        "\n",
        "dL_da = np.matmul(dL_dlogits, w1.T)\n",
        "dL_dz = dL_da * da_dz\n",
        "dL_dw0 = np.matmul(dL_dz, w0.T)\n",
        "\n",
        "answer6 = dL_dw0\n",
        "answer6\n"
      ],
      "execution_count": 43,
      "outputs": [
        {
          "output_type": "execute_result",
          "data": {
            "text/plain": [
              "array([[0.00293094]])"
            ]
          },
          "metadata": {
            "tags": []
          },
          "execution_count": 43
        }
      ]
    },
    {
      "cell_type": "markdown",
      "metadata": {
        "colab_type": "text",
        "id": "utfK_UnzrRZX"
      },
      "source": [
        "#### 정답 확인\n",
        "* 정답을 입력한 후, 아래를 실행시키면 정답인지 확인합니다."
      ]
    },
    {
      "cell_type": "code",
      "metadata": {
        "colab_type": "code",
        "id": "A_Fi4n_JrRZX",
        "outputId": "7b07851c-c088-467e-893c-547ce605d039",
        "colab": {
          "base_uri": "https://localhost:8080/",
          "height": 34
        }
      },
      "source": [
        "from numpy.testing import assert_almost_equal\n",
        "assert 'answer6' in globals(), \"answer6에 값을 담았는지 확인해주세요\"\n",
        "\n",
        "A = 0.0029309415423474532\n",
        "assert_almost_equal(answer6, A, decimal=5,\n",
        "                    err_msg=\"정답이 {} 인지 확인해 주세요\".format(A))\n",
        "print(\"정답입니다!!!!\")"
      ],
      "execution_count": 44,
      "outputs": [
        {
          "output_type": "stream",
          "text": [
            "정답입니다!!!!\n"
          ],
          "name": "stdout"
        }
      ]
    },
    {
      "cell_type": "markdown",
      "metadata": {
        "colab_type": "text",
        "id": "sToezwuZmVj8"
      },
      "source": [
        "## 연습문제 7\n",
        "![Imgur](https://i.imgur.com/5Ap1SD4.png)"
      ]
    },
    {
      "cell_type": "code",
      "metadata": {
        "id": "4F9Fjhx90EwT",
        "colab_type": "code",
        "colab": {}
      },
      "source": [
        "# 우선 실행해주세요\n",
        "x = np.array([[9., 3.],\n",
        "             [3., 7.],\n",
        "             [8., 4.],\n",
        "             [2., 3.]])\n",
        "\n",
        "y = np.array([[1.],\n",
        "             [0.],\n",
        "             [1.],\n",
        "             [0.]])\n",
        "\n",
        "\n",
        "w0 = np.array([[0.3, -0.7],\n",
        "               [0.6, 0.4]])\n",
        "\n",
        "b0 = np.array([[0., 0.1]])\n",
        "\n",
        "\n",
        "\n",
        "w1 = np.array([[0.4] ,[0.6]])\n",
        "\n",
        "b1 = np.array([[0.7]])"
      ],
      "execution_count": 0,
      "outputs": []
    },
    {
      "cell_type": "markdown",
      "metadata": {
        "colab_type": "text",
        "id": "Xl-9kYJMrRy0"
      },
      "source": [
        "#### 답안지 입력란\n",
        "* 아래에 답을 서술하여 주세요\n",
        "* `answer7`에 정답을 담아주세요"
      ]
    },
    {
      "cell_type": "code",
      "metadata": {
        "id": "9-nLCAuk0ExK",
        "colab_type": "code",
        "colab": {
          "base_uri": "https://localhost:8080/",
          "height": 70
        },
        "outputId": "4f15ef53-e13d-46ae-d3f4-d1058d560755"
      },
      "source": [
        "\n",
        "#forward\n",
        "# x,w0,z,a,w1,lo,pred\n",
        "\n",
        "z = np.matmul(x,w0) + b0\n",
        "a = np.where(z>0, z, 0)\n",
        "logits = np.matmul(a, w1) + b1\n",
        "pred = 1 / (1 + np.exp(-logits))\n",
        "\n",
        "#backward\n",
        "dL_dlogits = pred - y\n",
        "dlogits_da = w1\n",
        "da_dz = np.where(z > 0, 1, 0)\n",
        "dz_dX = w0\n",
        "dz_dW0 = x\n",
        "\n",
        "dL_da = np.matmul(dL_dlogits, w1.T)\n",
        "dL_dz = dL_da * da_dz\n",
        "print(dL_dz.shape)\n",
        "dL_dW0 = np.matmul(dL_dz.T, dz_dW0)\n",
        "\n",
        "answer7 = dL_dW0\n",
        "answer7\n"
      ],
      "execution_count": 67,
      "outputs": [
        {
          "output_type": "stream",
          "text": [
            "(4, 2)\n"
          ],
          "name": "stdout"
        },
        {
          "output_type": "execute_result",
          "data": {
            "text/plain": [
              "array([[1.33583763, 3.50110016],\n",
              "       [1.73084403, 4.03863606]])"
            ]
          },
          "metadata": {
            "tags": []
          },
          "execution_count": 67
        }
      ]
    },
    {
      "cell_type": "markdown",
      "metadata": {
        "colab_type": "text",
        "id": "oJS63xqdrRy2"
      },
      "source": [
        "#### 정답 확인\n",
        "* 정답을 입력한 후, 아래를 실행시키면 정답인지 확인합니다."
      ]
    },
    {
      "cell_type": "code",
      "metadata": {
        "colab_type": "code",
        "id": "JBUA0gePrRy3",
        "outputId": "9dba8301-6750-4998-d872-0d569cae1ffb",
        "colab": {
          "base_uri": "https://localhost:8080/",
          "height": 564
        }
      },
      "source": [
        "from numpy.testing import assert_array_almost_equal\n",
        "assert 'answer7' in globals(), \"answer7 값을 담았는지 확인해주세요\"\n",
        "\n",
        "A = np.array([\n",
        "    [5.,5.],\n",
        "    [10.,10.]\n",
        "])\n",
        "\n",
        "assert_array_almost_equal(answer7, A, decimal=5,\n",
        "                          err_msg=\"정답이 {} 인지 확인해 주세요\".format(A))\n",
        "print(\"정답입니다!!!!\")"
      ],
      "execution_count": 68,
      "outputs": [
        {
          "output_type": "error",
          "ename": "AssertionError",
          "evalue": "ignored",
          "traceback": [
            "\u001b[0;31m---------------------------------------------------------------------------\u001b[0m",
            "\u001b[0;31mAssertionError\u001b[0m                            Traceback (most recent call last)",
            "\u001b[0;32m<ipython-input-68-634972b156db>\u001b[0m in \u001b[0;36m<module>\u001b[0;34m()\u001b[0m\n\u001b[1;32m      8\u001b[0m \u001b[0;34m\u001b[0m\u001b[0m\n\u001b[1;32m      9\u001b[0m assert_array_almost_equal(answer7, A, decimal=5,\n\u001b[0;32m---> 10\u001b[0;31m                           err_msg=\"정답이 {} 인지 확인해 주세요\".format(A))\n\u001b[0m\u001b[1;32m     11\u001b[0m \u001b[0mprint\u001b[0m\u001b[0;34m(\u001b[0m\u001b[0;34m\"정답입니다!!!!\"\u001b[0m\u001b[0;34m)\u001b[0m\u001b[0;34m\u001b[0m\u001b[0;34m\u001b[0m\u001b[0m\n",
            "\u001b[0;32m/usr/local/lib/python3.6/dist-packages/numpy/testing/_private/utils.py\u001b[0m in \u001b[0;36massert_array_almost_equal\u001b[0;34m(x, y, decimal, err_msg, verbose)\u001b[0m\n\u001b[1;32m   1005\u001b[0m     assert_array_compare(compare, x, y, err_msg=err_msg, verbose=verbose,\n\u001b[1;32m   1006\u001b[0m              \u001b[0mheader\u001b[0m\u001b[0;34m=\u001b[0m\u001b[0;34m(\u001b[0m\u001b[0;34m'Arrays are not almost equal to %d decimals'\u001b[0m \u001b[0;34m%\u001b[0m \u001b[0mdecimal\u001b[0m\u001b[0;34m)\u001b[0m\u001b[0;34m,\u001b[0m\u001b[0;34m\u001b[0m\u001b[0;34m\u001b[0m\u001b[0m\n\u001b[0;32m-> 1007\u001b[0;31m              precision=decimal)\n\u001b[0m\u001b[1;32m   1008\u001b[0m \u001b[0;34m\u001b[0m\u001b[0m\n\u001b[1;32m   1009\u001b[0m \u001b[0;34m\u001b[0m\u001b[0m\n",
            "\u001b[0;32m/usr/local/lib/python3.6/dist-packages/numpy/testing/_private/utils.py\u001b[0m in \u001b[0;36massert_array_compare\u001b[0;34m(comparison, x, y, err_msg, verbose, header, precision, equal_nan, equal_inf)\u001b[0m\n\u001b[1;32m    817\u001b[0m                                 \u001b[0mverbose\u001b[0m\u001b[0;34m=\u001b[0m\u001b[0mverbose\u001b[0m\u001b[0;34m,\u001b[0m \u001b[0mheader\u001b[0m\u001b[0;34m=\u001b[0m\u001b[0mheader\u001b[0m\u001b[0;34m,\u001b[0m\u001b[0;34m\u001b[0m\u001b[0;34m\u001b[0m\u001b[0m\n\u001b[1;32m    818\u001b[0m                                 names=('x', 'y'), precision=precision)\n\u001b[0;32m--> 819\u001b[0;31m             \u001b[0;32mraise\u001b[0m \u001b[0mAssertionError\u001b[0m\u001b[0;34m(\u001b[0m\u001b[0mmsg\u001b[0m\u001b[0;34m)\u001b[0m\u001b[0;34m\u001b[0m\u001b[0;34m\u001b[0m\u001b[0m\n\u001b[0m\u001b[1;32m    820\u001b[0m     \u001b[0;32mexcept\u001b[0m \u001b[0mValueError\u001b[0m\u001b[0;34m:\u001b[0m\u001b[0;34m\u001b[0m\u001b[0;34m\u001b[0m\u001b[0m\n\u001b[1;32m    821\u001b[0m         \u001b[0;32mimport\u001b[0m \u001b[0mtraceback\u001b[0m\u001b[0;34m\u001b[0m\u001b[0;34m\u001b[0m\u001b[0m\n",
            "\u001b[0;31mAssertionError\u001b[0m: \nArrays are not almost equal to 5 decimals\n정답이 [[ 5.  5.]\n [10. 10.]] 인지 확인해 주세요\nMismatch: 100%\nMax absolute difference: 8.26915597\nMax relative difference: 0.8269156\n x: array([[1.33584, 3.5011 ],\n       [1.73084, 4.03864]])\n y: array([[ 5.,  5.],\n       [10., 10.]])"
          ]
        }
      ]
    },
    {
      "cell_type": "markdown",
      "metadata": {
        "colab_type": "text",
        "id": "3IzIVKHoYgiV"
      },
      "source": [
        "#  \n",
        "\n",
        "<hr>\n",
        "<div style = \"background-image: url('https://algorithmai.io/static/media/logo.665798c4.png');background-repeat: no-repeat; background-position: right; background-size: 220px 40px; padding : 5px 10px 5px 5px;\">\n",
        "    Copyright(c) 2019 by Public AI. All rights reserved.<br>\n",
        "    Writen by PAI, SangJae Kang ( rocketgrowthsj@publicai.co.kr )  last updated on 2019/04/17\n",
        "</div>\n",
        "<hr>"
      ]
    }
  ]
}