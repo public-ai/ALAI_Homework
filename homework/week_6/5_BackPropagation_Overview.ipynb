{
  "nbformat": 4,
  "nbformat_minor": 0,
  "metadata": {
    "colab": {
      "name": "5_BackPropagation Overview.ipynb",
      "version": "0.3.2",
      "provenance": [],
      "collapsed_sections": []
    },
    "language_info": {
      "codemirror_mode": {
        "name": "ipython",
        "version": 3
      },
      "file_extension": ".py",
      "mimetype": "text/x-python",
      "name": "python",
      "nbconvert_exporter": "python",
      "pygments_lexer": "ipython3",
      "version": "3.6.5"
    },
    "kernelspec": {
      "display_name": "Python 3",
      "language": "python",
      "name": "python3"
    }
  },
  "cells": [
    {
      "cell_type": "markdown",
      "metadata": {
        "colab_type": "text",
        "id": "V5DbTV6Y8_fm"
      },
      "source": [
        "# Section 5 BackPropagation Overview \n",
        "\n",
        "### Objective\n",
        "1. 함수를 미분하는 방법에  대해 배워 봅니다."
      ]
    },
    {
      "cell_type": "code",
      "metadata": {
        "id": "i-4FsUYN0EHl",
        "colab_type": "code",
        "colab": {}
      },
      "source": [
        "import numpy as np"
      ],
      "execution_count": 0,
      "outputs": []
    },
    {
      "cell_type": "markdown",
      "metadata": {
        "colab_type": "text",
        "id": "aEr_e__eAiwb"
      },
      "source": [
        "## 문제 1. $log$ 함수 , $e^x$ 함수 미분하기 \n",
        "\n",
        "아래 공식을 이용해 ln 함수및 지수 함수를  미분하는 문제를 해결해 봅니다.<br>\n",
        "numpy 을 이용해 문제를 해결합니다<br>\n",
        "\n",
        "![Imgur](https://i.imgur.com/tpqgsae.png)\n"
      ]
    },
    {
      "cell_type": "markdown",
      "metadata": {
        "id": "_SbFxa780EH3",
        "colab_type": "text"
      },
      "source": [
        "---"
      ]
    },
    {
      "cell_type": "markdown",
      "metadata": {
        "colab_type": "text",
        "id": "Iv3xnr-rBBpc"
      },
      "source": [
        "### (1) $f(x) = log_2x$일 때 $f'(3)$을 구해주세요. <br>"
      ]
    },
    {
      "cell_type": "markdown",
      "metadata": {
        "colab_type": "text",
        "id": "ivK4bPMDDdxN"
      },
      "source": [
        "#### 답안지 입력란\n",
        "* 아래에 답을 서술하여 주세요\n",
        "* 정답은 `answer1_1`에 넣어주세요."
      ]
    },
    {
      "cell_type": "code",
      "metadata": {
        "colab_type": "code",
        "id": "yqpS0pvyDdxO",
        "colab": {}
      },
      "source": [
        "# 정답을 입력해주세요\n",
        "answer1_1 = 1/ (3 * np.log(2))\n"
      ],
      "execution_count": 0,
      "outputs": []
    },
    {
      "cell_type": "markdown",
      "metadata": {
        "colab_type": "text",
        "id": "glox4LX9Dge_"
      },
      "source": [
        "#### 정답 확인\n",
        "* 정답을 입력한 후, 아래를 실행시키면 정답인지 확인합니다."
      ]
    },
    {
      "cell_type": "code",
      "metadata": {
        "colab_type": "code",
        "id": "PUlvZVHDDge_",
        "outputId": "85937bae-1446-4a6b-9d6c-a5af0e233f4d",
        "colab": {
          "base_uri": "https://localhost:8080/",
          "height": 34
        }
      },
      "source": [
        "from numpy.testing import assert_almost_equal\n",
        "assert 'answer1_1' in globals(), \"answer1_1에 값을 담았는지 확인해주세요\"\n",
        "\n",
        "A = 0.48089834696298783\n",
        "assert_almost_equal(answer1_1,A,decimal=5,\n",
        "                    err_msg=\"정답이 {} 인지 확인해 주세요\".format(A))\n",
        "\n",
        "print(\"정답입니다!!!!\")"
      ],
      "execution_count": 3,
      "outputs": [
        {
          "output_type": "stream",
          "text": [
            "정답입니다!!!!\n"
          ],
          "name": "stdout"
        }
      ]
    },
    {
      "cell_type": "markdown",
      "metadata": {
        "id": "QATDrR4O0EKC",
        "colab_type": "text"
      },
      "source": [
        "### (2) $g(x) = 2lnx$일 때, $g'(3)$을 구해주세요.  <br>\n",
        "\n",
        "\n"
      ]
    },
    {
      "cell_type": "code",
      "metadata": {
        "id": "2iHbN1bd7S2_",
        "colab_type": "code",
        "colab": {
          "base_uri": "https://localhost:8080/",
          "height": 34
        },
        "outputId": "750b369e-238f-40af-900d-69af1334b308"
      },
      "source": [
        "2 * 1/3"
      ],
      "execution_count": 5,
      "outputs": [
        {
          "output_type": "execute_result",
          "data": {
            "text/plain": [
              "0.6666666666666666"
            ]
          },
          "metadata": {
            "tags": []
          },
          "execution_count": 5
        }
      ]
    },
    {
      "cell_type": "markdown",
      "metadata": {
        "id": "W0O7k0FA0ELM",
        "colab_type": "text"
      },
      "source": [
        "### (3) $h(x) = -3e^x$일 때, $h'(2)$을 구해주세요. <br>"
      ]
    },
    {
      "cell_type": "code",
      "metadata": {
        "id": "bpxM3KW_7pOL",
        "colab_type": "code",
        "colab": {
          "base_uri": "https://localhost:8080/",
          "height": 34
        },
        "outputId": "e0af6652-627f-4d93-a667-ac7dc9643d10"
      },
      "source": [
        "-3 * np.exp(2)"
      ],
      "execution_count": 6,
      "outputs": [
        {
          "output_type": "execute_result",
          "data": {
            "text/plain": [
              "-22.16716829679195"
            ]
          },
          "metadata": {
            "tags": []
          },
          "execution_count": 6
        }
      ]
    },
    {
      "cell_type": "markdown",
      "metadata": {
        "colab_type": "text",
        "id": "b0Hku8a98_fo"
      },
      "source": [
        "## 문제 2. Booth function 미분 하기 \n",
        "\n",
        "그리고 아래 Booth Function 수식을 변수 별($x$,$y$)로 편미분한 값을 구해주세요.\n",
        "\n",
        "Booth function <br>\n",
        "$f(x,y)=\\left(x+2y-7\\right)^{2}+\\left(2x+y-5\\right)^{2}$<br>"
      ]
    },
    {
      "cell_type": "markdown",
      "metadata": {
        "id": "efweJNAD0EL9",
        "colab_type": "text"
      },
      "source": [
        "\n",
        " $answer2\\_1 =\\frac{\\partial f(2 ,-3 )}{\\partial x }$ <br>\n",
        " $answer2\\_2 =\\frac{\\partial f(2, -3 )}{\\partial y }$ <br>\n",
        "\n"
      ]
    },
    {
      "cell_type": "markdown",
      "metadata": {
        "colab_type": "text",
        "id": "32oD_ClB-X7f"
      },
      "source": [
        "![Imgur](https://i.imgur.com/91ieZ2x.png)\n",
        "\n",
        "\n",
        "\n"
      ]
    },
    {
      "cell_type": "markdown",
      "metadata": {
        "colab_type": "text",
        "id": "XZURk9HL8_fp"
      },
      "source": [
        "#### 답안지 입력란\n",
        "* 아래에 답을 서술하여 주세요\n",
        "* x에 대한 편미분 값은 `answer2_1`에 넣어주세요.\n",
        "* y에 대한 편미분 값은 `answer2_2`에 넣어주세요."
      ]
    },
    {
      "cell_type": "code",
      "metadata": {
        "id": "LjIhCBag0EMF",
        "colab_type": "code",
        "colab": {}
      },
      "source": [
        "# 정답을 입력해 주세요\n",
        "answer2_1 = (2*(2 + (2 * -3) -7))+(4*((2*2)-3-5))\n",
        "answer2_2 = (4*(2+(2*-3)-7)) +  (2*((2 * 2) +(-3) +(-5)))"
      ],
      "execution_count": 0,
      "outputs": []
    },
    {
      "cell_type": "markdown",
      "metadata": {
        "colab_type": "text",
        "id": "bWPl2E0X8_fs"
      },
      "source": [
        "#### 정답 확인\n",
        "* 정답을 입력한 후, 아래를 실행시키면 정답인지 확인합니다."
      ]
    },
    {
      "cell_type": "code",
      "metadata": {
        "colab_type": "code",
        "id": "G9tHvvK48_ft",
        "outputId": "57eb23b7-84e1-4a21-a77b-fc7a3cd0d606",
        "colab": {
          "base_uri": "https://localhost:8080/",
          "height": 34
        }
      },
      "source": [
        "from numpy.testing import assert_almost_equal\n",
        "assert 'answer2_1' in globals(), \"answer2_1 에 값을 담았는지 확인해주세요\"\n",
        "assert 'answer2_2' in globals(), \"answer2_2 에 값을 담았는지 확인해주세요\"\n",
        "\n",
        "if answer2_1 == -38 and answer2_2 == -52:\n",
        "    print(\"정답입니다!!!!\")\n",
        "else:\n",
        "    raise ValueError(\"answer2_1이 -38 이고 answer2_2 가 -52 인지 확인해주세요\")"
      ],
      "execution_count": 8,
      "outputs": [
        {
          "output_type": "stream",
          "text": [
            "정답입니다!!!!\n"
          ],
          "name": "stdout"
        }
      ]
    },
    {
      "cell_type": "markdown",
      "metadata": {
        "colab_type": "text",
        "id": "82I_bkr1EjbI"
      },
      "source": [
        "## 문제 3. ChainRule 을 이용해 미분 하기 \n",
        "\n",
        "\n",
        "아래 함수에 대한 편미분 함수를 구해 주세요. ($\\frac{\\partial f(x,y )}{\\partial x }$ , $\\frac{\\partial f(x,y )}{\\partial y }$)<br>\n",
        "\n",
        "$g(x) = e^x$ <br>\n",
        "$h(y) = 3lny$<br>\n",
        "$f\\left(g(x), h(y)\\right)=\\left(1+h(y)\\right)\\exp \\left(-{\\frac {g(x)}{1+h(y)}}\\right)$\n",
        "\n",
        "\n",
        "\n",
        "\n",
        "그리고 문제를 풀어 (x,y)=(2,3)일 때의, 편미분 값을 구해주세요.\n",
        "\n",
        " $answer3\\_1 =\\frac{\\partial f(2 ,3 )}{\\partial x }$ <br>\n",
        " $answer3\\_2 =\\frac{\\partial f(2, 3 )}{\\partial y }$ <br>\n",
        "\n"
      ]
    },
    {
      "cell_type": "markdown",
      "metadata": {
        "colab_type": "text",
        "id": "nKTleOVKYzib"
      },
      "source": [
        "#### 답안지 입력란\n",
        "* 아래에 답을 서술하여 주세요\n",
        "* x에 대한 편미분 값은 `answer3_1`에 넣어주세요.\n",
        "* y에 대한 편미분 값은 `answer3_2`에 넣어주세요."
      ]
    },
    {
      "cell_type": "code",
      "metadata": {
        "colab_type": "code",
        "id": "nehvQ9JAYzic",
        "outputId": "f8cd1d8e-1f9f-47d4-a7a8-ef014ae113c5",
        "colab": {
          "base_uri": "https://localhost:8080/",
          "height": 52
        }
      },
      "source": [
        "h = 3 * np.log(3)\n",
        "grad_hy = 1 \n",
        "g = np.exp(2)\n",
        "grad_gx = np.exp(2)\n",
        "\n",
        "answer3_1 = np.exp(-g /(1 + h))*grad_gx\n",
        "answer3_2 = np.exp(-g /(1 + h))*(g+h+1)/(h+1) * grad_hy\n",
        "print(answer3_1)\n",
        "print(answer3_2)"
      ],
      "execution_count": 11,
      "outputs": [
        {
          "output_type": "stream",
          "text": [
            "1.3230630730762794\n",
            "0.4870443867473479\n"
          ],
          "name": "stdout"
        }
      ]
    },
    {
      "cell_type": "markdown",
      "metadata": {
        "colab_type": "text",
        "id": "ng65zQe8Yzig"
      },
      "source": [
        "#### 정답 확인\n",
        "* 정답을 입력한 후, 아래를 실행시키면 정답인지 확인합니다."
      ]
    },
    {
      "cell_type": "code",
      "metadata": {
        "colab_type": "code",
        "id": "Y4oMDsGkYzig",
        "outputId": "e7e644cc-e3b5-4223-e91e-02482c1af146",
        "colab": {
          "base_uri": "https://localhost:8080/",
          "height": 34
        }
      },
      "source": [
        "from numpy.testing import assert_almost_equal\n",
        "assert 'answer3_1' in globals(), \"answer3_1에 값을 담았는지 확인해주세요\"\n",
        "assert 'answer3_2' in globals(), \"answer3_2에 값을 담았는지 확인해주세요\"\n",
        "\n",
        "A_1 = 1.3230630730762794\n",
        "A_2 = 0.4870443867473479\n",
        "\n",
        "assert_almost_equal(answer3_1,A_1,decimal=5,\n",
        "                    err_msg=\"정답이 {} 인지 확인해 주세요\".format(A_1))\n",
        "assert_almost_equal(answer3_2,A_2,decimal=5,\n",
        "                    err_msg=\"정답이 {} 인지 확인해 주세요\".format(A_2))\n",
        "print(\"정답입니다!!!\")"
      ],
      "execution_count": 12,
      "outputs": [
        {
          "output_type": "stream",
          "text": [
            "정답입니다!!!\n"
          ],
          "name": "stdout"
        }
      ]
    },
    {
      "cell_type": "code",
      "metadata": {
        "colab_type": "code",
        "id": "Vozy5wRhb8Gl",
        "colab": {}
      },
      "source": [
        "#  \n",
        "\n",
        "<hr>\n",
        "<div style = \"background-image: url('https://algorithmai.io/static/media/logo.665798c4.png');background-repeat: no-repeat; background-position: right; background-size: 220px 40px; padding : 5px 10px 5px 5px;\">\n",
        "    Copyright(c) 2019 by Public AI. All rights reserved.<br>\n",
        "    Writen by PAI, SangJae Kang ( rocketgrowthsj@publicai.co.kr )  last updated on 2019/04/17\n",
        "</div>\n",
        "<hr>"
      ],
      "execution_count": 0,
      "outputs": []
    }
  ]
}