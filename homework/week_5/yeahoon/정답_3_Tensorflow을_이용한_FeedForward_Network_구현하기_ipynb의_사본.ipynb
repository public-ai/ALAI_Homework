{
  "nbformat": 4,
  "nbformat_minor": 0,
  "metadata": {
    "colab": {
      "name": "정답_3_Tensorflow을_이용한_FeedForward_Network_구현하기.ipynb의 사본",
      "version": "0.3.2",
      "provenance": [],
      "collapsed_sections": []
    },
    "language_info": {
      "codemirror_mode": {
        "name": "ipython",
        "version": 3
      },
      "file_extension": ".py",
      "mimetype": "text/x-python",
      "name": "python",
      "nbconvert_exporter": "python",
      "pygments_lexer": "ipython3",
      "version": "3.6.5"
    },
    "kernelspec": {
      "display_name": "Python 3",
      "language": "python",
      "name": "python3"
    }
  },
  "cells": [
    {
      "cell_type": "markdown",
      "metadata": {
        "colab_type": "text",
        "id": "0KYV3B1s8VWk"
      },
      "source": [
        "##  Tensorflow을 이용한 FeedForward Network 구현하기\n",
        "\n",
        "### _Objective_\n",
        "1. Boston Dataset 을 이용해 집값을 예측하는 딥러닝 모델을 만들어 봅니다. \n"
      ]
    },
    {
      "cell_type": "code",
      "metadata": {
        "id": "5yaaLvwLEtyy",
        "colab_type": "code",
        "colab": {}
      },
      "source": [
        "# Boston Data set import numpy as np\n",
        "import pandas as pd\n",
        "import tensorflow as tf\n",
        "import numpy as np\n",
        "import numpy.random as npr\n",
        "import matplotlib.pyplot as plt\n",
        "from sklearn.datasets import load_boston"
      ],
      "execution_count": 0,
      "outputs": []
    },
    {
      "cell_type": "markdown",
      "metadata": {
        "id": "zEfwYg6mEty-",
        "colab_type": "text"
      },
      "source": [
        "## DataSet 구성하기"
      ]
    },
    {
      "cell_type": "code",
      "metadata": {
        "id": "Iu2OvmZXEtzC",
        "colab_type": "code",
        "outputId": "a51d8ab7-cacf-4f51-e3c6-57a6fa527991",
        "colab": {
          "base_uri": "https://localhost:8080/",
          "height": 52
        }
      },
      "source": [
        "boston = load_boston()\n",
        "\n",
        "# show boston dataset\n",
        "boston_df = pd.DataFrame(boston['data'],columns=boston['feature_names'])\n",
        "boston_df['house_price'] = boston['target']\n",
        "\n",
        "# normalization\n",
        "mins = boston_df.min()\n",
        "maxs = boston_df.max()\n",
        "boston_df = (boston_df - mins) / (maxs - mins)\n",
        "print('Data Shape : ', boston_df.shape)\n",
        "\n",
        "# Input & Output Split\n",
        "xs = boston_df.iloc[:, :13].values\n",
        "ys = boston_df.iloc[:, -1].values.reshape([-1, 1])\n",
        "print('X shape : {}, Y shape : {}'.format(xs.shape, ys.shape))\n",
        "\n",
        "# 데이터 셋을 나누어 주세요. \n",
        "indices = np.asarray(range(len(xs)))\n",
        "npr.shuffle(indices)\n",
        "\n",
        "n_train = int(0.6 * len(indices))\n",
        "n_test = len(indices) - n_train\n",
        "\n",
        "train_indices , test_indices = np.split(indices, [n_train])\n",
        "\n",
        "train_xs = xs[train_indices]\n",
        "train_ys = ys[train_indices]\n",
        "test_xs = xs[test_indices]\n",
        "test_ys = ys[test_indices]"
      ],
      "execution_count": 2,
      "outputs": [
        {
          "output_type": "stream",
          "text": [
            "Data Shape :  (506, 14)\n",
            "X shape : (506, 13), Y shape : (506, 1)\n"
          ],
          "name": "stdout"
        }
      ]
    },
    {
      "cell_type": "markdown",
      "metadata": {
        "colab_type": "text",
        "id": "tpJcOSUsFJjT"
      },
      "source": [
        "## 문제 1. Boston 집값 예측 모델 구성하기\n",
        "\n",
        "* Tensorflow 을 이용해 아래 Boston 집값을 예측하는 모델을 만들어 봅니다.<br>\n",
        "\n",
        "** 구현 순서 **\n",
        "1. ** 모델 생성** <br>\n",
        "    - Weight의 초기화는 아래와 같습니다.<br>\n",
        "       * 분포 형태 : 정규분포(Normal Distribution)\n",
        "       * 평균과 표준편차 : (0, 0.1)\n",
        "\n",
        "    - Bias의 초기화는 0으로 해줍니다.<br>\n",
        "\n",
        "    - Activation Function은 모두 `relu`를 이용합니다.<br>\n",
        "\n",
        "    - 모델의 층 구성은 아래와 같습니다.<br>\n",
        " \n",
        "|layer|입력층|1번째 은닉층|2번째 은닉층|3번째 은닉층|출력층|\n",
        "|---|---|---|---|---|---|\n",
        "|shape|(None,13)|(None,64)|(None,128)|(None,256)|(None,1)|\n",
        " \n",
        "\n",
        "2. **학습하기** <br>\n",
        " - 손실함수로는 `mean squared error`를 이용해 주세요.\n",
        " - Gradient Descent 알고리즘을 이용해 학습시킵니다. 아래의 코드를 이용해 주세요.\n",
        " \n",
        " ```python\n",
        " tf.train.GradientDescentOptimizer(learning_rate=0.1).minimize(loss)\n",
        " ```\n",
        "\n",
        " - 학습률은 0.1로 둡니다.(learning rate = 0.1)<br>\n",
        " - step 은 10000 번을 수행합니다.\n",
        "\n",
        "\n",
        "3. **시각화 하기**<br>\n",
        " - train loss , test loss 을 시각화 해봅니다 .<br>\n",
        " - 예측이 정답과 얼마나 멀리 떨어져 있는지 파악하기 위해 정답값과 예측값을 하나의 plot에 시각화 합니다. <br>\n",
        " 시각화 하는 방법은 <br>  scatter 의  x 축은 정답값 ys을 넣고,   scatter y 축은 모델의 예측값을 넣습니다.  \n",
        "  $y=x$ 에서 벗어난 정도가 정답과 예측이 다른 정도 입니다."
      ]
    },
    {
      "cell_type": "markdown",
      "metadata": {
        "id": "Lbt2Y0JHEtzR",
        "colab_type": "text"
      },
      "source": [
        "#### 답안지 입력란\n",
        "* 아래에 답을 서술하여 주세요.\n"
      ]
    },
    {
      "cell_type": "code",
      "metadata": {
        "id": "-tMhz5zJEtzT",
        "colab_type": "code",
        "colab": {}
      },
      "source": [
        "g1 = tf.Graph()\n",
        "\n",
        "with g1.as_default() :\n",
        "    \n",
        "    xs = tf.placeholder(dtype = tf.float32, shape = [None, 13])\n",
        "    ys = tf.placeholder(dtype = tf.float32, shape = [None, 1])\n",
        "    \n",
        "    with tf.variable_scope(\"hidden1\") :\n",
        "        w1 = tf.Variable(tf.random_normal(shape = [13,64], mean = 0.0, stddev = 0.1))\n",
        "        b1 = tf.Variable(tf.zeros(shape = [64]))\n",
        "        mul_sum = tf.matmul(xs, w1)+b1\n",
        "        acti1 = tf.nn.relu(mul_sum)\n",
        "        \n",
        "    with tf.variable_scope(\"hidden2\") :\n",
        "        w2 = tf.Variable(tf.random_normal(shape = [64,128], mean = 0.0, stddev = 0.1))\n",
        "        b2 = tf.Variable(tf.zeros(shape = [128]))\n",
        "        mul_sum2 = tf.matmul(acti1, w2)+b2\n",
        "        acti2 = tf.nn.relu(mul_sum2)\n",
        "    \n",
        "    with tf.variable_scope(\"hidden3\") :\n",
        "        w3 = tf.Variable(tf.random_normal(shape = [128,256], mean = 0.0, stddev = 0.1))\n",
        "        b3 = tf.Variable(tf.zeros(shape = [256]))\n",
        "        mul_sum3 = tf.matmul(acti2, w3)+b3\n",
        "        acti3 = tf.nn.relu(mul_sum3)\n",
        "        \n",
        "    with tf.variable_scope(\"hidden1\") :\n",
        "        w3 = tf.Variable(tf.random_normal(shape = [256,1], mean = 0.0, stddev = 0.1))\n",
        "        pred = tf.matmul(acti3, w3)\n",
        "        \n",
        "    \n",
        "    with tf.name_scope(\"loss\") :\n",
        "        loss = tf.reduce_mean((pred - ys)**2,axis = 0)\n",
        "        \n",
        "    with tf.name_scope(\"train\") :\n",
        "        train =  tf.train.GradientDescentOptimizer(learning_rate=0.1).minimize(loss)\n",
        "\n",
        "    train_loss_list = []\n",
        "    test_loss_list = []\n",
        "    pred_train_ = 0\n",
        "    pred_test_ = 0\n",
        "    with tf.Session() as sess :\n",
        "        sess.run(tf.global_variables_initializer())\n",
        "        for i in range(1000) :\n",
        "            _, loss_, pred_ = sess.run([train, loss, pred], feed_dict = { xs : train_xs,\n",
        "                                                      ys : train_ys})\n",
        "            \n",
        "            loss_test, pred_test = sess.run([loss, pred], feed_dict = { xs : test_xs,\n",
        "                                                              ys : test_ys})\n",
        "            \n",
        "            if i % 10 == 0 :\n",
        "                train_loss_list.append(loss_)\n",
        "                test_loss_list.append(loss_test)\n",
        "        pred_train_ = pred_\n",
        "        pred_test_ = pred_test\n",
        "            \n",
        "\n",
        "            "
      ],
      "execution_count": 0,
      "outputs": []
    },
    {
      "cell_type": "code",
      "metadata": {
        "id": "STi9gXMQKxkO",
        "colab_type": "code",
        "outputId": "fb37d5c5-6451-4617-9dcf-b7ec7d0952da",
        "colab": {
          "base_uri": "https://localhost:8080/",
          "height": 341
        }
      },
      "source": [
        "fig = plt.figure(figsize = (10,5))\n",
        "ax = fig.add_subplot(1, 2, 1)\n",
        "ax.plot(train_loss_list, label = \"train_loss\")\n",
        "ax.plot(test_loss_list, label = \"test_loss\")\n",
        "ax.legend()\n",
        "\n",
        "ax2 = fig.add_subplot(1, 2, 2)\n",
        "ax2.scatter(x = train_ys, y=pred_train_, color = '#c7fdb5', label = \"train_pred\")\n",
        "ax2.scatter(x = test_ys, y=pred_test_, color = '#8e82fe', label = \"test_pred\")\n",
        "ax2.plot([0,1], color='#fe01b1')\n",
        "ax2.legend()\n"
      ],
      "execution_count": 33,
      "outputs": [
        {
          "output_type": "execute_result",
          "data": {
            "text/plain": [
              "<matplotlib.legend.Legend at 0x7fc948348908>"
            ]
          },
          "metadata": {
            "tags": []
          },
          "execution_count": 33
        },
        {
          "output_type": "display_data",
          "data": {
            "image/png": "[encoded data removed]",
            "text/plain": [
              "<Figure size 720x360 with 2 Axes>"
            ]
          },
          "metadata": {
            "tags": []
          }
        }
      ]
    },
    {
      "cell_type": "markdown",
      "metadata": {
        "id": "J1ElzOFLEtzc",
        "colab_type": "text"
      },
      "source": [
        "#### 정답확인\n",
        "\n",
        "* 아래와 같은 Loss 추이와 분포를 보이면 성공입니다.\n",
        "\n",
        "\n",
        "![Imgur](https://i.imgur.com/rokrezs.png)\n",
        " "
      ]
    },
    {
      "cell_type": "markdown",
      "metadata": {
        "colab_type": "text",
        "id": "3IzIVKHoYgiV"
      },
      "source": [
        "#  \n",
        "\n",
        "<hr>\n",
        "<div style = \"background-image: url('https://algorithmai.io/static/media/logo.665798c4.png');background-repeat: no-repeat; background-position: right; background-size: 220px 40px; padding : 5px 10px 5px 5px;\">\n",
        "    Copyright(c) 2019 by Public AI. All rights reserved.<br>\n",
        "    Writen by PAI, SangJae Kang ( rocketgrowthsj@publicai.co.kr )  last updated on 2019/04/17\n",
        "</div>\n",
        "<hr>"
      ]
    }
  ]
}