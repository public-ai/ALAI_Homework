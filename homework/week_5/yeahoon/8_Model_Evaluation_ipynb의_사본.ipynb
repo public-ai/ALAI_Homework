{
  "nbformat": 4,
  "nbformat_minor": 0,
  "metadata": {
    "colab": {
      "name": "8_Model_Evaluation_ipynb의_사본.ipynb",
      "version": "0.3.2",
      "provenance": [],
      "collapsed_sections": []
    },
    "language_info": {
      "codemirror_mode": {
        "name": "ipython",
        "version": 3
      },
      "file_extension": ".py",
      "mimetype": "text/x-python",
      "name": "python",
      "nbconvert_exporter": "python",
      "pygments_lexer": "ipython3",
      "version": "3.6.5"
    },
    "kernelspec": {
      "display_name": "Python 3",
      "language": "python",
      "name": "python3"
    }
  },
  "cells": [
    {
      "cell_type": "markdown",
      "metadata": {
        "id": "-1ILoa4uI7Vk",
        "colab_type": "text"
      },
      "source": [
        "## Section 8. Model Evaluation"
      ]
    },
    {
      "cell_type": "code",
      "metadata": {
        "id": "UGtFWW7WI7Vs",
        "colab_type": "code",
        "colab": {}
      },
      "source": [
        "import numpy as np\n",
        "import pandas as pd\n",
        "import matplotlib.pyplot as plt\n",
        "from sklearn.datasets import load_iris"
      ],
      "execution_count": 0,
      "outputs": []
    },
    {
      "cell_type": "markdown",
      "metadata": {
        "colab_type": "text",
        "id": "WuyZLdHhJ4am"
      },
      "source": [
        "## 문제 1. ROC Curve 와 AUC 구하기\n",
        "\n",
        "아래 코드는 \n",
        "IRIS 데이터 셋을 이용해  Iris Versicolour 와 Iris Virginica 을 구별하는 코드 입니다. \n",
        "\n",
        "아래 코드를 수행 했을 때 나온 데이터프레임에는 각 데이터 별로 예측값과 정답값에 대한 정보가 담겨져 있습니다. 이를 이용해 **ROC Curve** 와 **AUC ** 을 구하고 시각화 합니다. \n",
        "\n",
        "참고 \n",
        "- 음성 label 은 0 , Versicolour <br>\n",
        "- 양성 label 은 1 , Virginica 입니다. "
      ]
    },
    {
      "cell_type": "code",
      "metadata": {
        "id": "L3R1c79QI7V5",
        "colab_type": "code",
        "outputId": "a4b6df93-071f-4bb7-af50-4b478b311065",
        "colab": {
          "base_uri": "https://localhost:8080/",
          "height": 35
        }
      },
      "source": [
        "# 우선 실행해주세요\n",
        "np.random.seed(1) # 같은 결과를 보장하기 위함\n",
        "# load Iris dataset \n",
        "iris = load_iris()\n",
        "\n",
        "# XS, YS \n",
        "xs = iris['data']\n",
        "ys = iris['target']\n",
        "ys_name = iris['target_names']\n",
        "\n",
        "# extract Versicolour , Virginica dataset \n",
        "indices = np.where((ys == 1) | (ys == 2))\n",
        "xs = xs[indices]\n",
        "ys = ys[indices]\n",
        "ys = np.where(ys==1, 0, 1) \n",
        "\n",
        "# stop broadcasting\n",
        "ys = ys.reshape([-1, 1])\n",
        "\n",
        "# Normalization\n",
        "xs_norm = (xs - xs.min(axis=0)) / (xs.max(axis=0) - xs.min(axis=0))\n",
        "\n",
        "# Xs 와 np.ones 을 concatenate for broadcasting  \n",
        "xs_concat = np.concatenate([xs_norm, \n",
        "                            np.ones(shape=[xs_norm.shape[0], 1])], \n",
        "                           axis=1)\n",
        "\n",
        "# Weight \n",
        "weight = np.random.normal(size=[xs_concat.shape[-1], 1])\n",
        "\n",
        "# Training \n",
        "lr = 0.01\n",
        "for i in range(100):\n",
        "    pred = np.matmul(xs_concat, weight)\n",
        "    pred = 1 / (1 + np.exp(-pred))\n",
        "\n",
        "    # Gradient Descent\n",
        "    diff = pred - ys\n",
        "    gradients = np.matmul(xs_concat.T, diff)\n",
        "    weight = weight - gradients*lr\n",
        "    \n",
        "    # Accuracy \n",
        "    acc = np.mean((pred > 0.5) == ys)\n",
        "print(\"Final Accuracy : {:2.2f}%\".format(acc*100))\n",
        "df = pd.DataFrame({\n",
        "    \"Prediction\" : pred[:,0],\n",
        "    \"True Label\" : ys[:,0]\n",
        "})"
      ],
      "execution_count": 3,
      "outputs": [
        {
          "output_type": "stream",
          "text": [
            "Final Accuracy : 95.00%\n"
          ],
          "name": "stdout"
        }
      ]
    },
    {
      "cell_type": "code",
      "metadata": {
        "colab_type": "code",
        "id": "GDfzTpdT17Vb",
        "outputId": "69444708-91a9-4e98-9297-5954495d96e8",
        "colab": {
          "base_uri": "https://localhost:8080/",
          "height": 340
        }
      },
      "source": [
        "df.sample(10)\n",
        "#df.describe()"
      ],
      "execution_count": 4,
      "outputs": [
        {
          "output_type": "execute_result",
          "data": {
            "text/html": [
              "<div>\n",
              "<style scoped>\n",
              "    .dataframe tbody tr th:only-of-type {\n",
              "        vertical-align: middle;\n",
              "    }\n",
              "\n",
              "    .dataframe tbody tr th {\n",
              "        vertical-align: top;\n",
              "    }\n",
              "\n",
              "    .dataframe thead th {\n",
              "        text-align: right;\n",
              "    }\n",
              "</style>\n",
              "<table border=\"1\" class=\"dataframe\">\n",
              "  <thead>\n",
              "    <tr style=\"text-align: right;\">\n",
              "      <th></th>\n",
              "      <th>Prediction</th>\n",
              "      <th>True Label</th>\n",
              "    </tr>\n",
              "  </thead>\n",
              "  <tbody>\n",
              "    <tr>\n",
              "      <th>69</th>\n",
              "      <td>0.511604</td>\n",
              "      <td>1</td>\n",
              "    </tr>\n",
              "    <tr>\n",
              "      <th>46</th>\n",
              "      <td>0.168278</td>\n",
              "      <td>0</td>\n",
              "    </tr>\n",
              "    <tr>\n",
              "      <th>58</th>\n",
              "      <td>0.814259</td>\n",
              "      <td>1</td>\n",
              "    </tr>\n",
              "    <tr>\n",
              "      <th>12</th>\n",
              "      <td>0.140934</td>\n",
              "      <td>0</td>\n",
              "    </tr>\n",
              "    <tr>\n",
              "      <th>73</th>\n",
              "      <td>0.647265</td>\n",
              "      <td>1</td>\n",
              "    </tr>\n",
              "    <tr>\n",
              "      <th>98</th>\n",
              "      <td>0.835785</td>\n",
              "      <td>1</td>\n",
              "    </tr>\n",
              "    <tr>\n",
              "      <th>31</th>\n",
              "      <td>0.081775</td>\n",
              "      <td>0</td>\n",
              "    </tr>\n",
              "    <tr>\n",
              "      <th>53</th>\n",
              "      <td>0.697934</td>\n",
              "      <td>1</td>\n",
              "    </tr>\n",
              "    <tr>\n",
              "      <th>65</th>\n",
              "      <td>0.862991</td>\n",
              "      <td>1</td>\n",
              "    </tr>\n",
              "    <tr>\n",
              "      <th>96</th>\n",
              "      <td>0.744327</td>\n",
              "      <td>1</td>\n",
              "    </tr>\n",
              "  </tbody>\n",
              "</table>\n",
              "</div>"
            ],
            "text/plain": [
              "    Prediction  True Label\n",
              "69    0.511604           1\n",
              "46    0.168278           0\n",
              "58    0.814259           1\n",
              "12    0.140934           0\n",
              "73    0.647265           1\n",
              "98    0.835785           1\n",
              "31    0.081775           0\n",
              "53    0.697934           1\n",
              "65    0.862991           1\n",
              "96    0.744327           1"
            ]
          },
          "metadata": {
            "tags": []
          },
          "execution_count": 4
        }
      ]
    },
    {
      "cell_type": "markdown",
      "metadata": {
        "colab_type": "text",
        "id": "Ak0G2cLn5Jl1"
      },
      "source": [
        "#### 답안지 입력란\n",
        "* 아래에 답을 서술하여 주세요\n"
      ]
    },
    {
      "cell_type": "code",
      "metadata": {
        "colab_type": "code",
        "id": "6sCBLLA54Qc0",
        "outputId": "f6d969b8-2aa9-4732-cf93-31db49898973",
        "colab": {
          "base_uri": "https://localhost:8080/",
          "height": 35
        }
      },
      "source": [
        "# 정답을 입력해주세요\n",
        "labels = df[\"True Label\"].apply(lambda x : True if x == 1 else False)\n",
        "\n",
        "def cal_roc(cut_val) :\n",
        "    Prediction_ = df.Prediction.apply(lambda x : True if x >= cut_val else False)\n",
        "    #print(Prediction_)\n",
        "    \n",
        "    TP = Prediction_ & labels\n",
        "    TP_num = TP.sum()\n",
        "    #print(TP_num)\n",
        "\n",
        "    FN = (~Prediction_) & (labels)\n",
        "    FN_num = FN.sum()\n",
        "    #print(FN_num)\n",
        "\n",
        "    TN = (~Prediction_) & (~labels)\n",
        "    TN_num = TN.sum()\n",
        "    #print(TN_num)\n",
        "\n",
        "    FP = (Prediction_) & (~labels)\n",
        "    FP_num = FP.sum()\n",
        "    #print(FP_num)\n",
        "\n",
        "    recall = TP_num / (TP_num + FN_num) #label이 T중에 pred이 T한것\n",
        "    precision = TP_num / (FP_num + TP_num) #pred이 T중에 label이 T인것\n",
        "    \n",
        "    fpr = FP_num/(FP_num+TN_num)\n",
        "    #print(recall)\n",
        "    return recall, fpr\n",
        "\n",
        "ran = np.linspace(0.0, 1., 100)\n",
        "#print(ran)\n",
        "tpr_list = []\n",
        "fpr_list = []\n",
        "for i in ran :\n",
        "    tpr, fpr = cal_roc(i)\n",
        "    #print(re)\n",
        "    fpr_list.append(fpr)\n",
        "    tpr_list.append(tpr)\n",
        "\n"
      ],
      "execution_count": 5,
      "outputs": [
        {
          "output_type": "stream",
          "text": [
            "/usr/local/lib/python3.6/dist-packages/ipykernel_launcher.py:24: RuntimeWarning: invalid value encountered in long_scalars\n"
          ],
          "name": "stderr"
        }
      ]
    },
    {
      "cell_type": "code",
      "metadata": {
        "id": "8ns9TTjwqRxQ",
        "colab_type": "code",
        "outputId": "c39c329d-d0ae-48a4-f93a-7cf5b24aebd0",
        "colab": {
          "base_uri": "https://localhost:8080/",
          "height": 331
        }
      },
      "source": [
        "prev_t = tpr_list[0]\n",
        "prev_f = fpr_list[0]\n",
        "\n",
        "tpr_list_ = tpr_list[1:]\n",
        "fpr_list_ = fpr_list[1:]\n",
        "\n",
        "auc = 0\n",
        "for cur_t, cur_f in zip(tpr_list_, fpr_list_) :\n",
        "    t_dif =  (prev_t + cur_t)/2\n",
        "    f_dif =  prev_f - cur_f\n",
        "    seg = (t_dif * f_dif)\n",
        "    auc += seg\n",
        "    prev_f = cur_f\n",
        "    prev_t = cur_t\n",
        "\n",
        "print(auc)\n",
        "plt.title(\"ROC curve\")\n",
        "plt.plot(fpr_list, tpr_list)\n",
        "plt.xlabel(\"FPR\")\n",
        "plt.ylabel(\"TPR\")"
      ],
      "execution_count": 6,
      "outputs": [
        {
          "output_type": "stream",
          "text": [
            "0.9892000000000003\n"
          ],
          "name": "stdout"
        },
        {
          "output_type": "execute_result",
          "data": {
            "text/plain": [
              "Text(0, 0.5, 'TPR')"
            ]
          },
          "metadata": {
            "tags": []
          },
          "execution_count": 6
        },
        {
          "output_type": "display_data",
          "data": {
            "image/png": "[encoded data removed]",
            "text/plain": [
              "<Figure size 432x288 with 1 Axes>"
            ]
          },
          "metadata": {
            "tags": []
          }
        }
      ]
    },
    {
      "cell_type": "markdown",
      "metadata": {
        "colab_type": "text",
        "id": "_uPOnldhfimA"
      },
      "source": [
        "#### 정답 확인\n",
        "\n",
        "정답 : AUC , ROC curve 는 아래와 같은 그림이 나와야 정답입니다\n",
        "\n",
        "![Imgur](https://i.imgur.com/nOOc7Va.png)"
      ]
    },
    {
      "cell_type": "markdown",
      "metadata": {
        "id": "hNbsYXdBI7Wi",
        "colab_type": "text"
      },
      "source": [
        "#  \n",
        "\n",
        "---\n",
        "\n",
        "    Copyright(c) 2019 by Public AI. All rights reserved.<br>\n",
        "    Writen by PAI, SangJae Kang ( rocketgrowthsj@publicai.co.kr )  last updated on 2019/04/19\n",
        "\n",
        "---"
      ]
    }
  ]
}