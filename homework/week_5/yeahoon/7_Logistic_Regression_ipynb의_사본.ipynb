{
  "nbformat": 4,
  "nbformat_minor": 0,
  "metadata": {
    "colab": {
      "name": "7_Logistic_Regression.ipynb의 사본",
      "version": "0.3.2",
      "provenance": [],
      "collapsed_sections": []
    },
    "language_info": {
      "codemirror_mode": {
        "name": "ipython",
        "version": 3
      },
      "file_extension": ".py",
      "mimetype": "text/x-python",
      "name": "python",
      "nbconvert_exporter": "python",
      "pygments_lexer": "ipython3",
      "version": "3.6.5"
    },
    "kernelspec": {
      "display_name": "Python 3",
      "language": "python",
      "name": "python3"
    }
  },
  "cells": [
    {
      "metadata": {
        "colab_type": "text",
        "id": "elhJibfCmSEt"
      },
      "cell_type": "markdown",
      "source": [
        "## Section 7. Logistic Regression\n",
        "\n",
        "\n",
        "## Objective\n",
        "1. **분류 문제를 푸는 기본적인 머신러닝인 Logistic Regression에 대해 알아봅니다. **\n",
        "2. **실제로 구현하여 그 결과를 확인합니다.**"
      ]
    },
    {
      "metadata": {
        "id": "eOAMut94yDjT",
        "colab_type": "code",
        "colab": {}
      },
      "cell_type": "code",
      "source": [
        "%matplotlib inline\n",
        "\n",
        "import numpy as np\n",
        "import pandas as pd\n",
        "import matplotlib.pyplot as plt\n",
        "from sklearn.datasets import load_iris"
      ],
      "execution_count": 0,
      "outputs": []
    },
    {
      "metadata": {
        "colab_type": "text",
        "id": "dV8dDx31mSEu"
      },
      "cell_type": "markdown",
      "source": [
        "## 문제 1. Iris Dataset 을 이용해 Iris 종 구별(classification)하기\n",
        "\n",
        "* Iris 데이터는 4개의 features 을 가지고 있습니다.\n",
        "    1. sepal length in cm \n",
        "    2. sepal width in cm \n",
        "    3. petal length in cm \n",
        "    4. petal width in cm \n",
        "\n",
        "* Iris 데이터는 labels 은 3가지 class로 나뉘어 집니다. \n",
        "    * Iris Setosa \n",
        "    * Iris Versicolour \n",
        "    * Iris Virginica\n",
        "![Imgur](https://i.imgur.com/EO2cI4i.png)"
      ]
    },
    {
      "metadata": {
        "id": "SQMC6cOOyDja",
        "colab_type": "text"
      },
      "cell_type": "markdown",
      "source": [
        "### Requirements\n",
        "\n",
        "\n",
        "1. [Iris data](https://archive.ics.uci.edu/ml/datasets/iris) 을 이용해 \n",
        "**Numpy** 을 이용해 **Iris setosa Vs Iris Versicolour** 을 구별하는 **logistic regression** 모델을 생성 합니다.\n",
        "2. cost 와 Accuracy 을 측정 합니다. \n",
        "3. cost 와 Accuracy 을 시각화 합니다. \n"
      ]
    },
    {
      "metadata": {
        "colab_type": "code",
        "id": "RUGjWHjrvu1R",
        "outputId": "663e47a9-3130-4769-c77e-c9a8d0c81fd2",
        "colab": {
          "base_uri": "https://localhost:8080/",
          "height": 294
        }
      },
      "cell_type": "code",
      "source": [
        "# 아래 코드를 실행해 주세요\n",
        "np.random.seed(1)\n",
        "iris = load_iris()\n",
        "xs = iris['data']\n",
        "ys = iris['target']\n",
        "ys_name = iris['target_names']\n",
        "ys_name\n",
        "\n",
        "\n",
        "ys = np.reshape(ys,newshape=(-1,1))\n",
        "xs_ys = np.concatenate([xs,ys],axis=1)\n",
        "iris_data = pd.DataFrame(xs_ys, columns=['sepal_length','sepal_width','petal_length','petal_width','label'])\n",
        "bool_iris = iris_data.label < 2\n",
        "iris_data = iris_data[bool_iris]\n",
        "iris_data.describe()\n",
        "#iris_data.plot(kind = 'hist')\n",
        "\n",
        "#dataframe-> sample, describe, plot "
      ],
      "execution_count": 2,
      "outputs": [
        {
          "output_type": "execute_result",
          "data": {
            "text/html": [
              "<div>\n",
              "<style scoped>\n",
              "    .dataframe tbody tr th:only-of-type {\n",
              "        vertical-align: middle;\n",
              "    }\n",
              "\n",
              "    .dataframe tbody tr th {\n",
              "        vertical-align: top;\n",
              "    }\n",
              "\n",
              "    .dataframe thead th {\n",
              "        text-align: right;\n",
              "    }\n",
              "</style>\n",
              "<table border=\"1\" class=\"dataframe\">\n",
              "  <thead>\n",
              "    <tr style=\"text-align: right;\">\n",
              "      <th></th>\n",
              "      <th>sepal_length</th>\n",
              "      <th>sepal_width</th>\n",
              "      <th>petal_length</th>\n",
              "      <th>petal_width</th>\n",
              "      <th>label</th>\n",
              "    </tr>\n",
              "  </thead>\n",
              "  <tbody>\n",
              "    <tr>\n",
              "      <th>count</th>\n",
              "      <td>100.000000</td>\n",
              "      <td>100.000000</td>\n",
              "      <td>100.000000</td>\n",
              "      <td>100.000000</td>\n",
              "      <td>100.000000</td>\n",
              "    </tr>\n",
              "    <tr>\n",
              "      <th>mean</th>\n",
              "      <td>5.471000</td>\n",
              "      <td>3.099000</td>\n",
              "      <td>2.861000</td>\n",
              "      <td>0.786000</td>\n",
              "      <td>0.500000</td>\n",
              "    </tr>\n",
              "    <tr>\n",
              "      <th>std</th>\n",
              "      <td>0.641698</td>\n",
              "      <td>0.478739</td>\n",
              "      <td>1.449549</td>\n",
              "      <td>0.565153</td>\n",
              "      <td>0.502519</td>\n",
              "    </tr>\n",
              "    <tr>\n",
              "      <th>min</th>\n",
              "      <td>4.300000</td>\n",
              "      <td>2.000000</td>\n",
              "      <td>1.000000</td>\n",
              "      <td>0.100000</td>\n",
              "      <td>0.000000</td>\n",
              "    </tr>\n",
              "    <tr>\n",
              "      <th>25%</th>\n",
              "      <td>5.000000</td>\n",
              "      <td>2.800000</td>\n",
              "      <td>1.500000</td>\n",
              "      <td>0.200000</td>\n",
              "      <td>0.000000</td>\n",
              "    </tr>\n",
              "    <tr>\n",
              "      <th>50%</th>\n",
              "      <td>5.400000</td>\n",
              "      <td>3.050000</td>\n",
              "      <td>2.450000</td>\n",
              "      <td>0.800000</td>\n",
              "      <td>0.500000</td>\n",
              "    </tr>\n",
              "    <tr>\n",
              "      <th>75%</th>\n",
              "      <td>5.900000</td>\n",
              "      <td>3.400000</td>\n",
              "      <td>4.325000</td>\n",
              "      <td>1.300000</td>\n",
              "      <td>1.000000</td>\n",
              "    </tr>\n",
              "    <tr>\n",
              "      <th>max</th>\n",
              "      <td>7.000000</td>\n",
              "      <td>4.400000</td>\n",
              "      <td>5.100000</td>\n",
              "      <td>1.800000</td>\n",
              "      <td>1.000000</td>\n",
              "    </tr>\n",
              "  </tbody>\n",
              "</table>\n",
              "</div>"
            ],
            "text/plain": [
              "       sepal_length  sepal_width  petal_length  petal_width       label\n",
              "count    100.000000   100.000000    100.000000   100.000000  100.000000\n",
              "mean       5.471000     3.099000      2.861000     0.786000    0.500000\n",
              "std        0.641698     0.478739      1.449549     0.565153    0.502519\n",
              "min        4.300000     2.000000      1.000000     0.100000    0.000000\n",
              "25%        5.000000     2.800000      1.500000     0.200000    0.000000\n",
              "50%        5.400000     3.050000      2.450000     0.800000    0.500000\n",
              "75%        5.900000     3.400000      4.325000     1.300000    1.000000\n",
              "max        7.000000     4.400000      5.100000     1.800000    1.000000"
            ]
          },
          "metadata": {
            "tags": []
          },
          "execution_count": 2
        }
      ]
    },
    {
      "metadata": {
        "colab_type": "text",
        "id": "IraPKGMd0Lvp"
      },
      "cell_type": "markdown",
      "source": [
        "#### 답안지 입력란\n",
        "* 아래에 답을 서술하여 주세요\n"
      ]
    },
    {
      "metadata": {
        "colab_type": "code",
        "id": "AMtPt7Wzv6QT",
        "outputId": "89035912-7215-479b-9858-212ba5a1b383",
        "colab": {
          "base_uri": "https://localhost:8080/",
          "height": 361
        }
      },
      "cell_type": "code",
      "source": [
        "# 정답을 입력해 주세요\n",
        "\n",
        "lr = 0.01\n",
        "\n",
        "xs = iris_data.iloc[:, :-1]\n",
        "ys_re = iris_data.iloc[:,-1]\n",
        "ys_re = np.array(ys_re)\n",
        "xs = np.array(xs)\n",
        "\n",
        "#print(xs.min(axis=0))\n",
        "xs = (xs - xs.min(axis=0))/(xs.max(axis=0) - xs.min(axis=0))\n",
        "xs = (xs - xs.mean(axis = 0)) / xs.std(axis = 0) #point\n",
        "#print(xs.std(axis=0))\n",
        "ys = np.reshape(ys_re,(-1,1))\n",
        "#print(xs.shape)\n",
        "#print(ys.shape)\n",
        "\n",
        "w= np.random.normal(loc = 0, scale = 0.01, size = (xs.shape[1]))\n",
        "w = np.reshape(w,(-1,1))\n",
        "#print(w.shape)\n",
        "\n",
        "b = np.random.normal(loc = 0 , scale = 0.01, size = (w.shape[1]))\n",
        "\n",
        "loss_list = []\n",
        "w_list = []\n",
        "w_list.append(w)\n",
        "acc_list = []\n",
        "for i in range(100) :\n",
        "    mul = np.dot(xs,w)\n",
        "    #print(mul.shape)\n",
        "    \n",
        "    mul_bias = mul + b\n",
        "    #print(mul_bias.shape)\n",
        "\n",
        "    prob = 1/(1 + np.exp(-mul_bias))\n",
        "    #print('prob.shape',prob.shape)\n",
        "\n",
        "    cross_entro = -(np.mean((ys*np.log(prob) + (1-ys)*np.log(1-prob))))\n",
        "    loss_list.append(cross_entro)\n",
        "    \n",
        "    #acc 구현\n",
        "    bool_ys = np.where(prob > 0.5, 1, 0) #\n",
        "    acc = np.equal(ys, bool_ys).mean()\n",
        "    acc_list.append(acc)\n",
        "    #print(\"bool{}\".format(bool_ys.shape))\n",
        "    #print(\"ys{}\".format(ys.shape))\n",
        "    \n",
        "\n",
        "    del_w  = np.mean((prob - ys)*xs, axis = 0) #미분식, prob - ys\n",
        "    #print(del_w.shape)\n",
        "\n",
        "    del_w = np.reshape(del_w, (-1,1))\n",
        "    #print(del_w.shape)\n",
        "    \n",
        "    w = w - (lr*del_w)\n",
        "    w_list.append(w)\n",
        "    \n",
        "fig = plt.figure(figsize = (10,5))\n",
        "\n",
        "ax = fig.add_subplot(1,2,1)\n",
        "ax.plot(np.arange(0,100),loss_list)\n",
        "\n",
        "ax = fig.add_subplot(1,2,2)\n",
        "ax.plot(np.arange(0,100), acc_list)\n",
        "print(\"loss: {}\".format(loss_list[-1]))\n",
        "print(\"accuracy : {}\".format(acc_list[-1]))\n",
        "\n",
        "\n"
      ],
      "execution_count": 3,
      "outputs": [
        {
          "output_type": "stream",
          "text": [
            "loss: 0.31350303904318516\n",
            "accuracy : 1.0\n"
          ],
          "name": "stdout"
        },
        {
          "output_type": "display_data",
          "data": {
            "image/png": "[encoded data removed]",
            "text/plain": [
              "<Figure size 720x360 with 2 Axes>"
            ]
          },
          "metadata": {
            "tags": []
          }
        }
      ]
    },
    {
      "metadata": {
        "colab_type": "text",
        "id": "Pk9bHRvB7ydP"
      },
      "cell_type": "markdown",
      "source": [
        "#### 정답 확인\n",
        "* Cost는 0.5 아래로 떨어져야 합니다.\n",
        "* Accuracy는 100%가 나올 수 있습니다. \n",
        "\n",
        "아래와 같은 그림이 나오면 성공 입니다.\n",
        "\n",
        "\n",
        "![Imgur](https://i.imgur.com/jVvhXnY.png)"
      ]
    },
    {
      "metadata": {
        "colab_type": "code",
        "id": "wlw0Z33Z0uhj",
        "colab": {}
      },
      "cell_type": "code",
      "source": [
        "<hr>\n",
        "\n",
        "Copyright(c) 2019 by Public AI. All rights reserved.<br>\n",
        "Writen by PAI, Sangjae Kang ( rocketgrowthsj@publicai.co.kr )  last updated on 2019/02/22\n",
        "<hr>"
      ],
      "execution_count": 0,
      "outputs": []
    }
  ]
}