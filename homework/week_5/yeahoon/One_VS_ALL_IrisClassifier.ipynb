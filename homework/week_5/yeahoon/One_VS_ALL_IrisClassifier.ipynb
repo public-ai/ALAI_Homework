{
  "nbformat": 4,
  "nbformat_minor": 0,
  "metadata": {
    "colab": {
      "name": "One_VS_ALL_IrisClassifier.ipynb",
      "version": "0.3.2",
      "provenance": [],
      "collapsed_sections": []
    },
    "kernelspec": {
      "name": "python3",
      "display_name": "Python 3"
    }
  },
  "cells": [
    {
      "cell_type": "code",
      "metadata": {
        "id": "zsgaAkLgyLAs",
        "colab_type": "code",
        "outputId": "f5ee05c8-463d-4ee1-de39-72c2579317f1",
        "colab": {
          "base_uri": "https://localhost:8080/",
          "height": 36
        }
      },
      "source": [
        "%matplotlib inline\n",
        "!pip install tensorboardcolab\n",
        "import tensorboardcolab\n",
        "import numpy as np\n",
        "import pandas as pd\n",
        "import matplotlib.pyplot as plt\n",
        "import tensorflow as tf\n",
        "from sklearn.datasets import load_iris\n",
        "from sklearn.model_selection import train_test_split\n"
      ],
      "execution_count": 90,
      "outputs": [
        {
          "output_type": "stream",
          "text": [
            "Requirement already satisfied: tensorboardcolab in /usr/local/lib/python3.6/dist-packages (0.0.22)\n"
          ],
          "name": "stdout"
        }
      ]
    },
    {
      "cell_type": "markdown",
      "metadata": {
        "colab_type": "text",
        "id": "je1nCDIAtS2e"
      },
      "source": [
        " ╔══<i><b>&nbsp;Alai-DeepLearning&nbsp;</b></i>══════════════════════════════════╗\n",
        "###  &nbsp;&nbsp; **✎&nbsp;&nbsp;Week 5. machine learning basis**\n",
        "# Homework 2. Multi classification\n",
        "\n",
        "### _Objective_\n",
        "Tensorflow 을 이용해서 One Vs All 전략을 이용해 다중 classification 모델을 생성합니다.\n",
        "\n",
        "아래 순서에 맞게 프로그램을 작성해 주세요.\n",
        "1. Setosa  Vs Versicolour, Virginica 모델 구현\n",
        " - 학습시 Tensorboard 을 이용해 loss 와 accuracy 을 추적해 주세요. \n",
        " - 학습 동안 acc 가 가장 높은 모델을 저장해 주세요.\n",
        "2. Versicolour Vs Setosa, Virginica 모델 구현\n",
        "  - 학습시 Tensorboard 을 이용해 loss 와 accuracy 을 추적해 주세요. \n",
        " - 학습 동안 acc 가 가장 높은 모델을 저장해 주세요.\n",
        "3. Virginica Vs Setosa, Versicolour 모델 구현\n",
        "  - 학습시 Tensorboard 을 이용해 loss 와 accuracy 을 추적해 주세요. \n",
        " - 학습 동안 acc 가 가장 높은 모델을 저장해 주세요.\n",
        "4. 저장된 3개의 모델을 불러온 후 가장 높은 확률이 나오는 값을 선택합니다. <br>\n",
        "가령 아래의 경우 **Versicolour** 을 선택합니다.\n",
        "\n",
        "| class        | probabilty |\n",
        "|--------------|------------|\n",
        "| Setosa       | 0.7        |\n",
        "| Versicolour  | 0.9        |\n",
        "| Virginica    | 0.3        |\n",
        "\n",
        "학습이 끝난후 모든 데이터를 평가한 후 accuracy 을 측정합니다.\n",
        "\n",
        "╚═══════════════════════════════════════════════╝"
      ]
    },
    {
      "cell_type": "code",
      "metadata": {
        "id": "_VcK1tZ3V-Pi",
        "colab_type": "code",
        "colab": {
          "base_uri": "https://localhost:8080/",
          "height": 93
        },
        "outputId": "7ac7943d-1245-4898-efa7-d95b7826fe71"
      },
      "source": [
        "#np.random.seed(1)\n",
        "iris = load_iris()\n",
        "\n",
        "xs = iris['data']\n",
        "ys = iris['target']\n",
        "ys_name = iris['target_names']\n",
        "ys_name\n",
        "\n",
        "#label 만들기\n",
        "label = np.array(list(map(lambda ys : 1 if ys != one else 0, ys)))\n",
        "label = np.reshape(label, (-1,1))\n",
        "#print(label.shape)\n",
        "\n",
        "#standarization\n",
        "xs = (xs - xs.mean(axis=0))/xs.std(axis=0)\n",
        "#print(xs.std(axis=0))\n",
        "#print(xs.shape)\n",
        "\n",
        "con_xs_ys = np.concatenate((xs,label), axis = 1)\n",
        "\n",
        "#train _ test split\n",
        "train_df, test_df = train_test_split(con_xs_ys,\n",
        "                                    stratify=con_xs_ys[:,-1],\n",
        "                                    train_size=0.8)\n",
        "xs_train = train_df[:,:-1]\n",
        "print(xs_train.shape)\n",
        "label_train = train_df[:,-1]\n",
        "label_train = np.reshape(label_train, (-1,1))\n",
        "\n",
        "xs_test = test_df[:,:-1]\n",
        "label_test = test_df[:,-1]\n",
        "label_test = np.reshape(label_test, (-1,1))"
      ],
      "execution_count": 96,
      "outputs": [
        {
          "output_type": "stream",
          "text": [
            "(120, 4)\n"
          ],
          "name": "stdout"
        },
        {
          "output_type": "stream",
          "text": [
            "/usr/local/lib/python3.6/dist-packages/sklearn/model_selection/_split.py:2179: FutureWarning: From version 0.21, test_size will always complement train_size unless both are specified.\n",
            "  FutureWarning)\n"
          ],
          "name": "stderr"
        }
      ]
    },
    {
      "cell_type": "code",
      "metadata": {
        "id": "pXpJeZaEGX5O",
        "colab_type": "code",
        "outputId": "1aff4a9b-04d9-4ee3-8fef-815c53745c65",
        "colab": {
          "base_uri": "https://localhost:8080/",
          "height": 73
        }
      },
      "source": [
        "tf.reset_default_graph()\n",
        "tbc=tensorboardcolab.TensorBoardColab(graph_path='./tensorboard')\n"
      ],
      "execution_count": 97,
      "outputs": [
        {
          "output_type": "stream",
          "text": [
            "Wait for 8 seconds...\n",
            "TensorBoard link:\n",
            "http://686ea0fb.ngrok.io\n"
          ],
          "name": "stdout"
        }
      ]
    },
    {
      "cell_type": "code",
      "metadata": {
        "id": "ypPN7jjzya-e",
        "colab_type": "code",
        "outputId": "0e82d7a8-a2f2-450e-d024-30cda7ffcfc0",
        "colab": {
          "base_uri": "https://localhost:8080/",
          "height": 1563
        }
      },
      "source": [
        "#model 정의\n",
        "xs_holder = tf.placeholder(dtype=tf.float32, shape = [None, 4])\n",
        "ys_holder = tf.placeholder(dtype=tf.float32, shape = [None,1])\n",
        "w = tf.Variable(tf.random.normal(shape=[4,1], mean = 0.0, stddev = 0.1), dtype= tf.float32)\n",
        "bias = tf.Variable(tf.random.normal(shape = [1], mean = 0.0, stddev = 0.1), dtype = tf.float32)\n",
        "\n",
        "z = tf.add(tf.matmul(xs_holder,w),bias)\n",
        "\n",
        "prob = 1/(1 + tf.exp(-z))\n",
        "\n",
        "w_del = tf.reduce_mean((prob - ys_holder) * xs_holder, axis = 0)\n",
        "w_del_reshape = tf.reshape(w_del, shape = (-1,1))\n",
        "w_new = w - (0.01 * w_del_reshape)\n",
        "asig_w = tf.assign(w, w_new)\n",
        "\n",
        "b_del = tf.reduce_mean((prob - ys_holder), axis=0)\n",
        "#b_del_reshape = tf.reshape(b_del, shape = (-1))\n",
        "b_new = bias - (0.01 * b_del)\n",
        "asig_b = tf.assign(bias, b_new)\n",
        "\n",
        "train = tf.group([asig_w, asig_b])\n",
        "\n",
        "cross_entro = -(tf.reduce_mean(ys_holder*tf.log(prob) + (1-ys_holder)*tf.log(1-prob)))\n",
        "tf.summary.scalar(name = 'loss_sc' , tensor = cross_entro)\n",
        "\n",
        "cut_val = tf.constant(0.5, dtype=tf.float32)\n",
        "g_e = tf.greater_equal(prob, cut_val)\n",
        "one = tf.ones(tf.shape(g_e),dtype = tf.float32)\n",
        "zeros = tf.zeros(tf.shape(g_e), dtype = tf.float32)\n",
        "cut_res = tf.where(g_e, one, zeros)\n",
        "equ = tf.where(tf.equal(cut_res, ys_holder), one, zeros)\n",
        "acc = tf.reduce_mean(equ, axis=0)\n",
        "tf.summary.scalar(name = 'acc_sc', tensor = acc)\n",
        "\n",
        "merge = tf.summary.merge_all()\n",
        "with tf.Session() as sess :\n",
        "    sess.run(tf.global_variables_initializer())\n",
        "    writer = tf.summary.FileWriter(logdir='./tensorboard', graph = sess.graph)\n",
        "    \n",
        "    for i in range(100) :\n",
        "        _, merge_, loss_, acc_ = sess.run([train, merge, cross_entro, acc],\n",
        "                                          feed_dict = {xs_holder : xs_train,\n",
        "                                                       ys_holder : label_train})\n",
        "        \n",
        "        #acc_test = sess.run([acc], feed_dict = {xs_holder : xs_test, ys_holder : label_test})\n",
        "        \n",
        "        writer.add_summary(merge_, i)\n",
        "        \n",
        "        print(\"step : {}\".format(i))\n",
        "        print(\"train_acc : {}\".format(acc_))\n",
        "        print(\"train_loss : {}\".format(loss_))\n",
        "        #print(\"test_acc : {}\".format(acc_test))\n",
        "        print(\"-------------------\")\n",
        "        \n",
        "\n"
      ],
      "execution_count": 99,
      "outputs": [
        {
          "output_type": "error",
          "ename": "InvalidArgumentError",
          "evalue": "ignored",
          "traceback": [
            "\u001b[0;31m---------------------------------------------------------------------------\u001b[0m",
            "\u001b[0;31mInvalidArgumentError\u001b[0m                      Traceback (most recent call last)",
            "\u001b[0;32m/usr/local/lib/python3.6/dist-packages/tensorflow/python/client/session.py\u001b[0m in \u001b[0;36m_do_call\u001b[0;34m(self, fn, *args)\u001b[0m\n\u001b[1;32m   1333\u001b[0m     \u001b[0;32mtry\u001b[0m\u001b[0;34m:\u001b[0m\u001b[0;34m\u001b[0m\u001b[0;34m\u001b[0m\u001b[0m\n\u001b[0;32m-> 1334\u001b[0;31m       \u001b[0;32mreturn\u001b[0m \u001b[0mfn\u001b[0m\u001b[0;34m(\u001b[0m\u001b[0;34m*\u001b[0m\u001b[0margs\u001b[0m\u001b[0;34m)\u001b[0m\u001b[0;34m\u001b[0m\u001b[0;34m\u001b[0m\u001b[0m\n\u001b[0m\u001b[1;32m   1335\u001b[0m     \u001b[0;32mexcept\u001b[0m \u001b[0merrors\u001b[0m\u001b[0;34m.\u001b[0m\u001b[0mOpError\u001b[0m \u001b[0;32mas\u001b[0m \u001b[0me\u001b[0m\u001b[0;34m:\u001b[0m\u001b[0;34m\u001b[0m\u001b[0;34m\u001b[0m\u001b[0m\n",
            "\u001b[0;32m/usr/local/lib/python3.6/dist-packages/tensorflow/python/client/session.py\u001b[0m in \u001b[0;36m_run_fn\u001b[0;34m(feed_dict, fetch_list, target_list, options, run_metadata)\u001b[0m\n\u001b[1;32m   1318\u001b[0m       return self._call_tf_sessionrun(\n\u001b[0;32m-> 1319\u001b[0;31m           options, feed_dict, fetch_list, target_list, run_metadata)\n\u001b[0m\u001b[1;32m   1320\u001b[0m \u001b[0;34m\u001b[0m\u001b[0m\n",
            "\u001b[0;32m/usr/local/lib/python3.6/dist-packages/tensorflow/python/client/session.py\u001b[0m in \u001b[0;36m_call_tf_sessionrun\u001b[0;34m(self, options, feed_dict, fetch_list, target_list, run_metadata)\u001b[0m\n\u001b[1;32m   1406\u001b[0m         \u001b[0mself\u001b[0m\u001b[0;34m.\u001b[0m\u001b[0m_session\u001b[0m\u001b[0;34m,\u001b[0m \u001b[0moptions\u001b[0m\u001b[0;34m,\u001b[0m \u001b[0mfeed_dict\u001b[0m\u001b[0;34m,\u001b[0m \u001b[0mfetch_list\u001b[0m\u001b[0;34m,\u001b[0m \u001b[0mtarget_list\u001b[0m\u001b[0;34m,\u001b[0m\u001b[0;34m\u001b[0m\u001b[0;34m\u001b[0m\u001b[0m\n\u001b[0;32m-> 1407\u001b[0;31m         run_metadata)\n\u001b[0m\u001b[1;32m   1408\u001b[0m \u001b[0;34m\u001b[0m\u001b[0m\n",
            "\u001b[0;31mInvalidArgumentError\u001b[0m: tags and values not the same shape: [] != [1] (tag 'acc_sc')\n\t [[{{node acc_sc}}]]",
            "\nDuring handling of the above exception, another exception occurred:\n",
            "\u001b[0;31mInvalidArgumentError\u001b[0m                      Traceback (most recent call last)",
            "\u001b[0;32m<ipython-input-99-7f21676a5261>\u001b[0m in \u001b[0;36m<module>\u001b[0;34m()\u001b[0m\n\u001b[1;32m     38\u001b[0m \u001b[0;34m\u001b[0m\u001b[0m\n\u001b[1;32m     39\u001b[0m     \u001b[0;32mfor\u001b[0m \u001b[0mi\u001b[0m \u001b[0;32min\u001b[0m \u001b[0mrange\u001b[0m\u001b[0;34m(\u001b[0m\u001b[0;36m100\u001b[0m\u001b[0;34m)\u001b[0m \u001b[0;34m:\u001b[0m\u001b[0;34m\u001b[0m\u001b[0;34m\u001b[0m\u001b[0m\n\u001b[0;32m---> 40\u001b[0;31m         \u001b[0m_\u001b[0m\u001b[0;34m,\u001b[0m \u001b[0mmerge_\u001b[0m\u001b[0;34m,\u001b[0m \u001b[0mloss_\u001b[0m\u001b[0;34m,\u001b[0m \u001b[0macc_\u001b[0m \u001b[0;34m=\u001b[0m \u001b[0msess\u001b[0m\u001b[0;34m.\u001b[0m\u001b[0mrun\u001b[0m\u001b[0;34m(\u001b[0m\u001b[0;34m[\u001b[0m\u001b[0mtrain\u001b[0m\u001b[0;34m,\u001b[0m \u001b[0mmerge\u001b[0m\u001b[0;34m,\u001b[0m \u001b[0mcross_entro\u001b[0m\u001b[0;34m,\u001b[0m \u001b[0macc\u001b[0m\u001b[0;34m]\u001b[0m\u001b[0;34m,\u001b[0m\u001b[0mfeed_dict\u001b[0m \u001b[0;34m=\u001b[0m \u001b[0;34m{\u001b[0m\u001b[0mxs_holder\u001b[0m \u001b[0;34m:\u001b[0m \u001b[0mxs_train\u001b[0m\u001b[0;34m,\u001b[0m \u001b[0mys_holder\u001b[0m \u001b[0;34m:\u001b[0m \u001b[0mlabel_train\u001b[0m \u001b[0;34m}\u001b[0m\u001b[0;34m)\u001b[0m\u001b[0;34m\u001b[0m\u001b[0;34m\u001b[0m\u001b[0m\n\u001b[0m\u001b[1;32m     41\u001b[0m \u001b[0;34m\u001b[0m\u001b[0m\n\u001b[1;32m     42\u001b[0m         \u001b[0;31m#acc_test = sess.run([acc], feed_dict = {xs_holder : xs_test, ys_holder : label_test})\u001b[0m\u001b[0;34m\u001b[0m\u001b[0;34m\u001b[0m\u001b[0;34m\u001b[0m\u001b[0m\n",
            "\u001b[0;32m/usr/local/lib/python3.6/dist-packages/tensorflow/python/client/session.py\u001b[0m in \u001b[0;36mrun\u001b[0;34m(self, fetches, feed_dict, options, run_metadata)\u001b[0m\n\u001b[1;32m    927\u001b[0m     \u001b[0;32mtry\u001b[0m\u001b[0;34m:\u001b[0m\u001b[0;34m\u001b[0m\u001b[0;34m\u001b[0m\u001b[0m\n\u001b[1;32m    928\u001b[0m       result = self._run(None, fetches, feed_dict, options_ptr,\n\u001b[0;32m--> 929\u001b[0;31m                          run_metadata_ptr)\n\u001b[0m\u001b[1;32m    930\u001b[0m       \u001b[0;32mif\u001b[0m \u001b[0mrun_metadata\u001b[0m\u001b[0;34m:\u001b[0m\u001b[0;34m\u001b[0m\u001b[0;34m\u001b[0m\u001b[0m\n\u001b[1;32m    931\u001b[0m         \u001b[0mproto_data\u001b[0m \u001b[0;34m=\u001b[0m \u001b[0mtf_session\u001b[0m\u001b[0;34m.\u001b[0m\u001b[0mTF_GetBuffer\u001b[0m\u001b[0;34m(\u001b[0m\u001b[0mrun_metadata_ptr\u001b[0m\u001b[0;34m)\u001b[0m\u001b[0;34m\u001b[0m\u001b[0;34m\u001b[0m\u001b[0m\n",
            "\u001b[0;32m/usr/local/lib/python3.6/dist-packages/tensorflow/python/client/session.py\u001b[0m in \u001b[0;36m_run\u001b[0;34m(self, handle, fetches, feed_dict, options, run_metadata)\u001b[0m\n\u001b[1;32m   1150\u001b[0m     \u001b[0;32mif\u001b[0m \u001b[0mfinal_fetches\u001b[0m \u001b[0;32mor\u001b[0m \u001b[0mfinal_targets\u001b[0m \u001b[0;32mor\u001b[0m \u001b[0;34m(\u001b[0m\u001b[0mhandle\u001b[0m \u001b[0;32mand\u001b[0m \u001b[0mfeed_dict_tensor\u001b[0m\u001b[0;34m)\u001b[0m\u001b[0;34m:\u001b[0m\u001b[0;34m\u001b[0m\u001b[0;34m\u001b[0m\u001b[0m\n\u001b[1;32m   1151\u001b[0m       results = self._do_run(handle, final_targets, final_fetches,\n\u001b[0;32m-> 1152\u001b[0;31m                              feed_dict_tensor, options, run_metadata)\n\u001b[0m\u001b[1;32m   1153\u001b[0m     \u001b[0;32melse\u001b[0m\u001b[0;34m:\u001b[0m\u001b[0;34m\u001b[0m\u001b[0;34m\u001b[0m\u001b[0m\n\u001b[1;32m   1154\u001b[0m       \u001b[0mresults\u001b[0m \u001b[0;34m=\u001b[0m \u001b[0;34m[\u001b[0m\u001b[0;34m]\u001b[0m\u001b[0;34m\u001b[0m\u001b[0;34m\u001b[0m\u001b[0m\n",
            "\u001b[0;32m/usr/local/lib/python3.6/dist-packages/tensorflow/python/client/session.py\u001b[0m in \u001b[0;36m_do_run\u001b[0;34m(self, handle, target_list, fetch_list, feed_dict, options, run_metadata)\u001b[0m\n\u001b[1;32m   1326\u001b[0m     \u001b[0;32mif\u001b[0m \u001b[0mhandle\u001b[0m \u001b[0;32mis\u001b[0m \u001b[0;32mNone\u001b[0m\u001b[0;34m:\u001b[0m\u001b[0;34m\u001b[0m\u001b[0;34m\u001b[0m\u001b[0m\n\u001b[1;32m   1327\u001b[0m       return self._do_call(_run_fn, feeds, fetches, targets, options,\n\u001b[0;32m-> 1328\u001b[0;31m                            run_metadata)\n\u001b[0m\u001b[1;32m   1329\u001b[0m     \u001b[0;32melse\u001b[0m\u001b[0;34m:\u001b[0m\u001b[0;34m\u001b[0m\u001b[0;34m\u001b[0m\u001b[0m\n\u001b[1;32m   1330\u001b[0m       \u001b[0;32mreturn\u001b[0m \u001b[0mself\u001b[0m\u001b[0;34m.\u001b[0m\u001b[0m_do_call\u001b[0m\u001b[0;34m(\u001b[0m\u001b[0m_prun_fn\u001b[0m\u001b[0;34m,\u001b[0m \u001b[0mhandle\u001b[0m\u001b[0;34m,\u001b[0m \u001b[0mfeeds\u001b[0m\u001b[0;34m,\u001b[0m \u001b[0mfetches\u001b[0m\u001b[0;34m)\u001b[0m\u001b[0;34m\u001b[0m\u001b[0;34m\u001b[0m\u001b[0m\n",
            "\u001b[0;32m/usr/local/lib/python3.6/dist-packages/tensorflow/python/client/session.py\u001b[0m in \u001b[0;36m_do_call\u001b[0;34m(self, fn, *args)\u001b[0m\n\u001b[1;32m   1346\u001b[0m           \u001b[0;32mpass\u001b[0m\u001b[0;34m\u001b[0m\u001b[0;34m\u001b[0m\u001b[0m\n\u001b[1;32m   1347\u001b[0m       \u001b[0mmessage\u001b[0m \u001b[0;34m=\u001b[0m \u001b[0merror_interpolation\u001b[0m\u001b[0;34m.\u001b[0m\u001b[0minterpolate\u001b[0m\u001b[0;34m(\u001b[0m\u001b[0mmessage\u001b[0m\u001b[0;34m,\u001b[0m \u001b[0mself\u001b[0m\u001b[0;34m.\u001b[0m\u001b[0m_graph\u001b[0m\u001b[0;34m)\u001b[0m\u001b[0;34m\u001b[0m\u001b[0;34m\u001b[0m\u001b[0m\n\u001b[0;32m-> 1348\u001b[0;31m       \u001b[0;32mraise\u001b[0m \u001b[0mtype\u001b[0m\u001b[0;34m(\u001b[0m\u001b[0me\u001b[0m\u001b[0;34m)\u001b[0m\u001b[0;34m(\u001b[0m\u001b[0mnode_def\u001b[0m\u001b[0;34m,\u001b[0m \u001b[0mop\u001b[0m\u001b[0;34m,\u001b[0m \u001b[0mmessage\u001b[0m\u001b[0;34m)\u001b[0m\u001b[0;34m\u001b[0m\u001b[0;34m\u001b[0m\u001b[0m\n\u001b[0m\u001b[1;32m   1349\u001b[0m \u001b[0;34m\u001b[0m\u001b[0m\n\u001b[1;32m   1350\u001b[0m   \u001b[0;32mdef\u001b[0m \u001b[0m_extend_graph\u001b[0m\u001b[0;34m(\u001b[0m\u001b[0mself\u001b[0m\u001b[0;34m)\u001b[0m\u001b[0;34m:\u001b[0m\u001b[0;34m\u001b[0m\u001b[0;34m\u001b[0m\u001b[0m\n",
            "\u001b[0;31mInvalidArgumentError\u001b[0m: tags and values not the same shape: [] != [1] (tag 'acc_sc')\n\t [[node acc_sc (defined at <ipython-input-99-7f21676a5261>:32) ]]\n\nCaused by op 'acc_sc', defined at:\n  File \"/usr/lib/python3.6/runpy.py\", line 193, in _run_module_as_main\n    \"__main__\", mod_spec)\n  File \"/usr/lib/python3.6/runpy.py\", line 85, in _run_code\n    exec(code, run_globals)\n  File \"/usr/local/lib/python3.6/dist-packages/ipykernel_launcher.py\", line 16, in <module>\n    app.launch_new_instance()\n  File \"/usr/local/lib/python3.6/dist-packages/traitlets/config/application.py\", line 658, in launch_instance\n    app.start()\n  File \"/usr/local/lib/python3.6/dist-packages/ipykernel/kernelapp.py\", line 477, in start\n    ioloop.IOLoop.instance().start()\n  File \"/usr/local/lib/python3.6/dist-packages/tornado/ioloop.py\", line 888, in start\n    handler_func(fd_obj, events)\n  File \"/usr/local/lib/python3.6/dist-packages/tornado/stack_context.py\", line 277, in null_wrapper\n    return fn(*args, **kwargs)\n  File \"/usr/local/lib/python3.6/dist-packages/zmq/eventloop/zmqstream.py\", line 450, in _handle_events\n    self._handle_recv()\n  File \"/usr/local/lib/python3.6/dist-packages/zmq/eventloop/zmqstream.py\", line 480, in _handle_recv\n    self._run_callback(callback, msg)\n  File \"/usr/local/lib/python3.6/dist-packages/zmq/eventloop/zmqstream.py\", line 432, in _run_callback\n    callback(*args, **kwargs)\n  File \"/usr/local/lib/python3.6/dist-packages/tornado/stack_context.py\", line 277, in null_wrapper\n    return fn(*args, **kwargs)\n  File \"/usr/local/lib/python3.6/dist-packages/ipykernel/kernelbase.py\", line 283, in dispatcher\n    return self.dispatch_shell(stream, msg)\n  File \"/usr/local/lib/python3.6/dist-packages/ipykernel/kernelbase.py\", line 235, in dispatch_shell\n    handler(stream, idents, msg)\n  File \"/usr/local/lib/python3.6/dist-packages/ipykernel/kernelbase.py\", line 399, in execute_request\n    user_expressions, allow_stdin)\n  File \"/usr/local/lib/python3.6/dist-packages/ipykernel/ipkernel.py\", line 196, in do_execute\n    res = shell.run_cell(code, store_history=store_history, silent=silent)\n  File \"/usr/local/lib/python3.6/dist-packages/ipykernel/zmqshell.py\", line 533, in run_cell\n    return super(ZMQInteractiveShell, self).run_cell(*args, **kwargs)\n  File \"/usr/local/lib/python3.6/dist-packages/IPython/core/interactiveshell.py\", line 2718, in run_cell\n    interactivity=interactivity, compiler=compiler, result=result)\n  File \"/usr/local/lib/python3.6/dist-packages/IPython/core/interactiveshell.py\", line 2822, in run_ast_nodes\n    if self.run_code(code, result):\n  File \"/usr/local/lib/python3.6/dist-packages/IPython/core/interactiveshell.py\", line 2882, in run_code\n    exec(code_obj, self.user_global_ns, self.user_ns)\n  File \"<ipython-input-99-7f21676a5261>\", line 32, in <module>\n    tf.summary.scalar(name = 'acc_sc', tensor = acc)\n  File \"/usr/local/lib/python3.6/dist-packages/tensorflow/python/summary/summary.py\", line 80, in scalar\n    val = _gen_logging_ops.scalar_summary(tags=tag, values=tensor, name=scope)\n  File \"/usr/local/lib/python3.6/dist-packages/tensorflow/python/ops/gen_logging_ops.py\", line 727, in scalar_summary\n    \"ScalarSummary\", tags=tags, values=values, name=name)\n  File \"/usr/local/lib/python3.6/dist-packages/tensorflow/python/framework/op_def_library.py\", line 788, in _apply_op_helper\n    op_def=op_def)\n  File \"/usr/local/lib/python3.6/dist-packages/tensorflow/python/util/deprecation.py\", line 507, in new_func\n    return func(*args, **kwargs)\n  File \"/usr/local/lib/python3.6/dist-packages/tensorflow/python/framework/ops.py\", line 3300, in create_op\n    op_def=op_def)\n  File \"/usr/local/lib/python3.6/dist-packages/tensorflow/python/framework/ops.py\", line 1801, in __init__\n    self._traceback = tf_stack.extract_stack()\n\nInvalidArgumentError (see above for traceback): tags and values not the same shape: [] != [1] (tag 'acc_sc')\n\t [[node acc_sc (defined at <ipython-input-99-7f21676a5261>:32) ]]\n"
          ]
        }
      ]
    },
    {
      "cell_type": "markdown",
      "metadata": {
        "colab_type": "text",
        "id": "8AeNTYRt8VXw"
      },
      "source": [
        "#  \n",
        "\n",
        "---\n",
        "\n",
        "    Copyright(c) 2019 by Public AI. All rights reserved.<br>\n",
        "    Writen by PAI, SangJae Kang ( rocketgrowthsj@publicai.co.kr )  last updated on 2019/03/22\n",
        "\n",
        "---"
      ]
    }
  ]
}