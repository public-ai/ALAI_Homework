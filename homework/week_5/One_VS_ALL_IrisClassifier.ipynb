{
 "cells": [
  {
   "cell_type": "code",
   "execution_count": 0,
   "metadata": {
    "id": "zsgaAkLgyLAs",
    "colab_type": "code",
    "colab": {}
   },
   "outputs": [],
   "source": [
    ""
   ]
  },
  {
   "cell_type": "markdown",
   "metadata": {
    "colab_type": "text",
    "id": "je1nCDIAtS2e"
   },
   "source": [
    " ╔══<i><b>&nbsp;Alai-DeepLearning&nbsp;</b></i>══════════════════════════════════╗\n",
    "###  &nbsp;&nbsp; **✎&nbsp;&nbsp;Week 5. machine learning basis**\n",
    "# Homework 2. Multi classification\n",
    "\n",
    "### _Objective_\n",
    "Tensorflow 을 이용해서 One Vs All 전략을 이용해 다중 classification 모델을 생성합니다.\n",
    "\n",
    "아래 순서에 맞게 프로그램을 작성해 주세요.\n",
    "1. Setosa  Vs Versicolour, Virginica 모델 구현\n",
    " - 학습시 Tensorboard 을 이용해 loss 와 accuracy 을 추적해 주세요. \n",
    " - 학습 동안 acc 가 가장 높은 모델을 저장해 주세요.\n",
    "2. Versicolour Vs Setosa, Virginica 모델 구현\n",
    "  - 학습시 Tensorboard 을 이용해 loss 와 accuracy 을 추적해 주세요. \n",
    " - 학습 동안 acc 가 가장 높은 모델을 저장해 주세요.\n",
    "3. Virginica Vs Setosa, Versicolour 모델 구현\n",
    "  - 학습시 Tensorboard 을 이용해 loss 와 accuracy 을 추적해 주세요. \n",
    " - 학습 동안 acc 가 가장 높은 모델을 저장해 주세요.\n",
    "4. 저장된 3개의 모델을 불러온 후 가장 높은 확률이 나오는 값을 선택합니다. <br>\n",
    "가령 아래의 경우 **Versicolour** 을 선택합니다.\n",
    "\n",
    "| class        | probabilty |\n",
    "|--------------|------------|\n",
    "| Setosa       | 0.7        |\n",
    "| Versicolour  | 0.9        |\n",
    "| Virginica    | 0.3        |\n",
    "\n",
    "학습이 끝난후 모든 데이터를 평가한 후 accuracy 을 측정합니다.\n",
    "\n",
    "╚═══════════════════════════════════════════════╝"
   ]
  },
  {
   "cell_type": "code",
   "execution_count": 0,
   "metadata": {
    "id": "ypPN7jjzya-e",
    "colab_type": "code",
    "colab": {}
   },
   "outputs": [],
   "source": [
    ""
   ]
  },
  {
   "cell_type": "markdown",
   "metadata": {
    "colab_type": "text",
    "id": "8AeNTYRt8VXw"
   },
   "source": [
    "#  \n",
    "\n",
    "---\n",
    "\n",
    "    Copyright(c) 2019 by Public AI. All rights reserved.<br>\n",
    "    Writen by PAI, SangJae Kang ( rocketgrowthsj@publicai.co.kr )  last updated on 2019/03/22\n",
    "\n",
    "---"
   ]
  }
 ],
 "metadata": {
  "colab": {
   "name": "One_VS_ALL_IrisClassifier_(문제).ipynb",
   "version": "0.3.2",
   "provenance": [],
   "collapsed_sections": []
  },
  "kernelspec": {
   "name": "python3",
   "display_name": "Python 3"
  }
 },
 "nbformat": 4,
 "nbformat_minor": 0
}