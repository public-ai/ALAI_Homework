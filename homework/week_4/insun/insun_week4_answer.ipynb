{
  "nbformat": 4,
  "nbformat_minor": 0,
  "metadata": {
    "colab": {
      "name": "Week4 과제 진행중.ipynb",
      "version": "0.3.2",
      "provenance": [],
      "collapsed_sections": []
    },
    "kernelspec": {
      "name": "python3",
      "display_name": "Python 3"
    }
  },
  "cells": [
    {
      "metadata": {
        "id": "JYUSVo7oS-oU",
        "colab_type": "text"
      },
      "cell_type": "markdown",
      "source": [
        "## Homework Week4"
      ]
    },
    {
      "metadata": {
        "id": "f-i-OWDvStdA",
        "colab_type": "code",
        "outputId": "775eeee4-77e0-4061-c8ae-7cc0d6b97cf2",
        "colab": {
          "base_uri": "https://localhost:8080/",
          "height": 52
        }
      },
      "cell_type": "code",
      "source": [
        "%matplotlib inline\n",
        "!pip install tensorboardcolab\n",
        "\n",
        "import tensorboardcolab\n",
        "import numpy as np\n",
        "import tensorflow as tf\n",
        "import matplotlib.pyplot as plt"
      ],
      "execution_count": 0,
      "outputs": [
        {
          "output_type": "stream",
          "text": [
            "Requirement already satisfied: tensorboardcolab in /usr/local/lib/python3.6/dist-packages (0.0.22)\n"
          ],
          "name": "stdout"
        },
        {
          "output_type": "stream",
          "text": [
            "Using TensorFlow backend.\n"
          ],
          "name": "stderr"
        }
      ]
    },
    {
      "metadata": {
        "id": "L7_mznagS9CH",
        "colab_type": "text"
      },
      "cell_type": "markdown",
      "source": [
        "### 1. 망델브롯 Fractal 구현하고 텐서 보드에 연결하기"
      ]
    },
    {
      "metadata": {
        "id": "_sF5gR-kTUZ8",
        "colab_type": "code",
        "outputId": "c9cc5c91-d4f3-4918-c64f-e46aa9995e05",
        "colab": {
          "base_uri": "https://localhost:8080/",
          "height": 394
        }
      },
      "cell_type": "code",
      "source": [
        "tf.reset_default_graph()\n",
        "\n",
        "# add tensorboard\n",
        "# input initial value\n",
        "Y, X = np.mgrid[-1.3:1.3:0.005, -2:1:0.005]\n",
        "init_value = X + 1j*Y\n",
        "\n",
        "with tf.name_scope('cal'):\n",
        "    xs = tf.constant(init_value, name='xs')\n",
        "    zs = tf.Variable(xs, name='zs')\n",
        "    zs_square = tf.multiply(zs, zs, name='zs_squre')\n",
        "    zs_add = tf.add(xs, zs_square, name='zs_add')\n",
        "    zs_abs = tf.abs(zs_add, name='zs_abs')\n",
        "    zs_less = tf.math.less(zs_abs, 4)\n",
        "    zs_cast = tf.cast(zs_less, tf.float32)\n",
        "    \n",
        "    zs_zeros = tf.zeros_like(xs, tf.float32)\n",
        "    ns = tf.Variable(zs_zeros,name='ns')\n",
        "\n",
        "\n",
        "step = tf.group(\n",
        "  tf.assign(ns, zs_cast),\n",
        "  tf.assign(zs, zs_add),\n",
        "  name = 'step'\n",
        ")    \n",
        "    \n",
        "# Step1 : add tensor to tensorboard\n",
        "ns_image_tb = tf.summary.image(name='ns_image', tensor=tf.reshape(ns, shape=[1,520,600,1]))\n",
        "ns_mean_tb = tf.summary.scalar(name='ns_mean', tensor=tf.reduce_mean(ns))\n",
        "ns_hist_tb = tf.summary.histogram(name='ns_hist', values=ns)\n",
        "\n",
        "\n",
        "sess = tf.Session()\n",
        "sess.run(tf.global_variables_initializer())\n",
        "\n",
        "# Step2 : 기록\n",
        "saver = tf.train.Saver()\n",
        "tbs = tf.summary.merge_all()\n",
        "\n",
        "tbc=tensorboardcolab.TensorBoardColab(graph_path='./mandelbrot')\n",
        "writer = tf.summary.FileWriter(logdir = './mandelbrot')\n",
        "writer.add_graph(tf.get_default_graph())\n",
        "\n",
        "\n",
        "# Step3 :언제마다 기록하고 싶은가\n",
        "for i in range(200):\n",
        "    _, tbs_ = sess.run([step,tbs])   # sess.run에 merge한걸 넣어서 돌리면 된다.\n",
        "    writer.add_summary(tbs_, global_step=i)\n",
        "    \n",
        "writer.flush()\n",
        "\n",
        "saver.save(sess, save_path='./model/mandelbrot')\n",
        "value = sess.run(ns)\n",
        "plt.imshow(value)\n",
        "plt.show()\n",
        "\n",
        "# Step 4: 실행된 텐서보드를 보자."
      ],
      "execution_count": 0,
      "outputs": [
        {
          "output_type": "stream",
          "text": [
            "WARNING:tensorflow:From /usr/local/lib/python3.6/dist-packages/tensorflow/python/framework/op_def_library.py:263: colocate_with (from tensorflow.python.framework.ops) is deprecated and will be removed in a future version.\n",
            "Instructions for updating:\n",
            "Colocations handled automatically by placer.\n",
            "Wait for 8 seconds...\n",
            "TensorBoard link:\n",
            "https://b97ec4e4.ngrok.io\n"
          ],
          "name": "stdout"
        },
        {
          "output_type": "display_data",
          "data": {
            "image/png": "[encoded data removed]",
            "text/plain": [
              "<Figure size 432x288 with 1 Axes>"
            ]
          },
          "metadata": {
            "tags": []
          }
        }
      ]
    },
    {
      "metadata": {
        "id": "ZA0zawNVWurI",
        "colab_type": "text"
      },
      "cell_type": "markdown",
      "source": [
        "### 2. Julia fractal 구현하기."
      ]
    },
    {
      "metadata": {
        "id": "03LZHv9eW4NM",
        "colab_type": "code",
        "outputId": "d942b462-2091-4b4f-f594-8eb1402f17b3",
        "colab": {
          "base_uri": "https://localhost:8080/",
          "height": 322
        }
      },
      "cell_type": "code",
      "source": [
        "tf.reset_default_graph()\n",
        "\n",
        "# add tensorboard\n",
        "# input initial value\n",
        "Y,X = np.mgrid[-2:2:0.005 , -2:2:0.005]\n",
        "init_value = X + 1j*Y\n",
        "\n",
        "with tf.name_scope('cal'):\n",
        "    xs = tf.constant(init_value, name='xs')\n",
        "    zs = tf.Variable(xs, name='zs')\n",
        "    zs_square = tf.multiply(zs, zs, name='zs_squre')\n",
        "    input_value = 0 + 0.75j\n",
        "    zs_sub = tf.subtract(zs_square, input_value)\n",
        "    zs_abs = tf.abs(zs_sub)\n",
        "    zs_less = tf.math.less(zs_abs, 4)\n",
        "    zs_cast = tf.cast(zs_less, tf.float32)  \n",
        "    \n",
        "    zs_zeros = tf.zeros_like(xs, tf.float32)\n",
        "    ns = tf.Variable(zs_zeros,name='ns')\n",
        "\n",
        "\n",
        "step = tf.group(\n",
        "  tf.assign(zs, zs_sub),\n",
        "  tf.assign_add(ns, zs_cast),\n",
        "  name = 'step'\n",
        ")    \n",
        "    \n",
        "# Step1 : add tensor to tensorboard\n",
        "ns_image_tb = tf.summary.image(name='ns_image',\n",
        "                               tensor=tf.reshape(ns,shape=[1,800,800,1]))\n",
        "ns_mean_tb = tf.summary.scalar(name='ns_mean',\n",
        "                               tensor=tf.reduce_mean(ns))\n",
        "ns_hist_tb = tf.summary.histogram(name='ns_hist',\n",
        "                                 values=ns)\n",
        "\n",
        "\n",
        "sess = tf.Session()\n",
        "sess.run(tf.global_variables_initializer())\n",
        "\n",
        "# Step2 : 기록\n",
        "saver = tf.train.Saver()\n",
        "tbs = tf.summary.merge_all()\n",
        "\n",
        "tbc=tensorboardcolab.TensorBoardColab(graph_path='./mandelbrot')\n",
        "writer = tf.summary.FileWriter(logdir = './mandelbrot')\n",
        "writer.add_graph(tf.get_default_graph())\n",
        "\n",
        "# Step3 :언제마다 기록하고 싶은가\n",
        "for i in range(200):\n",
        "    _, tbs_ = sess.run([step,tbs])   # sess.run에 merge한걸 넣어서 돌리면 된다.\n",
        "    writer.add_summary(tbs_, global_step=i)\n",
        "    \n",
        "writer.flush()\n",
        "\n",
        "saver.save(sess,\n",
        "           save_path='./model/mandelbrot')\n",
        "value = sess.run(ns)\n",
        "plt.imshow(value)\n",
        "plt.show()\n",
        "\n",
        "# Step 4: 실행된 텐서보드를 보자."
      ],
      "execution_count": 0,
      "outputs": [
        {
          "output_type": "stream",
          "text": [
            "Wait for 8 seconds...\n",
            "TensorBoard link:\n",
            "https://b97ec4e4.ngrok.io\n"
          ],
          "name": "stdout"
        },
        {
          "output_type": "display_data",
          "data": {
            "image/png": "[encoded data removed]",
            "text/plain": [
              "<Figure size 432x288 with 1 Axes>"
            ]
          },
          "metadata": {
            "tags": []
          }
        }
      ]
    },
    {
      "metadata": {
        "id": "Slho2nskYsTL",
        "colab_type": "text"
      },
      "cell_type": "markdown",
      "source": [
        "### 3. rain Drop 을 구현해주세요"
      ]
    },
    {
      "metadata": {
        "id": "c9w5vF_UY4KW",
        "colab_type": "code",
        "colab": {}
      },
      "cell_type": "code",
      "source": [
        "# 우선 아래 코드를 실행해 주세요 \n",
        "# Laplace은 아래 코드를 사용하세요\n",
        "def laplace(x):\n",
        "    def make_kernel(a):\n",
        "        \"\"\"Transform a 2D array into a convolution kernel\"\"\"\n",
        "        a = np.asarray(a)\n",
        "        a = a.reshape(list(a.shape) + [1, 1])\n",
        "        return tf.constant(a, dtype=1)\n",
        "\n",
        "    def simple_conv(x, k):\n",
        "        \"\"\"A simplified 2D convolution operation\"\"\"\n",
        "        x = tf.expand_dims(tf.expand_dims(x, 0), -1)\n",
        "        y = tf.nn.depthwise_conv2d(x, k, [1, 1, 1, 1], padding='SAME')\n",
        "        return y[0, :, :, 0]\n",
        "    \"\"\"Compute the 2D laplacian of an array\"\"\"\n",
        "\n",
        "    laplace_k = make_kernel([[0.5, 1.0, 0.5],\n",
        "                             [1.0, -6., 1.0],\n",
        "                             [0.5, 1.0, 0.5]])\n",
        "    return simple_conv(x, laplace_k)\n",
        "\n",
        "\n",
        "# 임의의 좌표에 임의의 값 40개를 생성 합니다. \n",
        "N = 500\n",
        "u_init = np.zeros([500,500] , dtype=np.float32)\n",
        "ut_init = np.zeros([500,500] , dtype=np.float32)\n",
        "\n",
        "for n in range(40):\n",
        "    a, b = np.random.randint(0, N, 2)\n",
        "    u_init[a,b] = np.random.uniform()"
      ],
      "execution_count": 0,
      "outputs": []
    },
    {
      "metadata": {
        "id": "Gyoui-CYY8HC",
        "colab_type": "code",
        "colab": {}
      },
      "cell_type": "code",
      "source": [
        "graph = tf.Graph()\n",
        "with graph.as_default():\n",
        "    \n",
        "    eps = tf.placeholder(tf.float32, shape=())\n",
        "    damping = tf.placeholder(tf.float32, shape=())\n",
        "    \n",
        "    # Create variables for simulation state\n",
        "    U = tf.Variable(u_init, name='U')\n",
        "    Ut = tf.Variable(ut_init, name='Ut')\n",
        "    \n",
        "        \n",
        "    ### U와 Ut의 값을 갱신하는 연산\n",
        "    \n",
        "    with tf.name_scope(name='update_op'):  ### 묶어준다.\n",
        "        # U = U + Ut * eps\n",
        "        # add1 = tf.add(U, eps)\n",
        "        value1 = tf.multiply(eps, Ut)  \n",
        "    \n",
        "        # Ut = Ut + (Ut*damping - laplace(U)) * eps    \n",
        "        mul1 = tf.multiply(Ut, damping)\n",
        "        sub1 = tf.subtract(laplace(U), mul1)\n",
        "        mul2 = tf.multiply(sub1, eps)\n",
        "    \n",
        "    step = tf.group(\n",
        "        tf.assign_add(U, value1),  # ref가 variable, value가  tf.assign()\n",
        "        tf.assign_add(Ut, mul2), #\n",
        "        name = 'step'\n",
        "    )\n",
        "    \n",
        "    update_op = step\n",
        "    \n",
        "    ### 평가 그래프\n",
        "    with tf.name_scope(name='output'):  ### 묶어준다.\n",
        "        const1 = tf.constant(0.1, tf.float32)\n",
        "        test_add = tf.add(U, const1)\n",
        "        \n",
        "        const2 = tf.constant(0.2, tf.float32)\n",
        "        test_div = tf.math.divide(test_add, const2)\n",
        "        \n",
        "        const3 = tf.constant(255, tf.float32)\n",
        "        test_mul = tf.multiply(test_div, const3)\n",
        "    \n",
        "        clip_by_value = tf.clip_by_value(test_mul, 0, 255)\n",
        "        clip_by_value = tf.cast(clip_by_value, tf.uint8)\n",
        "        output = clip_by_value"
      ],
      "execution_count": 0,
      "outputs": []
    },
    {
      "metadata": {
        "id": "TrgpAyqUY82K",
        "colab_type": "code",
        "outputId": "a1d35840-5826-4803-9a4b-33d4c2ea3f08",
        "colab": {
          "base_uri": "https://localhost:8080/",
          "height": 269
        }
      },
      "cell_type": "code",
      "source": [
        "with graph.as_default():\n",
        "    sess = tf.Session(graph=graph)\n",
        "    sess.run(tf.global_variables_initializer())\n",
        "\n",
        "    for i in range(1000):\n",
        "        sess.run(update_op, {eps: 0.03, damping: 0.04})\n",
        "\n",
        "    result = sess.run(output)    \n",
        "    \n",
        "plt.imshow(result, cmap='Greys')\n",
        "plt.show()"
      ],
      "execution_count": 0,
      "outputs": [
        {
          "output_type": "display_data",
          "data": {
            "image/png": "[encoded data removed]",
            "text/plain": [
              "<Figure size 432x288 with 1 Axes>"
            ]
          },
          "metadata": {
            "tags": []
          }
        }
      ]
    },
    {
      "metadata": {
        "id": "bMRAVHPqZBYX",
        "colab_type": "text"
      },
      "cell_type": "markdown",
      "source": [
        "### 4. Kmeans , KNN 을 Tensorflow 로 구현해 주세요."
      ]
    },
    {
      "metadata": {
        "id": "WkPuSC6fPehI",
        "colab_type": "text"
      },
      "cell_type": "markdown",
      "source": [
        "### 1) KNN"
      ]
    },
    {
      "metadata": {
        "id": "QdHmrQQFH0OR",
        "colab_type": "text"
      },
      "cell_type": "markdown",
      "source": [
        "\n",
        "#### 데이터 ) 각 영화 별 싸움 횟수와 키스 횟수\n",
        "\n",
        "| 영화 제목 | the number of Kick | The number os Kiss | Type |\n",
        "| ------  | ----| ----| --- |\n",
        "| 냉정과열정사이 | 3 | 104 | Romance|\n",
        "| 바람과함께사라지다 | 2 | 100 | Romance |\n",
        "| 아름다운 여인 | 1 | 81 | Romance |\n",
        "| 인정사정볼것없다 | 101 | 10 | Action |\n",
        "| 놈놈놈 | 99 | 5 | Action |\n",
        "| 화랑 | 98 | 2 | Action |\n",
        "| 뜨거운 가슴으로 | 25 | 87 | ? |"
      ]
    },
    {
      "metadata": {
        "id": "4dxIOPDIH581",
        "colab_type": "text"
      },
      "cell_type": "markdown",
      "source": [
        "\n",
        "#### 알고리즘 탐색하기\n",
        "---\n",
        "KNN의 알고리즘 순서\n",
        "\n",
        "1. 우리가 분류항목을 알고자 하는 점(inX)와 알고 있는 점들(dataset)과의 모든 점 거리를 계산\n",
        "2. 오름 차순으로 거리의 길이를 정렬\n",
        "3. inX와의 거리가 가장 짧은 K개의 아이템 추출\n",
        "4. K개의 아이템에서 가장 많은 분류 항목 찾기\n",
        "5. 해당 항목 반환\n",
        "\n",
        "\n",
        "아래 코드는 Numpy 로 KNN을 구현한 코드 입니다.\n",
        "\n",
        "---"
      ]
    },
    {
      "metadata": {
        "id": "009kBQ0vZIsd",
        "colab_type": "code",
        "colab": {}
      },
      "cell_type": "code",
      "source": [
        "# 0번째 열 : 킥 횟수, 1번째 열 : 키스 횟수\n",
        "dataset = np.array([\n",
        "    [3, 104],\n",
        "    [2, 100],\n",
        "    [1, 81],\n",
        "    [101, 10],\n",
        "    [99, 5],\n",
        "    [98, 2],\n",
        "])\n",
        "\n",
        "labels = np.array(['Romance','Romance','Romance',\n",
        "          'Action','Action','Action'])\n",
        "\n",
        "inX = np.array([25, 87])"
      ],
      "execution_count": 0,
      "outputs": []
    },
    {
      "metadata": {
        "id": "loLOlcNFH2jX",
        "colab_type": "code",
        "colab": {}
      },
      "cell_type": "code",
      "source": [
        "def classify_knn(inX, dataset, labels, K):\n",
        "    # (1) 우리가 분류항목을 알고자 하는 점 (inX)와 \n",
        "    # 알고 있는 점들(dataset)과의 모든 점 거리를 계산\n",
        "    dists = np.sqrt(np.sum((inX-dataset)**2, axis=1))\n",
        "    \n",
        "    \n",
        "    # (2) 오름 차순으로 거리의 길이를 정렬\n",
        "    sorted_index = dists.argsort()     # 순서대로 index를 반환해준다. # 작은게 0, 큰거는 마지막숫자임.\n",
        "    \n",
        "    \n",
        "    # (3) inX와의 거리가 가장짧은 K개의 아이템 추출\n",
        "    sorted_labels = labels[sorted_index]  # index순서대로 lable을 가져와서 sorted_labels에 저장한다\n",
        "    K_nearest_labels = sorted_labels[:K]\n",
        "    \n",
        "    \n",
        "    # (4) K개의 아이템에서 가장 많은 분류 항목 찾기\n",
        "    _labels, count_labels = np.unique(K_nearest_labels,\n",
        "          return_counts=True)\n",
        "    \n",
        "    # (5) 해당 항목 반환\n",
        "    return _labels[count_labels.argmax()]"
      ],
      "execution_count": 0,
      "outputs": []
    },
    {
      "metadata": {
        "id": "95wtldvhH-3X",
        "colab_type": "code",
        "outputId": "08cb5161-7900-425b-b394-602766d9ea1f",
        "colab": {
          "base_uri": "https://localhost:8080/",
          "height": 34
        }
      },
      "cell_type": "code",
      "source": [
        "# 킥 횟수가 52번, 키스 횟수가 10번인 작품\n",
        "classify_knn([52, 10], dataset, labels, 4)"
      ],
      "execution_count": 0,
      "outputs": [
        {
          "output_type": "execute_result",
          "data": {
            "text/plain": [
              "'Action'"
            ]
          },
          "metadata": {
            "tags": []
          },
          "execution_count": 38
        }
      ]
    },
    {
      "metadata": {
        "id": "CQy_HCeZIAag",
        "colab_type": "text"
      },
      "cell_type": "markdown",
      "source": [
        "####  \\[ 문제 : 텐서플로우를 이용해 K-NN 구현하기 \\]\n",
        "\n",
        "텐서플로우는 numpy와 달리, Dataflow Programming 방식으로 동작합니다. <br>\n",
        "우선 연산을 결정하고, 반복적인 연산은 Session 시에 진행해야 합니다.<br>\n",
        "\n"
      ]
    },
    {
      "metadata": {
        "id": "k7308q5qIDWB",
        "colab_type": "code",
        "colab": {}
      },
      "cell_type": "code",
      "source": [
        "graph = tf.Graph()\n",
        "with graph.as_default():\n",
        "    inX_tf = tf.placeholder(tf.float32, shape=(2), name='inX')\n",
        "    dataset_tf = tf.placeholder(tf.float32, shape=(None,2), name='dataset')\n",
        "    labels_tf = tf.placeholder(tf.string, shape=(None,), name='labels')\n",
        "    K_tf = tf.placeholder_with_default(4,(),name='K')\n",
        "\n",
        "    # (1) 우리가 분류항목을 알고자 하는 점 (inX)와 알고 있는 점들(dataset)과의 모든 점 거리를 계산\n",
        "    distances = tf.reduce_sum(tf.subtract(inX_tf, dataset_tf) ** 2, 1)\n",
        "    \n",
        "    \n",
        "    # (2) 오름 차순으로 거리의 길이를 정렬\n",
        "    sorted_index = tf.argsort(distances)\n",
        "    \n",
        "    \n",
        "    # (3) inX와의 거리가 가장짧은 K개의 아이템 추출\n",
        "    selected_label_mask = tf.gather(labels_tf, sorted_index)[:4] # indice에 있는 index에 있는 tf_data를 가져옴\n",
        "    \n",
        "    \n",
        "    # (4) K개의 아이템에서 가장 많은 분류 항목 찾기\n",
        "    selected_label, idx, count = tf.unique_with_counts(selected_label_mask)\n",
        "    \n",
        "    \n",
        "    # (5) 해당 항목 반환\n",
        "    output = tf.gather(selected_label, tf.argmax(count))  \n",
        "    "
      ],
      "execution_count": 0,
      "outputs": []
    },
    {
      "metadata": {
        "id": "c-MbHfHIID1s",
        "colab_type": "code",
        "colab": {}
      },
      "cell_type": "code",
      "source": [
        "# 아래와 같은 결과가 나오면 됩니다.\n",
        "sess = tf.Session(graph=graph)\n",
        "init_op = tf.global_variables_initializer()\n"
      ],
      "execution_count": 0,
      "outputs": []
    },
    {
      "metadata": {
        "id": "7_uKPpVFIHHC",
        "colab_type": "code",
        "outputId": "2dfa6757-2bc8-4c6b-cd01-228c85db1826",
        "colab": {
          "base_uri": "https://localhost:8080/",
          "height": 34
        }
      },
      "cell_type": "code",
      "source": [
        "# 킥 횟수가 52번, 키스 횟수가 10번인 작품\n",
        "sess.run(output,feed_dict={\n",
        "    inX_tf:[52,10],\n",
        "    dataset_tf: dataset,\n",
        "    labels_tf: labels,\n",
        "})\n",
        "\n",
        "# >>> b'Action' \n",
        "# 이 나와야 합니다."
      ],
      "execution_count": 0,
      "outputs": [
        {
          "output_type": "execute_result",
          "data": {
            "text/plain": [
              "b'Action'"
            ]
          },
          "metadata": {
            "tags": []
          },
          "execution_count": 47
        }
      ]
    },
    {
      "metadata": {
        "id": "tlNwyurqIJPh",
        "colab_type": "code",
        "outputId": "626a11b5-1c1d-409b-9fdb-2f231973413c",
        "colab": {
          "base_uri": "https://localhost:8080/",
          "height": 34
        }
      },
      "cell_type": "code",
      "source": [
        "# 킥 횟수가 19번, 키스 횟수가 72번인 작품\n",
        "sess.run(output,feed_dict={\n",
        "    inX_tf:[19,72],\n",
        "    dataset_tf: dataset,\n",
        "    labels_tf: labels,\n",
        "})\n",
        "# >>> b'Romance' \n",
        "# 이 나와야 합니다."
      ],
      "execution_count": 0,
      "outputs": [
        {
          "output_type": "execute_result",
          "data": {
            "text/plain": [
              "b'Romance'"
            ]
          },
          "metadata": {
            "tags": []
          },
          "execution_count": 48
        }
      ]
    },
    {
      "metadata": {
        "id": "1iy3OX9GPnJY",
        "colab_type": "text"
      },
      "cell_type": "markdown",
      "source": [
        "### 2) Kmeans"
      ]
    },
    {
      "metadata": {
        "id": "R9i3-mAuQAwE",
        "colab_type": "code",
        "outputId": "61488e2a-92f1-4fe5-82d0-007159f4c93a",
        "colab": {
          "base_uri": "https://localhost:8080/",
          "height": 228
        }
      },
      "cell_type": "code",
      "source": [
        "# 예제 데이터셋 준비하기\n",
        "!wget https://s3.ap-northeast-2.amazonaws.com/pai-datasets/alai-deeplearning/kmeans_dataset.txt\n",
        "dataset = np.loadtxt(\"./kmeans_dataset.txt\")\n",
        "dataset.shape"
      ],
      "execution_count": 0,
      "outputs": [
        {
          "output_type": "stream",
          "text": [
            "--2019-04-26 07:44:35--  https://s3.ap-northeast-2.amazonaws.com/pai-datasets/alai-deeplearning/kmeans_dataset.txt\n",
            "Resolving s3.ap-northeast-2.amazonaws.com (s3.ap-northeast-2.amazonaws.com)... 52.219.56.45\n",
            "Connecting to s3.ap-northeast-2.amazonaws.com (s3.ap-northeast-2.amazonaws.com)|52.219.56.45|:443... connected.\n",
            "HTTP request sent, awaiting response... 200 OK\n",
            "Length: 1520 (1.5K) [text/plain]\n",
            "Saving to: ‘kmeans_dataset.txt.6’\n",
            "\n",
            "kmeans_dataset.txt. 100%[===================>]   1.48K  --.-KB/s    in 0s      \n",
            "\n",
            "2019-04-26 07:44:35 (92.7 MB/s) - ‘kmeans_dataset.txt.6’ saved [1520/1520]\n",
            "\n"
          ],
          "name": "stdout"
        },
        {
          "output_type": "execute_result",
          "data": {
            "text/plain": [
              "(80, 2)"
            ]
          },
          "metadata": {
            "tags": []
          },
          "execution_count": 59
        }
      ]
    },
    {
      "metadata": {
        "id": "eZ2qgKhlQCd4",
        "colab_type": "code",
        "outputId": "f278f474-0bd0-4f2f-d2e0-b188be42cab8",
        "colab": {
          "base_uri": "https://localhost:8080/",
          "height": 281
        }
      },
      "cell_type": "code",
      "source": [
        "# 예제 데이터셋 시각화\n",
        "plt.title(\"The Distribution of Point\")\n",
        "plt.scatter(dataset[:,0],dataset[:,1])\n",
        "plt.show()"
      ],
      "execution_count": 0,
      "outputs": [
        {
          "output_type": "display_data",
          "data": {
            "image/png": "[encoded data removed]",
            "text/plain": [
              "<Figure size 432x288 with 1 Axes>"
            ]
          },
          "metadata": {
            "tags": []
          }
        }
      ]
    },
    {
      "metadata": {
        "id": "AhOSwNTcmCcg",
        "colab_type": "text"
      },
      "cell_type": "markdown",
      "source": [
        "+ numpy code"
      ]
    },
    {
      "metadata": {
        "id": "-zg5QmiTmBr4",
        "colab_type": "code",
        "colab": {}
      },
      "cell_type": "code",
      "source": [
        "def cluster_kmeans(dataset, k):    \n",
        "    # (1) 중심점 초기화\n",
        "    min_x = dataset[:,0].min()\n",
        "    max_x = dataset[:,0].max() \n",
        "    min_y = dataset[:,1].min()\n",
        "    max_y = dataset[:,1].max() \n",
        "\n",
        "    center_x = np.random.uniform(low=min_x, high=max_x, size=k)\n",
        "    center_y = np.random.uniform(low=min_y, high=max_y, size=k)\n",
        "    centroids = np.stack([center_x,center_y],axis=-1)\n",
        "    \n",
        "    # (2) ~ (5) 순회\n",
        "    num_data = dataset.shape[0]\n",
        "    cluster_per_point = np.zeros((num_data)) # 각 점 별 군집\n",
        "\n",
        "    counter = 0\n",
        "    while True:\n",
        "        prev_cluster_per_point = cluster_per_point\n",
        "        \n",
        "        # (2) 거리 계산\n",
        "        diff_mat = (centroids.reshape(-1,1,2) - dataset.reshape(1,-1,2))\n",
        "        dists = np.sqrt((diff_mat**2).sum(axis=-1))\n",
        "        # (3) 각 데이터를 거리가 가장 가까운 군집으로 할당\n",
        "        cluster_per_point = dists.argmin(axis=0)\n",
        "        \n",
        "        # (4) 각 군집 별 점들의 평균을 계산 후, 군집의 중심점을 다시 계산\n",
        "        for i in range(k):\n",
        "            centroids[i] = dataset[cluster_per_point==i].mean(axis=0)\n",
        "\n",
        "        if np.all(prev_cluster_per_point == cluster_per_point):\n",
        "            break\n",
        "\n",
        "        counter += 1\n",
        "        plt.title(\"{}th Distribution of Dataset\".format(counter))\n",
        "        for idx, color in enumerate(['r','g','b','y']):\n",
        "            mask = (cluster_per_point==idx)\n",
        "            plt.scatter(dataset[mask,0],dataset[mask,1],\n",
        "                        label='dataset', c=color)\n",
        "            plt.scatter(centroids[:,0],centroids[:,1],\n",
        "                        s=200, label=\"centroid\", marker='+')\n",
        "        plt.show()\n",
        "    \n",
        "    return centroids"
      ],
      "execution_count": 0,
      "outputs": []
    },
    {
      "metadata": {
        "id": "vXSzFoE1mE9P",
        "colab_type": "code",
        "outputId": "f8338450-20ed-48a9-8e82-00340b9868c9",
        "colab": {
          "base_uri": "https://localhost:8080/",
          "height": 1407
        }
      },
      "cell_type": "code",
      "source": [
        "cluster_kmeans(dataset,4)"
      ],
      "execution_count": 0,
      "outputs": [
        {
          "output_type": "display_data",
          "data": {
            "image/png": "[encoded data removed]",
            "text/plain": [
              "<Figure size 432x288 with 1 Axes>"
            ]
          },
          "metadata": {
            "tags": []
          }
        },
        {
          "output_type": "display_data",
          "data": {
            "image/png": "[encoded data removed]",
            "text/plain": [
              "<Figure size 432x288 with 1 Axes>"
            ]
          },
          "metadata": {
            "tags": []
          }
        },
        {
          "output_type": "display_data",
          "data": {
            "image/png": "[encoded data removed]",
            "text/plain": [
              "<Figure size 432x288 with 1 Axes>"
            ]
          },
          "metadata": {
            "tags": []
          }
        },
        {
          "output_type": "display_data",
          "data": {
            "image/png": "[encoded data removed]",
            "text/plain": [
              "<Figure size 432x288 with 1 Axes>"
            ]
          },
          "metadata": {
            "tags": []
          }
        },
        {
          "output_type": "display_data",
          "data": {
            "image/png": "[encoded data removed]",
            "text/plain": [
              "<Figure size 432x288 with 1 Axes>"
            ]
          },
          "metadata": {
            "tags": []
          }
        },
        {
          "output_type": "execute_result",
          "data": {
            "text/plain": [
              "array([[ 2.6265299 ,  3.10868015],\n",
              "       [ 2.65077367, -2.79019029],\n",
              "       [-2.46154315,  2.78737555],\n",
              "       [-3.53973889, -2.89384326]])"
            ]
          },
          "metadata": {
            "tags": []
          },
          "execution_count": 62
        }
      ]
    },
    {
      "metadata": {
        "id": "ABTT7bBJQEb9",
        "colab_type": "text"
      },
      "cell_type": "markdown",
      "source": [
        "####  알고리즘 탐색하기\n",
        "---\n",
        "K-means의 알고리즘 순서 \n",
        "​\n",
        "1. 초기 중심점을 설정하기 위해 K개의 점 생성(일반적으로 임의)\n",
        "2. 중심점과 각 데이터 사이의 거리를 계산\n",
        "3. 각 데이터를 거리가 가장 가까운 군집으로 할당\n",
        "4. 각 군집 별 점들의 평균을 계산 후, 군집의 중심점을 다시 계산\n",
        "5. 2~4의 과정을 통해 각 데이터 별 군집이 바뀌지 않았으면, 이 과정을 끝냄\n",
        "​\n",
        "아래 코드는 Numpy 로 K-means 을 구현한 코드 입니다.<br>\n",
        "​\n",
        "---"
      ]
    },
    {
      "metadata": {
        "id": "_ZC5mZzqQMBs",
        "colab_type": "text"
      },
      "cell_type": "markdown",
      "source": [
        "####  \\[ 문제 : 텐서플로우를 이용해 K-Means 구현하기 \\]\n",
        "\n",
        "텐서플로우는 numpy와 달리, Dataflow Programming 방식으로 동작합니다. <br>\n",
        "우선 연산을 결정하고, 반복적인 연산은 Session 시에 진행해야 합니다.<br>\n",
        "\n"
      ]
    },
    {
      "metadata": {
        "id": "6ZKQX_9yJZft",
        "colab_type": "code",
        "outputId": "435409ad-7a59-4fca-9747-29f58d956492",
        "colab": {
          "base_uri": "https://localhost:8080/",
          "height": 228
        }
      },
      "cell_type": "code",
      "source": [
        "# 예제 데이터셋 준비하기\n",
        "!wget https://s3.ap-northeast-2.amazonaws.com/pai-datasets/alai-deeplearning/kmeans_dataset.txt\n",
        "dataset = np.loadtxt(\"./kmeans_dataset.txt\")\n",
        "dataset.shape"
      ],
      "execution_count": 0,
      "outputs": [
        {
          "output_type": "stream",
          "text": [
            "--2019-04-26 07:44:55--  https://s3.ap-northeast-2.amazonaws.com/pai-datasets/alai-deeplearning/kmeans_dataset.txt\n",
            "Resolving s3.ap-northeast-2.amazonaws.com (s3.ap-northeast-2.amazonaws.com)... 52.219.60.61\n",
            "Connecting to s3.ap-northeast-2.amazonaws.com (s3.ap-northeast-2.amazonaws.com)|52.219.60.61|:443... connected.\n",
            "HTTP request sent, awaiting response... 200 OK\n",
            "Length: 1520 (1.5K) [text/plain]\n",
            "Saving to: ‘kmeans_dataset.txt.7’\n",
            "\n",
            "\rkmeans_dataset.txt.   0%[                    ]       0  --.-KB/s               \rkmeans_dataset.txt. 100%[===================>]   1.48K  --.-KB/s    in 0s      \n",
            "\n",
            "2019-04-26 07:44:56 (72.1 MB/s) - ‘kmeans_dataset.txt.7’ saved [1520/1520]\n",
            "\n"
          ],
          "name": "stdout"
        },
        {
          "output_type": "execute_result",
          "data": {
            "text/plain": [
              "(80, 2)"
            ]
          },
          "metadata": {
            "tags": []
          },
          "execution_count": 63
        }
      ]
    },
    {
      "metadata": {
        "id": "BaxZGjkSQlVx",
        "colab_type": "code",
        "colab": {}
      },
      "cell_type": "code",
      "source": [
        "tf.reset_default_graph()\n",
        "\n",
        "graph_kmeans = tf.Graph() \n",
        "with graph_kmeans.as_default(): ## context manager로 그래프를 정의해서, 이 안에서만 graph_kmeans를 알 수 있다. \n",
        "    \n",
        "    # (1) Initial value ##############################################################################################\n",
        "    dataset_tf = tf.placeholder(tf.float32, shape=(None, 2), name='dataset_tf')  # shape(?, 2)\n",
        "    k_tf = tf.placeholder_with_default(4, (), name='k_tf') ############# 아직 이걸 활용하지 못하고 잇음 <---------------------------\n",
        "\n",
        "    min_x = tf.reduce_min(dataset_tf, axis=0)[0]\n",
        "    min_y = tf.reduce_min(dataset_tf, axis=0)[1]\n",
        "    max_x = tf.reduce_max(dataset_tf, axis=0)[0]\n",
        "    max_y = tf.reduce_max(dataset_tf, axis=0)[1]\n",
        "        \n",
        "    center_x = tf.random.uniform(shape=[4], minval=[min_x], maxval=[max_x], dtype=tf.float32, name=None)\n",
        "    center_y = tf.random.uniform(shape=[4], minval=[min_y], maxval=[max_y], dtype=tf.float32, name=None)\n",
        "    centroids = tf.Variable(tf.stack([center_x,center_y],axis=-1))\n",
        "    \n",
        "    cluster_per_point = tf.Variable([0,0,0,0], tf.float32)  \n",
        "    #################################################################################################################\n",
        "    \n",
        "    \n",
        "    # (2) 거리 계산\n",
        "    resh_cent = tf.reshape(centroids, shape=[-1,1,2])                         # centroids.shape = (4, 2) ---> (4, 1, 2)\n",
        "    resh_data = tf.cast(tf.reshape(dataset_tf, shape=[1,-1,2]), tf.float32)   # dataset.shape = (80, 2) ---> (1, 80, 2)\n",
        "    diff_mat = resh_cent - resh_data                                          # diff_mat.shape = (4, 80, 2)\n",
        "            \n",
        "    dists = tf.sqrt(tf.reduce_sum(diff_mat**2,axis=2))  # dists.shape = (4, 80)   # axis=-1 is same\n",
        "    \n",
        "    \n",
        "    # (3) 각 데이터를 거리가 가장 가까운 군집으로 할당\n",
        "    cluster_per_point = tf.argmin(dists, axis=0)# cluster_per_point.shape = (80, )\n",
        "\n",
        "    \n",
        "    # (4) 각 군집 별 점들의 평균을 계산 후, 군집의 중심점 을 다시 계산\n",
        "    new_centroids_list = []\n",
        "    for i in range(4):\n",
        "        # 1. cluster_per_point 텐서의 각 원소 위치를 True 로 표시하는 boolean Tensor를 만듬. # equal.shape = (80,)\n",
        "        equal = tf.equal(cluster_per_point, i)\n",
        "        \n",
        "        # 2. i 군집에 속한 vectors 텐서의 포인트들의 인덱스로 구성된 텐서를 만듬 # where.shape = (?, 1)\n",
        "        where = tf.reshape(tf.where(equal), [-1,1])\n",
        "        \n",
        "        # 3. gather_nd 함수를 사용하여 i 군집을 이루는 점들의 좌표를 모은 텐서를 만듬. # gather.shape = (?, 2)\n",
        "        gather = tf.gather_nd(dataset_tf, where) \n",
        "\n",
        "        # 4. reduce_mean 함수를 사용하여 i 군집에 속한 모든 점의 평균 값을 가진 텐서를 만듬 # mean.shape (2,)\n",
        "        mean = tf.reduce_mean(gather, axis=0) \n",
        "        new_centroids_list.append(mean)\n",
        "    \n",
        "    # 결과출력용\n",
        "    combine_list = tf.concat([tf.reshape(dataset_tf, [-1,2]), tf.cast(tf.reshape(cluster_per_point, [-1,1]), dtype=tf.float32)], axis=1) # combine_list.shape (80, 3)\n",
        "    \n",
        "    # 새로운 중심점들\n",
        "    centroids = tf.assign(centroids, new_centroids_list) # centroids.shape(4, 2)"
      ],
      "execution_count": 0,
      "outputs": []
    },
    {
      "metadata": {
        "id": "Lai_VrtAQ2I9",
        "colab_type": "code",
        "outputId": "6f137bd8-74b3-4859-a746-1d9ef23605b5",
        "colab": {
          "base_uri": "https://localhost:8080/",
          "height": 1277
        }
      },
      "cell_type": "code",
      "source": [
        "with graph_kmeans.as_default():\n",
        "    sess = tf.Session()   #sess = tf.Session(graph=graph_kmeans) 위에 with 구문 써주면 같은 의미다.\n",
        "\n",
        "    # sess.run(tf.global_variables_initializer()가 어떤 그래프에 대해 실행되는지 모른다 -> \"with graph이름.as_default() :\" 문으로 지정해줘야 한다.\n",
        "    sess.run(tf.global_variables_initializer(), feed_dict={ dataset_tf : dataset, k_tf : 4})\n",
        "\n",
        "    colors = ['r','g','b','y']\n",
        "\n",
        "    prev_clusters = [-1]\n",
        "    for i in range(100) :\n",
        "        ##### run kmeans        \n",
        "        centroids_, cluster_per_point_, combine_list_ = sess.run([centroids, cluster_per_point, combine_list], feed_dict={ dataset_tf : dataset, k_tf : 4})\n",
        "        \n",
        "        # equality check를 해야하는데, 모든 원소에 대해서 해야하므로 np.all이라는 함수를 통해서 모든 ref의 원소들이 val의 원소들과 같은 값인지 확인해야 함\n",
        "        if np.all(prev_clusters == cluster_per_point_) :\n",
        "            break\n",
        "        else :            \n",
        "            prev_clusters = cluster_per_point_\n",
        "        \n",
        "        for j in range(4) :\n",
        "            condition = combine_list_[:,2] == j\n",
        "            condition = condition.astype('int32')\n",
        "            x = combine_list_[:,0] * condition\n",
        "            y = combine_list_[:,1] * condition\n",
        "            plt.scatter(x, y, label='dataset', c=colors[j])  \n",
        "            \n",
        "        plt.scatter(centroids_[:,0], centroids_[:,1], s=200, label=\"centroid\", marker='+', c='black')\n",
        "        plt.show()\n",
        "        \n",
        "   "
      ],
      "execution_count": 0,
      "outputs": [
        {
          "output_type": "display_data",
          "data": {
            "image/png": "[encoded data removed]",
            "text/plain": [
              "<Figure size 432x288 with 1 Axes>"
            ]
          },
          "metadata": {
            "tags": []
          }
        },
        {
          "output_type": "display_data",
          "data": {
            "image/png": "[encoded data removed]",
            "text/plain": [
              "<Figure size 432x288 with 1 Axes>"
            ]
          },
          "metadata": {
            "tags": []
          }
        },
        {
          "output_type": "display_data",
          "data": {
            "image/png": "[encoded data removed]",
            "text/plain": [
              "<Figure size 432x288 with 1 Axes>"
            ]
          },
          "metadata": {
            "tags": []
          }
        },
        {
          "output_type": "display_data",
          "data": {
            "image/png": "[encoded data removed]",
            "text/plain": [
              "<Figure size 432x288 with 1 Axes>"
            ]
          },
          "metadata": {
            "tags": []
          }
        },
        {
          "output_type": "display_data",
          "data": {
            "image/png": "[encoded data removed]",
            "text/plain": [
              "<Figure size 432x288 with 1 Axes>"
            ]
          },
          "metadata": {
            "tags": []
          }
        }
      ]
    },
    {
      "metadata": {
        "id": "a3H3pDrkZJl7",
        "colab_type": "text"
      },
      "cell_type": "markdown",
      "source": [
        "### 5. Excercise - section 6 excercise 풀어오기!"
      ]
    },
    {
      "metadata": {
        "id": "mz2Ny4ZXZM6D",
        "colab_type": "code",
        "outputId": "2a4113ed-c6f9-46a6-f6a5-547b99d8200f",
        "colab": {
          "base_uri": "https://localhost:8080/",
          "height": 34
        }
      },
      "cell_type": "code",
      "source": [
        "%matplotlib inline\n",
        "\n",
        "!pip install tensorboardcolab\n",
        "import tensorboardcolab\n",
        "import numpy as np\n",
        "import tensorflow as tf\n",
        "\n",
        "import matplotlib.pyplot as plt"
      ],
      "execution_count": 0,
      "outputs": [
        {
          "output_type": "stream",
          "text": [
            "Requirement already satisfied: tensorboardcolab in /usr/local/lib/python3.6/dist-packages (0.0.22)\n"
          ],
          "name": "stdout"
        }
      ]
    },
    {
      "metadata": {
        "id": "VY6UDy1LseZ4",
        "colab_type": "code",
        "colab": {}
      },
      "cell_type": "code",
      "source": [
        "num_data = 10000 # 데이터의 수 \n",
        "\n",
        "data_X = np.random.normal(0,0.55,[num_data])\n",
        "data_Y = data_X * 0.1 + 0.3 + np.random.normal(0,0.03,[num_data])"
      ],
      "execution_count": 0,
      "outputs": []
    },
    {
      "metadata": {
        "id": "EjACaEFNsoEa",
        "colab_type": "code",
        "outputId": "93173be5-d0b1-4a38-b4b3-6f7d03f8236f",
        "colab": {
          "base_uri": "https://localhost:8080/",
          "height": 70
        }
      },
      "cell_type": "code",
      "source": [
        "# 우선 실행해주세요\n",
        "graph = tf.Graph()\n",
        "with graph.as_default():\n",
        "    xs = tf.placeholder(tf.float32, shape=(None,), name='x')\n",
        "    y_true = tf.placeholder(tf.float32, shape=(None,), name='y_true')\n",
        "\n",
        "    # 변수 초기화\n",
        "    with tf.variable_scope('weights'):\n",
        "        W = tf.Variable(tf.random.normal([1]),\"W\")\n",
        "        b = tf.Variable(tf.zeros([1]),'b')\n",
        "\n",
        "    # Model\n",
        "    with tf.variable_scope(\"Linear_Regression\"):\n",
        "        y_pred = W * xs + b\n",
        "    y_pred = tf.identity(y_pred, name=\"y_pred\")\n",
        "    \n",
        "    # Loss Function\n",
        "    with tf.variable_scope(\"losses\"):\n",
        "        loss = tf.reduce_mean(tf.square(y_pred - y_true))\n",
        "\n",
        "    # Optimizer\n",
        "    train_op = (tf.train\n",
        "                .GradientDescentOptimizer(0.01)\n",
        "                .minimize(loss))\n",
        "        \n",
        "    # 텐서보드를 위한 요약정보(scalar)를 정의합니다.\n",
        "    tf.summary.scalar(name='W', tensor=W[0])\n",
        "    tf.summary.scalar(name='b', tensor=b[0])\n",
        "    tf.summary.scalar(name='loss', tensor=loss)\n",
        "\n",
        "    # 텐서보드 요약정보들을 하나로 합칩니다.\n",
        "    merged_all = tf.summary.merge_all()\n",
        "                                           \n",
        "    # 텐서보드에 연결합니다. \n",
        "    log_dir = \"./log/\"\n",
        "    tbc = tensorboardcolab.TensorBoardColab(graph_path=log_dir)\n",
        "             \n",
        "    # 텐서보드 summary 정보들을 저장할 폴더 경로를 설정합니다.                                    \n",
        "    writer = tf.summary.FileWriter(logdir=log_dir) # event file이 생김\n",
        "    writer.add_graph(graph=tf.get_default_graph())                                         "
      ],
      "execution_count": 0,
      "outputs": [
        {
          "output_type": "stream",
          "text": [
            "Wait for 8 seconds...\n",
            "TensorBoard link:\n",
            "https://b97ec4e4.ngrok.io\n"
          ],
          "name": "stdout"
        }
      ]
    },
    {
      "metadata": {
        "id": "ivIgztYlsq3K",
        "colab_type": "code",
        "colab": {}
      },
      "cell_type": "code",
      "source": [
        "# 정답을 입력해주세요\n",
        "# 아래 학습 과정 중에 텐서보드를 선언하고\n",
        "# Summary 연산을 통해 올려 주세요\n",
        "\n",
        "# 조건 1. graph tensorbaord 에 연결 \n",
        "# 조건 2. W, B, loss 는 scalar summary 노드를 이용해 시각화 \n",
        "# 조건 3. W, B, loss 는 step 별로 추적 \n",
        "\n",
        "# 아래는 Session을 통해 Linear Regression을 학습하는 과정입니다.\n",
        "with graph.as_default():\n",
        "    sess = tf.Session(graph=graph)\n",
        "    sess.run(tf.global_variables_initializer())\n",
        "    for step in range(1000):\n",
        "        _, summary_values = sess.run([train_op, merged_all],\n",
        "                                     feed_dict={\n",
        "                                         xs:data_X,\n",
        "                                         y_true:data_Y\n",
        "                                     })   \n",
        "    W_, b_ = sess.run([W,b])\n",
        "        "
      ],
      "execution_count": 0,
      "outputs": []
    },
    {
      "metadata": {
        "id": "QZ_w_3ZaszcY",
        "colab_type": "code",
        "outputId": "bd5981f3-3f34-4de0-b3bc-ad94f547a811",
        "colab": {
          "base_uri": "https://localhost:8080/",
          "height": 281
        }
      },
      "cell_type": "code",
      "source": [
        "# print(\"학습된 Weight : {:.3f} Bias : {:.3f}\".format(W_[0], b_[0]))\n",
        "\n",
        "# visualization data\n",
        "plt.title(\"data Distribution\")\n",
        "plt.scatter(data_X, data_Y, c='C0', label='Original data', alpha=0.5)\n",
        "\n",
        "pred_X = np.array([-2.,2.])\n",
        "pred_Y = sess.run(y_pred, feed_dict={xs:pred_X})\n",
        "preds = np.stack([pred_X,pred_Y])\n",
        "plt.plot(pred_X, pred_Y, color='r', label='wx+b')\n",
        "\n",
        "plt.legend()\n",
        "plt.show()"
      ],
      "execution_count": 0,
      "outputs": [
        {
          "output_type": "display_data",
          "data": {
            "image/png": "[encoded data removed]",
            "text/plain": [
              "<Figure size 432x288 with 1 Axes>"
            ]
          },
          "metadata": {
            "tags": []
          }
        }
      ]
    }
  ]
}