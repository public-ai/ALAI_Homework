{
  "nbformat": 4,
  "nbformat_minor": 0,
  "metadata": {
    "colab": {
      "name": "LeNet-5 구현",
      "version": "0.3.2",
      "provenance": [],
      "collapsed_sections": []
    },
    "kernelspec": {
      "name": "python3",
      "display_name": "Python 3"
    },
    "accelerator": "GPU"
  },
  "cells": [
    {
      "cell_type": "markdown",
      "metadata": {
        "id": "cg9SQOwVWMLS",
        "colab_type": "text"
      },
      "source": [
        " ╔══<i><b>Alai-DeepLearning</b></i>════════════════════════════╗\n",
        "###  &nbsp;&nbsp; **✎&nbsp;&nbsp;Week 9. CNN Basis**\n",
        "# Section 5. Lenet-5 구성하기\n",
        "\n",
        "### _Objective_\n",
        "1. LeNet-5은 1980년대 convolution neural network로 혁신을 가져왔습니다. <br>\n",
        "2. Tensorflow의 Low-API를 이용하여, LeNet-5을 구성하도록 하겠습니다. <br> \n",
        "  \n",
        "╚══════════════════════════════════════════╝"
      ]
    },
    {
      "cell_type": "code",
      "metadata": {
        "id": "t7ZmIRsGWMLT",
        "colab_type": "code",
        "colab": {}
      },
      "source": [
        "%matplotlib inline\n",
        "import matplotlib.pyplot as plt\n",
        "import numpy as np\n",
        "\n",
        "import tensorflow as tf\n",
        "from tqdm import tqdm"
      ],
      "execution_count": 0,
      "outputs": []
    },
    {
      "cell_type": "markdown",
      "metadata": {
        "id": "D1zsRu3QWMLW",
        "colab_type": "text"
      },
      "source": [
        "## Graph Visualization"
      ]
    },
    {
      "cell_type": "code",
      "metadata": {
        "id": "vo6cpLiNWMLW",
        "colab_type": "code",
        "colab": {}
      },
      "source": [
        "from IPython.display import clear_output, Image, display, HTML\n",
        "import numpy as np    \n",
        "\n",
        "def strip_consts(graph_def, max_const_size=32):\n",
        "    \"\"\"Strip large constant values from graph_def.\"\"\"\n",
        "    strip_def = tf.GraphDef()\n",
        "    for n0 in graph_def.node:\n",
        "        n = strip_def.node.add() \n",
        "        n.MergeFrom(n0)\n",
        "        if n.op == 'Const':\n",
        "            tensor = n.attr['value'].tensor\n",
        "            size = len(tensor.tensor_content)\n",
        "            if size > max_const_size:\n",
        "                tensor.tensor_content = \"<stripped %d bytes>\"%size\n",
        "    return strip_def\n",
        "\n",
        "def show_graph(graph_def, max_const_size=32):\n",
        "    \"\"\"Visualize TensorFlow graph.\"\"\"\n",
        "    if hasattr(graph_def, 'as_graph_def'):\n",
        "        graph_def = graph_def.as_graph_def()\n",
        "    strip_def = strip_consts(graph_def, max_const_size=max_const_size)\n",
        "    code = \"\"\"\n",
        "        <script>\n",
        "          function load() {{\n",
        "            document.getElementById(\"{id}\").pbtxt = {data};\n",
        "          }}\n",
        "        </script>\n",
        "        <link rel=\"import\" href=\"https://tensorboard.appspot.com/tf-graph-basic.build.html\" onload=load()>\n",
        "        <div style=\"height:600px\">\n",
        "          <tf-graph-basic id=\"{id}\"></tf-graph-basic>\n",
        "        </div>\n",
        "    \"\"\".format(data=repr(str(strip_def)), id='graph'+str(np.random.rand()))\n",
        "\n",
        "    iframe = \"\"\"\n",
        "        <iframe seamless style=\"width:1200px;height:620px;border:0\" srcdoc=\"{}\"></iframe>\n",
        "    \"\"\".format(code.replace('\"', '&quot;'))\n",
        "    display(HTML(iframe))"
      ],
      "execution_count": 0,
      "outputs": []
    },
    {
      "cell_type": "markdown",
      "metadata": {
        "id": "5YOhlAoAWMLY",
        "colab_type": "text"
      },
      "source": [
        "<br><br>\n",
        "\n",
        "# \\[ 1. Tensorflow를 이용한 Lenet-5 구성하기 \\]\n",
        "\n",
        "----\n",
        "----\n",
        " \n",
        "> *아래는 논문에서 발췌한 Lenet-5의 구조도입니다.*<br> \n",
        "\n",
        "![Imgur](https://i.imgur.com/WCN9wTP.png)\n",
        "\n",
        "\n",
        "\n",
        "| 층  | 종류 |필터 갯수 | 필터 크기 | 스트라이드 | 패딩 |\n",
        "|--- |--- |----| ----|----|----|\n",
        "| c1 |합성곱| 6   | (5,5) | 1  | valid |\n",
        "| s2 |pooling| --- | (2,2) | 2  | valid | \n",
        "| c3 |합성곱| 16  | (10,10) | 1 | valid |\n",
        "| s4 |pooling| --- | (2,2) | 2 | valid |\n",
        "| c5 |합성곱 | 120  | (5,5) | 1  | valid |\n",
        "| f6 |FC   | 84   | --- | ---  | --- |\n",
        "| OUT | softmax | 10 |  --- | --- | --- |\n",
        "\n"
      ]
    },
    {
      "cell_type": "markdown",
      "metadata": {
        "id": "8krgSXeMWMLZ",
        "colab_type": "text"
      },
      "source": [
        "<br>\n",
        "\n",
        "## 1. Tensorflow Graph 구성하기\n",
        "----\n",
        "\n",
        "위의 모델은 1980년대 만들어진 모델로, 현대의 딥러닝 발전에 매우 커다란 공헌을 하였습니다.<br>\n",
        "하지만 현대 딥러닝 모델을 구성할 때의 방식과는 약간씩 다른 부분들이 있습니다.<br>"
      ]
    },
    {
      "cell_type": "markdown",
      "metadata": {
        "id": "dKljUI54WMLZ",
        "colab_type": "text"
      },
      "source": [
        "### (1) placeholder 구성하기\n",
        "\n",
        "LeNet에서는 Input size가 Mnist 데이터셋의 기본 크기인 (28,28)이 아닌,<br>\n",
        "여기에 Zero-padding을 더해 32x32 크기로 구성하였습니다.<br>\n",
        "이는 각 convolution 단계에서 조금씩 이미지가 줄어드는 것을 방지하고자 함이었습니다.<br>\n"
      ]
    },
    {
      "cell_type": "code",
      "metadata": {
        "id": "8GmP8vOTWMLa",
        "colab_type": "code",
        "colab": {}
      },
      "source": [
        "graph = tf.Graph()\n",
        "\n",
        "with graph.as_default():\n",
        "    x = tf.placeholder(tf.float32,(None,28,28,1),name='RAW_INPUT')\n",
        "    \n",
        "    with tf.variable_scope('padding'):\n",
        "        paddings = tf.constant([[0,0],[2,2],[2,2],[0,0]])\n",
        "        x_with_pad = tf.pad(tensor = x, paddings = paddings )\n",
        "    x_with_pad = tf.identity(x_with_pad,name='INPUT')"
      ],
      "execution_count": 0,
      "outputs": []
    },
    {
      "cell_type": "markdown",
      "metadata": {
        "id": "LFJoctIVWMLh",
        "colab_type": "text"
      },
      "source": [
        "tf.pad는 padding을 추가하는 연산입니다.<br>\n",
        "````python\n",
        "paddings[D, 0] + tensor.dim_size(D) + paddings[D, 1]\n",
        "````\n",
        "의 규칙을 따릅니다. 각 차원 별로 전후 몇개의 padding을 결정합니다.<br>\n"
      ]
    },
    {
      "cell_type": "markdown",
      "metadata": {
        "id": "pu2wM9z7WMLi",
        "colab_type": "text"
      },
      "source": [
        "### (2) C1 구성하기\n",
        "\n",
        "텐서플로우에서는 convolution 연산자를 지원해줍니다.<br>\n",
        "````python\n",
        "tf.nn.conv2d(input, filter, strides, padding,...)\n",
        "````\n",
        "으로 구성되어 있습니다. 이때 input과 filter는 아래의 shape 순서를 지켜야 합니다.\n",
        "\n",
        "1. input : [batch, in_height, in_width, in_channels]\n",
        "2. filter : [filter_height, filter_width, in_channels, out_channels]"
      ]
    },
    {
      "cell_type": "code",
      "metadata": {
        "id": "q-AccFkHWMLj",
        "colab_type": "code",
        "outputId": "34cfffab-35cd-4b81-ee84-6fb5945fa54d",
        "colab": {
          "base_uri": "https://localhost:8080/",
          "height": 107
        }
      },
      "source": [
        "filter_height = 5\n",
        "filter_width = 5#fix me #\n",
        "in_channels = 1#fix me #\n",
        "out_channels = 6#fix me # filter의 갯수임\n",
        "\n",
        "with graph.as_default():\n",
        "    with tf.variable_scope('C1'):\n",
        "\n",
        "        w1 = tf.get_variable(name='w1',\n",
        "                             shape = [filter_height,filter_width,\n",
        "                                      in_channels, out_channels],\n",
        "                             initializer=tf.initializers.glorot_normal)\n",
        "        b1 = tf.Variable(tf.zeros(shape = [out_channels]))\n",
        "        \n",
        "        c1 = tf.nn.conv2d(input = x_with_pad, filter = w1, strides = [1,1,1,1],\n",
        "                         padding = 'VALID')\n",
        "        c1 = c1 + b1\n",
        "        c1 = tf.nn.tanh(c1) #fix me# : activation tanh"
      ],
      "execution_count": 4,
      "outputs": [
        {
          "output_type": "stream",
          "text": [
            "WARNING: Logging before flag parsing goes to stderr.\n",
            "W0618 16:07:11.307533 140358502483840 deprecation.py:506] From /usr/local/lib/python3.6/dist-packages/tensorflow/python/ops/init_ops.py:1288: calling VarianceScaling.__init__ (from tensorflow.python.ops.init_ops) with dtype is deprecated and will be removed in a future version.\n",
            "Instructions for updating:\n",
            "Call initializer instance with the dtype argument instead of passing it to the constructor\n"
          ],
          "name": "stderr"
        }
      ]
    },
    {
      "cell_type": "code",
      "metadata": {
        "colab_type": "code",
        "outputId": "28ee7a61-9069-459c-ddb5-bfccbe84307d",
        "id": "mDMO8E_TYdxB",
        "colab": {
          "base_uri": "https://localhost:8080/",
          "height": 34
        }
      },
      "source": [
        "print(\"출력의 형태 :\",c1.shape)"
      ],
      "execution_count": 5,
      "outputs": [
        {
          "output_type": "stream",
          "text": [
            "출력의 형태 : (?, 28, 28, 6)\n"
          ],
          "name": "stdout"
        }
      ]
    },
    {
      "cell_type": "markdown",
      "metadata": {
        "id": "YCi8q3hMWMLq",
        "colab_type": "text"
      },
      "source": [
        "### (3) S2 구성하기\n",
        "\n",
        "텐서플로우에서는 pooling 연산자를 지원해줍니다.<br>\n",
        "논문에서는 average Pooling으로 Max Pooling과 달리 평균값을 이용해주는 기법입니다.<br>\n",
        "Max Pooling이 좀 더 성능이 좋으므로 변경하겠습니다.\n",
        "````python\n",
        "tf.nn.max_pool(value, ksize, strides, padding,...)\n",
        "````\n",
        "으로 구성되어 있습니다. 이때 input과 filter는 아래의 shape 순서를 지켜야 합니다.\n",
        "\n",
        "1. value : [batch, in_height, in_width, in_channels]\n",
        "2. ksize : 각 차원 별 ksize -> batch 별, 채널 별로 적용하므로 [1,in_height,in_width,1]이 되어야 함"
      ]
    },
    {
      "cell_type": "code",
      "metadata": {
        "id": "iN5p3FCNWMLq",
        "colab_type": "code",
        "colab": {}
      },
      "source": [
        "k = 2 # pooling의 크기\n",
        "with graph.as_default():\n",
        "    with tf.variable_scope('S2'):\n",
        "        s2 = tf.nn.max_pool(value = c1, ksize = [1,2,2,1], strides = [1,2,2,1],\n",
        "                           padding = 'VALID')"
      ],
      "execution_count": 0,
      "outputs": []
    },
    {
      "cell_type": "code",
      "metadata": {
        "id": "l_qBeFx8WMLs",
        "colab_type": "code",
        "outputId": "720a74b7-af8f-4543-8e74-9eccb0e083e7",
        "colab": {
          "base_uri": "https://localhost:8080/",
          "height": 34
        }
      },
      "source": [
        "print(\"출력의 형태 :\",s2.shape)"
      ],
      "execution_count": 7,
      "outputs": [
        {
          "output_type": "stream",
          "text": [
            "출력의 형태 : (?, 14, 14, 6)\n"
          ],
          "name": "stdout"
        }
      ]
    },
    {
      "cell_type": "markdown",
      "metadata": {
        "id": "LNk9_UZ4WMLw",
        "colab_type": "text"
      },
      "source": [
        "### (4) C3 구성하기\n",
        "\n",
        "C1과 동일하게 구성하여 줍니다."
      ]
    },
    {
      "cell_type": "code",
      "metadata": {
        "id": "zWmFSwnHWMLx",
        "colab_type": "code",
        "colab": {}
      },
      "source": [
        "filter_height = 5\n",
        "filter_width = 5\n",
        "in_channels = 6\n",
        "out_channels = 16\n",
        "\n",
        "with graph.as_default():\n",
        "    with tf.variable_scope('C3'):\n",
        "        w3 = tf.get_variable(name='w3',\n",
        "                             shape = [filter_height,filter_width,\n",
        "                                      in_channels,out_channels],\n",
        "                             initializer=tf.initializers.glorot_normal)\n",
        "        b3 = tf.Variable(tf.zeros(shape = [out_channels]))\n",
        "        \n",
        "        c3 = tf.nn.conv2d(input = s2, filter = w3, strides = [1,1,1,1],\n",
        "                         padding = 'VALID')\n",
        "        c3 = c3 + b3\n",
        "        c3 = tf.nn.tanh(c3)"
      ],
      "execution_count": 0,
      "outputs": []
    },
    {
      "cell_type": "code",
      "metadata": {
        "id": "5urTPfHLWMLy",
        "colab_type": "code",
        "outputId": "b79723b8-4bc6-41eb-9087-e68f0d941ad3",
        "colab": {
          "base_uri": "https://localhost:8080/",
          "height": 34
        }
      },
      "source": [
        "print(\"출력의 형태 :\",c3.shape)"
      ],
      "execution_count": 9,
      "outputs": [
        {
          "output_type": "stream",
          "text": [
            "출력의 형태 : (?, 10, 10, 16)\n"
          ],
          "name": "stdout"
        }
      ]
    },
    {
      "cell_type": "markdown",
      "metadata": {
        "id": "hhyXSKCLWML8",
        "colab_type": "text"
      },
      "source": [
        "### (4) S4 구성하기\n",
        "\n",
        "S2과 동일하게 구성하여 줍니다."
      ]
    },
    {
      "cell_type": "code",
      "metadata": {
        "id": "m40d20t9WML8",
        "colab_type": "code",
        "colab": {}
      },
      "source": [
        "k = 2 # pooling의 크기\n",
        "\n",
        "with graph.as_default():\n",
        "    with tf.variable_scope('S4'):\n",
        "        s4 = tf.nn.max_pool(value = c3, ksize=[1,2,2,1],strides = [1,2,2,1], padding = 'VALID')"
      ],
      "execution_count": 0,
      "outputs": []
    },
    {
      "cell_type": "code",
      "metadata": {
        "id": "9L-S5QqmWML_",
        "colab_type": "code",
        "outputId": "a520f47b-3f77-4a5f-cfc0-c0602fff251e",
        "colab": {
          "base_uri": "https://localhost:8080/",
          "height": 34
        }
      },
      "source": [
        "print(\"출력의 형태 :\",s4.shape)"
      ],
      "execution_count": 11,
      "outputs": [
        {
          "output_type": "stream",
          "text": [
            "출력의 형태 : (?, 5, 5, 16)\n"
          ],
          "name": "stdout"
        }
      ]
    },
    {
      "cell_type": "markdown",
      "metadata": {
        "id": "pfM0XZFzWMMH",
        "colab_type": "text"
      },
      "source": [
        "### (5) C5 구성하기\n",
        "\n",
        "C5은 Convolution 연산이지만, 실제로는 Fully Connected Layer와 동일합니다<br>\n",
        "입력 특징맵의 크기와 Filter의 크기가 동일해, 모두 연결되어 있기 때문입니다."
      ]
    },
    {
      "cell_type": "code",
      "metadata": {
        "id": "gu2Qgk9vWMML",
        "colab_type": "code",
        "colab": {}
      },
      "source": [
        "filter_height = 5 #fix me#\n",
        "filter_width = 5 #fix me #\n",
        "in_channels =  16#fix me#\n",
        "out_channels = 120#fix me#\n",
        "\n",
        "with graph.as_default():\n",
        "    with tf.variable_scope('S5'):\n",
        "        w5 = tf.get_variable(name='w5',\n",
        "                             shape = [filter_height,filter_width,\n",
        "                                      in_channels,out_channels],\n",
        "                             initializer=tf.initializers.glorot_normal)\n",
        "        b5 = tf.Variable(tf.zeros(shape = [out_channels]))\n",
        "        \n",
        "        c5 = tf.nn.conv2d(input = s4, filter = w5, strides = [1,1,1,1],\n",
        "                         padding = 'VALID')\n",
        "        c5 = c5 + b5\n",
        "        c5 = tf.nn.tanh(c5)"
      ],
      "execution_count": 0,
      "outputs": []
    },
    {
      "cell_type": "code",
      "metadata": {
        "id": "lGJ-7Xa-WMMO",
        "colab_type": "code",
        "outputId": "a6e362fb-94dc-4c34-8747-87bdc528e604",
        "colab": {
          "base_uri": "https://localhost:8080/",
          "height": 34
        }
      },
      "source": [
        "print(\"출력의 형태 :\",c5.shape)"
      ],
      "execution_count": 13,
      "outputs": [
        {
          "output_type": "stream",
          "text": [
            "출력의 형태 : (?, 1, 1, 120)\n"
          ],
          "name": "stdout"
        }
      ]
    },
    {
      "cell_type": "markdown",
      "metadata": {
        "id": "yuXlaHVkWMMo",
        "colab_type": "text"
      },
      "source": [
        "### (5) F6 구성하기\n",
        "\n",
        "F6은 이전에 배웠던 Fully Connected Layer입니다.<Br>\n",
        "우선 Fully Connected Layer을 적용하기 위해서는 Tensor의 형태를 바꾸어 주어야 합니다."
      ]
    },
    {
      "cell_type": "code",
      "metadata": {
        "id": "S4NrmqEnWMMo",
        "colab_type": "code",
        "colab": {}
      },
      "source": [
        "in_channels = 120\n",
        "out_channels = 84\n",
        "\n",
        "with graph.as_default():\n",
        "    with tf.variable_scope('F6'):\n",
        "        c5 = tf.reshape(c5, shape = (-1,in_channels))#fix me # : flatten c5 \n",
        "        f6 = tf.layers.Dense(units=out_channels, activation=tf.nn.tanh,\n",
        "                             kernel_initializer=tf.initializers.glorot_normal)(c5) #fix me # : dense layer , activation tanh\n",
        "        \n"
      ],
      "execution_count": 0,
      "outputs": []
    },
    {
      "cell_type": "code",
      "metadata": {
        "id": "P5hv2qU8WMMr",
        "colab_type": "code",
        "outputId": "d5192b02-65ea-4f3f-eec8-fb6474e56551",
        "colab": {
          "base_uri": "https://localhost:8080/",
          "height": 34
        }
      },
      "source": [
        "print(\"출력의 형태 :\",f6.shape)"
      ],
      "execution_count": 15,
      "outputs": [
        {
          "output_type": "stream",
          "text": [
            "출력의 형태 : (?, 84)\n"
          ],
          "name": "stdout"
        }
      ]
    },
    {
      "cell_type": "markdown",
      "metadata": {
        "id": "J3vodeqNWMMv",
        "colab_type": "text"
      },
      "source": [
        "### (6) OUTPUT 구성하기\n",
        "\n",
        "Original Paper에서는 RBF(Euclidean Radial Basis Function)을 이용하였습니다. <br>\n",
        "현대 딥러닝에서는 대부분의 분류기 모델에서는 주로 softmax와 Cross-Entropy를 이용하여<br>\n",
        "학습시킵니다."
      ]
    },
    {
      "cell_type": "code",
      "metadata": {
        "id": "PjM1vCHbWMMv",
        "colab_type": "code",
        "colab": {}
      },
      "source": [
        "num_classes = 10 \n",
        "\n",
        "with graph.as_default():\n",
        "    with tf.variable_scope('OUTPUT'):\n",
        "        logits = tf.layers.Dense(units=num_classes, activation=None,\n",
        "                                kernel_initializer=tf.initializers.glorot_normal)(f6)\n",
        "    y_pred = tf.nn.softmax(logits, axis = 1) #fix me# : softmax \n",
        "    "
      ],
      "execution_count": 0,
      "outputs": []
    },
    {
      "cell_type": "code",
      "metadata": {
        "id": "Ubak_hCtWMMw",
        "colab_type": "code",
        "outputId": "2be90d24-deb5-4bf7-afa2-3611c4c04ebd",
        "colab": {
          "base_uri": "https://localhost:8080/",
          "height": 34
        }
      },
      "source": [
        "print(\"출력의 형태 :\",logits.shape)"
      ],
      "execution_count": 17,
      "outputs": [
        {
          "output_type": "stream",
          "text": [
            "출력의 형태 : (?, 10)\n"
          ],
          "name": "stdout"
        }
      ]
    },
    {
      "cell_type": "markdown",
      "metadata": {
        "id": "muVkMMBBWMM1",
        "colab_type": "text"
      },
      "source": [
        "### (6) 학습에 필요한 연산자 구현하기 \n",
        "\n",
        "우리의 출력 활성화함수가 softmax이므로, softmax-cross-entropy를 이용하도록 하겠습니다.<br>\n",
        "그리고 optimizer도 adam optimizer을 이용하도록 하겠습니다.\n",
        "\n"
      ]
    },
    {
      "cell_type": "code",
      "metadata": {
        "id": "3n6spuyzWMM1",
        "colab_type": "code",
        "outputId": "24c67c2e-ce89-410e-ba76-e0cae9523761",
        "colab": {
          "base_uri": "https://localhost:8080/",
          "height": 89
        }
      },
      "source": [
        "with graph.as_default():\n",
        "    y_true = tf.placeholder(dtype = tf.int64, shape = [None])#fix me#\n",
        "    lr = tf.placeholder_with_default(input=0.0001, shape=[])#fix me #\n",
        "    # fix me # use tf.losses.sparse_softmax_cross_entropy()\n",
        "    loss = tf.losses.sparse_softmax_cross_entropy(labels=y_true, logits=logits)\n",
        "    \n",
        "    train_op = tf.train.AdamOptimizer(lr).minimize(loss)#fix me #"
      ],
      "execution_count": 18,
      "outputs": [
        {
          "output_type": "stream",
          "text": [
            "W0618 16:07:11.810706 140358502483840 deprecation.py:323] From /usr/local/lib/python3.6/dist-packages/tensorflow/python/ops/losses/losses_impl.py:121: add_dispatch_support.<locals>.wrapper (from tensorflow.python.ops.array_ops) is deprecated and will be removed in a future version.\n",
            "Instructions for updating:\n",
            "Use tf.where in 2.0, which has the same broadcast rule as np.where\n"
          ],
          "name": "stderr"
        }
      ]
    },
    {
      "cell_type": "markdown",
      "metadata": {
        "id": "fmtynynbWMM3",
        "colab_type": "text"
      },
      "source": [
        "sparse_softmax_cross_entropy는 y_true 값으로 one-hot vector을 넣는 것이 아닌<br>\n",
        "class 라벨(ex) 0, 3, 2..)을 넣습니다."
      ]
    },
    {
      "cell_type": "markdown",
      "metadata": {
        "id": "lcQhJ-KRWMM5",
        "colab_type": "text"
      },
      "source": [
        "### (7) Metric 구현하기\n",
        "\n",
        "분류기의 성능을 평가하기 위해, 정확도에 관련된 연산자를 구현하겠습니다."
      ]
    },
    {
      "cell_type": "code",
      "metadata": {
        "id": "EP1yppccWMM5",
        "colab_type": "code",
        "colab": {}
      },
      "source": [
        "with graph.as_default():\n",
        "    with tf.variable_scope('accuracy'):\n",
        "        pred = tf.math.argmax(y_pred, axis=1) #argmax로 가장큰 prop값의 위치값(=예측정답)\n",
        "        correct = tf.equal(pred, y_true)\n",
        "        accuracy = tf.reduce_mean(tf.cast(correct, tf.float32))"
      ],
      "execution_count": 0,
      "outputs": []
    },
    {
      "cell_type": "markdown",
      "metadata": {
        "id": "amLSR3ZOWMM9",
        "colab_type": "text"
      },
      "source": [
        "<br>\n",
        "\n",
        "## 2. LeNet 학습시키기\n",
        "----\n",
        "\n",
        "mnist을 불러와 모델을 학습시키도록 하겠습니다."
      ]
    },
    {
      "cell_type": "markdown",
      "metadata": {
        "id": "I6Y-NO_sWMM9",
        "colab_type": "text"
      },
      "source": [
        "### (1) 데이터 가져오기"
      ]
    },
    {
      "cell_type": "code",
      "metadata": {
        "id": "6BDj7ibFWMM-",
        "colab_type": "code",
        "colab": {}
      },
      "source": [
        "from tensorflow.keras.datasets.mnist import load_data\n",
        "\n",
        "(train_X, train_Y), (test_X, test_Y) = load_data()\n",
        "train_X = train_X/255. # 0~1 정규화\n",
        "train_X = np.expand_dims(train_X,axis=-1)\n",
        "test_X = test_X/255. # 0~1 정규화\n",
        "test_X = np.expand_dims(test_X,axis=-1)"
      ],
      "execution_count": 0,
      "outputs": []
    },
    {
      "cell_type": "code",
      "metadata": {
        "id": "vyy2PMCmWMM_",
        "colab_type": "code",
        "outputId": "a4cd6f43-4ed2-4b43-ed52-215380c6fc5e",
        "colab": {
          "base_uri": "https://localhost:8080/",
          "height": 281
        }
      },
      "source": [
        "idx = 15\n",
        "plt.title(train_Y[idx])\n",
        "plt.imshow(train_X[idx,:,:,0])\n",
        "plt.show()"
      ],
      "execution_count": 21,
      "outputs": [
        {
          "output_type": "display_data",
          "data": {
            "image/png": "[encoded data removed]",
            "text/plain": [
              "<Figure size 432x288 with 1 Axes>"
            ]
          },
          "metadata": {
            "tags": []
          }
        }
      ]
    },
    {
      "cell_type": "markdown",
      "metadata": {
        "id": "buftz_qJWMNC",
        "colab_type": "text"
      },
      "source": [
        "\n",
        "### (2) 모델 학습시키기"
      ]
    },
    {
      "cell_type": "code",
      "metadata": {
        "id": "GIwOpEkYWMNC",
        "colab_type": "code",
        "outputId": "9d1047e6-7a66-4f0e-b3fa-908ede7d3de5",
        "colab": {
          "base_uri": "https://localhost:8080/",
          "height": 367
        }
      },
      "source": [
        "num_epoch = 10\n",
        "num_batch = 100\n",
        "num_step = len(train_X)//num_batch\n",
        "\n",
        "with graph.as_default():\n",
        "\n",
        "    sess = tf.Session(graph=graph)\n",
        "    sess.run(tf.global_variables_initializer())\n",
        "\n",
        "    for epoch in range(num_epoch):\n",
        "        for step in tqdm(range(num_step)):\n",
        "            batch_X = train_X[step*num_batch:(step+1)*num_batch]\n",
        "            batch_Y = train_Y[step*num_batch:(step+1)*num_batch]\n",
        "            sess.run(train_op,feed_dict={\n",
        "                x:batch_X,\n",
        "                y_true:batch_Y\n",
        "            })\n",
        "\n",
        "        acc = sess.run(accuracy,feed_dict={\n",
        "            x:test_X,\n",
        "            y_true:test_Y\n",
        "        })\n",
        "        print(\"[{:2d} epoch] Test 정확도 : {:2.2f}%\"\n",
        "              .format(epoch+1, acc*100))\n"
      ],
      "execution_count": 22,
      "outputs": [
        {
          "output_type": "stream",
          "text": [
            "100%|██████████| 600/600 [00:03<00:00, 171.05it/s]\n",
            "  8%|▊         | 48/600 [00:00<00:01, 473.28it/s]"
          ],
          "name": "stderr"
        },
        {
          "output_type": "stream",
          "text": [
            "[ 1 epoch] Test 정확도 : 91.47%\n"
          ],
          "name": "stdout"
        },
        {
          "output_type": "stream",
          "text": [
            "100%|██████████| 600/600 [00:01<00:00, 468.50it/s]\n",
            "  8%|▊         | 49/600 [00:00<00:01, 486.22it/s]"
          ],
          "name": "stderr"
        },
        {
          "output_type": "stream",
          "text": [
            "[ 2 epoch] Test 정확도 : 94.24%\n"
          ],
          "name": "stdout"
        },
        {
          "output_type": "stream",
          "text": [
            "100%|██████████| 600/600 [00:01<00:00, 478.94it/s]\n",
            "  8%|▊         | 48/600 [00:00<00:01, 476.99it/s]"
          ],
          "name": "stderr"
        },
        {
          "output_type": "stream",
          "text": [
            "[ 3 epoch] Test 정확도 : 95.60%\n"
          ],
          "name": "stdout"
        },
        {
          "output_type": "stream",
          "text": [
            "100%|██████████| 600/600 [00:01<00:00, 475.43it/s]\n",
            "  8%|▊         | 49/600 [00:00<00:01, 485.93it/s]"
          ],
          "name": "stderr"
        },
        {
          "output_type": "stream",
          "text": [
            "[ 4 epoch] Test 정확도 : 96.53%\n"
          ],
          "name": "stdout"
        },
        {
          "output_type": "stream",
          "text": [
            "100%|██████████| 600/600 [00:01<00:00, 478.47it/s]\n",
            "  8%|▊         | 46/600 [00:00<00:01, 455.66it/s]"
          ],
          "name": "stderr"
        },
        {
          "output_type": "stream",
          "text": [
            "[ 5 epoch] Test 정확도 : 97.08%\n"
          ],
          "name": "stdout"
        },
        {
          "output_type": "stream",
          "text": [
            "100%|██████████| 600/600 [00:01<00:00, 475.35it/s]\n",
            "  8%|▊         | 48/600 [00:00<00:01, 473.11it/s]"
          ],
          "name": "stderr"
        },
        {
          "output_type": "stream",
          "text": [
            "[ 6 epoch] Test 정확도 : 97.48%\n"
          ],
          "name": "stdout"
        },
        {
          "output_type": "stream",
          "text": [
            "100%|██████████| 600/600 [00:01<00:00, 468.54it/s]\n",
            "  8%|▊         | 47/600 [00:00<00:01, 460.96it/s]"
          ],
          "name": "stderr"
        },
        {
          "output_type": "stream",
          "text": [
            "[ 7 epoch] Test 정확도 : 97.78%\n"
          ],
          "name": "stdout"
        },
        {
          "output_type": "stream",
          "text": [
            "100%|██████████| 600/600 [00:01<00:00, 473.20it/s]\n",
            "  8%|▊         | 47/600 [00:00<00:01, 464.57it/s]"
          ],
          "name": "stderr"
        },
        {
          "output_type": "stream",
          "text": [
            "[ 8 epoch] Test 정확도 : 98.00%\n"
          ],
          "name": "stdout"
        },
        {
          "output_type": "stream",
          "text": [
            "100%|██████████| 600/600 [00:01<00:00, 468.58it/s]\n",
            "  8%|▊         | 49/600 [00:00<00:01, 480.86it/s]"
          ],
          "name": "stderr"
        },
        {
          "output_type": "stream",
          "text": [
            "[ 9 epoch] Test 정확도 : 98.17%\n"
          ],
          "name": "stdout"
        },
        {
          "output_type": "stream",
          "text": [
            "100%|██████████| 600/600 [00:01<00:00, 476.11it/s]"
          ],
          "name": "stderr"
        },
        {
          "output_type": "stream",
          "text": [
            "[10 epoch] Test 정확도 : 98.31%\n"
          ],
          "name": "stdout"
        },
        {
          "output_type": "stream",
          "text": [
            "\n"
          ],
          "name": "stderr"
        }
      ]
    },
    {
      "cell_type": "markdown",
      "metadata": {
        "id": "Sh_PJttOWMNE",
        "colab_type": "text"
      },
      "source": [
        "#  \n",
        "\n",
        "---\n",
        "\n",
        "    Copyright(c) 2019 by Public AI. All rights reserved.<br>\n",
        "    Writen by PAI, SangJae Kang ( rocketgrowthsj@publicai.co.kr )  last updated on 2019/04/26\n",
        "\n",
        "---"
      ]
    }
  ]
}