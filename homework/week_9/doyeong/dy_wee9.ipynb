{
 "cells": [
  {
   "cell_type": "markdown",
   "metadata": {
    "colab_type": "text",
    "id": "V5DbTV6Y8_fm"
   },
   "source": [
    "## CIFAR-10, 100 학습시키기\n",
    "\n",
    "## Objective\n",
    "\n",
    "1.[CIFAR -10 Data](https://www.cs.toronto.edu/~kriz/cifar.html) 을 Convolution Neural Network 을 이용해 학습해봅니다.\n",
    "----\n",
    "![Imgur](https://i.imgur.com/yy09iLz.png)\n",
    "\n",
    "\n",
    "- loss 가 가장 작은 model 을 저장합니다.\n",
    "- 목표 accuracy 는 75% 입니다. \n",
    "​\n",
    "\n",
    "------\n"
   ]
  },
  {
   "cell_type": "code",
   "execution_count": 0,
   "metadata": {
    "colab_type": "code",
    "id": "-syRx_WBWebm",
    "colab": {}
   },
   "outputs": [],
   "source": [
    "}import numpy as np \n",
    "import tensorflow as tf \n",
    "import matplotlib.pyplot as plt\n",
    "import os"
   ]
  },
  {
   "cell_type": "markdown",
   "metadata": {
    "colab_type": "text",
    "id": "okPBT4DkqPmu"
   },
   "source": [
    "# Load Cifar-10 dataset \n",
    " - cifar 10 dataset 을 다운로드 합니다. \n",
    " - normalize 을 수행합니다."
   ]
  },
  {
   "cell_type": "code",
   "execution_count": 0,
   "metadata": {
    "colab_type": "code",
    "id": "ApD4EzRiqOGj",
    "outputId": "2efc4bfc-2ddd-44a7-9877-91dfa0f02c8f",
    "colab": {
     "base_uri": "https://localhost:8080/",
     "height": 50.0
    }
   },
   "outputs": [
    {
     "name": "stderr",
     "output_type": "stream",
     "text": [
      "Using TensorFlow backend.\n"
     ]
    },
    {
     "name": "stdout",
     "output_type": "stream",
     "text": [
      "image shape : (50000, 32, 32, 3), label shape : (50000,) \n",
      "image shape : (10000, 32, 32, 3), label shape : (10000,) \n",
      "train minimun : 0.0, train_maximum : 1.0 \n",
      "tests minimun : 0.0, test_maximum : 1.0 \n"
     ]
    }
   ],
   "source": [
    "# load cifar10 dataset \n",
    "from keras.datasets import cifar10\n",
    "(x_train, y_train), (x_test, y_test) = cifar10.load_data()\n",
    "\n",
    "# reshape (None, 1) -> (None)\n",
    "y_train, y_test = #fix me #\n",
    "\n",
    "# normalization \n",
    "x_train, x_test = #fix me #\n",
    "\n",
    "# N class\n",
    "n_classes = 10\n",
    "print('image shape : {}, label shape : {} '.format(x_train.shape, y_train.shape))\n",
    "print('image shape : {}, label shape : {} '.format(x_test.shape, y_test.shape))\n",
    "print('train minimun : {}, train_maximum : {} '.format(x_train.min(), x_train.max()))\n",
    "print('tests minimun : {}, test_maximum : {} '.format(x_test.min(), x_test.max()))"
   ]
  },
  {
   "cell_type": "markdown",
   "metadata": {
    "id": "Inb-_UZEUQ_N",
    "colab_type": "text"
   },
   "source": [
    "# DataProvider "
   ]
  },
  {
   "cell_type": "code",
   "execution_count": 0,
   "metadata": {
    "colab_type": "code",
    "id": "JmE4_GikBI6I",
    "colab": {}
   },
   "outputs": [],
   "source": [
    "import numpy as np\n",
    "import random\n",
    "\n",
    "class DataProvider(object):\n",
    "    def __init__(self, images, labels):\n",
    "        #fix me # \n",
    "    def next_batch(self, batch_size):\n",
    "        #fix me #"
   ]
  },
  {
   "cell_type": "markdown",
   "metadata": {
    "colab_type": "text",
    "id": "b0Hku8a98_fo"
   },
   "source": [
    "# Configuration\n",
    "\n",
    "설계한 모델을 표로 작성합니다. \n",
    "\n",
    "- 목표 Receptive Field : ? <br>\n",
    "- Convolution Phase 후  출력 크기  :  ? <br>\n",
    "\n",
    "\n",
    "| 층  | 종류|필터 갯수  | 필터 크기 | 스트라이드 | 패딩   | Dropout | output size |\n",
    "|--- |--- |----|----|----|----|----| ---| \n",
    "| ? |?| ?|? |?  | ? |?| ?|\n",
    "\n",
    "\n",
    "- 모델 설계가 끝나면 간단한 그림을 작성해 아래에 붙여주세요.\n"
   ]
  },
  {
   "cell_type": "markdown",
   "metadata": {
    "id": "TDhKG-rSUQ_P",
    "colab_type": "text"
   },
   "source": [
    "예시1) \n",
    "\n",
    "\n",
    "- 목표 Receptive Field : 28 <br>\n",
    "- Convolution Phase 후  출력 크기  :  4 <br>\n",
    "- Regularization  : L2 \n",
    "- Batch size : 120\n",
    "- Learning rate : 0.0001 \n",
    "- Data normalization : min max normalization \n",
    "- Standardization : None \n",
    "\n",
    "\n",
    "| 층  | 종류|필터 갯수  | 필터 크기 | 스트라이드 | 패딩   | Dropout | output size |\n",
    "|--- |--- |----|----|----|----|----| ---| \n",
    "| c1 |conv| 64| 3x3| 1  | SAME | None| 32x32 |\n",
    "| s2 |max-pooling| None| 3x3| 2  | SAME | None|16x16 | \n",
    "| c3 |conv| 128| 3x3| 2  | SAME |NOne |16x16 | \n",
    "| s4 |max-pooling| None| 3x3| 2  | SAME | None|8 x8 | \n",
    "| c5 |conv| 128| 3x3| 2  | SAME | None |8 x8 | \n",
    "| s6 |conv| 256| 3x3| 2  | SAME | None |4 x 4 | \n",
    "| c7 |conv| 256| 1x1| 2  | SAME | None |4 x 4 | \n",
    "| f8 ||| | FC 256  | |  || \n",
    "| f8 ||| | Dropout 0.7 | |  || \n",
    "| f9 ||| | FC 256  | |  || \n",
    "| f9 ||| | Dropout 0.6 | |  || \n",
    "| f10||| | FC 10   | |  || \n",
    "\n",
    "\n",
    "\n",
    "\n",
    "![Imgur](https://i.imgur.com/yqrIm5u.png)"
   ]
  },
  {
   "cell_type": "markdown",
   "metadata": {
    "id": "Iu2qtnd7UQ_Q",
    "colab_type": "text"
   },
   "source": [
    "# Convolution layer\n",
    "- convolution layer helper function 을 정의합니다.\n",
    "- 위 설계한 convolution layer 을 구현합니다 "
   ]
  },
  {
   "cell_type": "code",
   "execution_count": 0,
   "metadata": {
    "colab_type": "code",
    "id": "Rzr0by6Kyv6J",
    "colab": {}
   },
   "outputs": [],
   "source": [
    "# convolution helper function\n",
    "def conv(input_xs ,units, k, s, padding, activation, name):\n",
    "    #fix me # \n",
    "    return layer"
   ]
  },
  {
   "cell_type": "code",
   "execution_count": 0,
   "metadata": {
    "colab_type": "code",
    "id": "AJcmfqHJ9lLm",
    "outputId": "16aaf8d7-15c0-4e2c-9ae2-1a5575fb3358",
    "colab": {
     "base_uri": "https://localhost:8080/",
     "height": 136.0
    }
   },
   "outputs": [
    {
     "name": "stdout",
     "output_type": "stream",
     "text": [
      "WARNING:tensorflow:From /anaconda/envs/py35/lib/python3.5/site-packages/tensorflow/python/framework/op_def_library.py:263: colocate_with (from tensorflow.python.framework.ops) is deprecated and will be removed in a future version.\n",
      "Instructions for updating:\n",
      "Colocations handled automatically by placer.\n"
     ]
    }
   ],
   "source": [
    "# define input placeholder \n",
    "xs = #fix me #\n",
    "ys = #fix me #\n",
    "lr = #fix me #\n",
    "phase_train = #fix me #\n",
    "\n",
    "# Model implementation \n",
    "# convolution Neural Network \n",
    "# 자신이 설계한 모형을 구현해주세요. \n",
    "layer1 = conv(#fix me #)\n",
    "\n",
    "layer2 = conv(#fix me #)\n",
    "\n",
    "\n",
    "top_conv = tf.identity(#fix me#, 'top_conv') # 마지막 layer 을 top conv 에 넣습니다."
   ]
  },
  {
   "cell_type": "markdown",
   "metadata": {
    "id": "LRukJjRZUQ_V",
    "colab_type": "text"
   },
   "source": [
    "# Fully Connected Layer\n",
    "- 설계한 fully connected layer 을 구현합니다.\n",
    "- dropout 을 적용합니다 "
   ]
  },
  {
   "cell_type": "code",
   "execution_count": 0,
   "metadata": {
    "id": "woNx29qxUQ_V",
    "colab_type": "code",
    "colab": {}
   },
   "outputs": [],
   "source": [
    "def fc(flat_layer, units, activation, initializer, layer_name):\n",
    "    # fix me #\n",
    "    return layer"
   ]
  },
  {
   "cell_type": "code",
   "execution_count": 0,
   "metadata": {
    "id": "7fL1M4gvUQ_X",
    "colab_type": "code",
    "outputId": "eb811aaa-7fa0-419d-ed81-2696d3cc73d4",
    "colab": {}
   },
   "outputs": [
    {
     "name": "stdout",
     "output_type": "stream",
     "text": [
      "WARNING:tensorflow:From <ipython-input-7-130841cc57c1>:3: flatten (from tensorflow.python.layers.core) is deprecated and will be removed in a future version.\n",
      "Instructions for updating:\n",
      "Use keras.layers.flatten instead.\n",
      "WARNING:tensorflow:From <ipython-input-7-130841cc57c1>:8: dropout (from tensorflow.python.layers.core) is deprecated and will be removed in a future version.\n",
      "Instructions for updating:\n",
      "Use keras.layers.dropout instead.\n",
      "WARNING:tensorflow:From /anaconda/envs/py35/lib/python3.5/site-packages/tensorflow/python/keras/layers/core.py:143: calling dropout (from tensorflow.python.ops.nn_ops) with keep_prob is deprecated and will be removed in a future version.\n",
      "Instructions for updating:\n",
      "Please use `rate` instead of `keep_prob`. Rate should be set to `rate = 1 - keep_prob`.\n"
     ]
    }
   ],
   "source": [
    "# flat layer \n",
    "flat_layer = #fix me #\n",
    "\n",
    "# fully connected layer 1\n",
    "fc_initalizer = #fix me #\n",
    "fc_layer_1 = fc(#fix me #)\n",
    "fc_layer_1 = tf.layers.dropout(fc_layer_1, training=phase_train, rate=0.7)\n",
    "\n",
    "# fix me # 자신이 설계한 fully connected layer 을 구현합니다.  \n",
    "    \n",
    "    \n",
    "logits= tf.identity(#fix me#, 'logits')"
   ]
  },
  {
   "cell_type": "markdown",
   "metadata": {
    "id": "o-625ULtUQ_Z",
    "colab_type": "text"
   },
   "source": [
    "#  Loss function \n",
    "- loss function 을 정의합니다. L2 regularization 을 사용합니다 "
   ]
  },
  {
   "cell_type": "code",
   "execution_count": 0,
   "metadata": {
    "id": "lQ2DkXG-UQ_a",
    "colab_type": "code",
    "colab": {}
   },
   "outputs": [],
   "source": [
    "l2_reg = #fix me #\n",
    "l2_beta =#fix me #\n",
    "\n",
    "#loss \n",
    "# L2 reularization \n",
    "loss = #fix me #\n",
    "loss = #fix me #"
   ]
  },
  {
   "cell_type": "markdown",
   "metadata": {
    "id": "6_Oke8OgUQ_e",
    "colab_type": "text"
   },
   "source": [
    "# Metric"
   ]
  },
  {
   "cell_type": "code",
   "execution_count": 0,
   "metadata": {
    "colab_type": "code",
    "id": "-_TMXVtX1pXK",
    "colab": {}
   },
   "outputs": [],
   "source": [
    "# metric\n",
    "logits_cls = tf.cast(logits_cls, dtype=tf.int32)\n",
    "acc = #fix me #"
   ]
  },
  {
   "cell_type": "markdown",
   "metadata": {
    "id": "obfoWSrLUQ_h",
    "colab_type": "text"
   },
   "source": [
    "# Add tensor to Tensorboard "
   ]
  },
  {
   "cell_type": "code",
   "execution_count": 0,
   "metadata": {
    "id": "gqUXVsUTUQ_h",
    "colab_type": "code",
    "colab": {}
   },
   "outputs": [],
   "source": [
    "# add accuracy to tensorboard nodes \n",
    "#fix me #\n",
    "\n",
    "# add loss to tensorboard nodes \n",
    "#fix me #\n",
    "\n",
    "#merge all tensorboard nodes \n",
    "#fix me #"
   ]
  },
  {
   "cell_type": "markdown",
   "metadata": {
    "id": "eGeaVRCOUQ_j",
    "colab_type": "text"
   },
   "source": [
    "# Optimizer "
   ]
  },
  {
   "cell_type": "code",
   "execution_count": 0,
   "metadata": {
    "id": "83C5s7mfUQ_k",
    "colab_type": "code",
    "colab": {}
   },
   "outputs": [],
   "source": [
    "# train_op : adamoptimizer \n",
    "train_op = #fix me #"
   ]
  },
  {
   "cell_type": "markdown",
   "metadata": {
    "colab_type": "text",
    "id": "6N1fBH2BBfX6"
   },
   "source": [
    "# Session open "
   ]
  },
  {
   "cell_type": "code",
   "execution_count": 0,
   "metadata": {
    "colab_type": "code",
    "id": "wiz-2rkLBdTw",
    "colab": {}
   },
   "outputs": [],
   "source": [
    "sess = #fix me #\n",
    "\n",
    "init = #fix me # : globalal initializer \n",
    "sess.run(init)\n",
    "\n",
    "# saver \n",
    "saver = #fix me#"
   ]
  },
  {
   "cell_type": "markdown",
   "metadata": {
    "id": "jFmQDdJDUQ_o",
    "colab_type": "text"
   },
   "source": [
    "# Tensorboard Filewriter "
   ]
  },
  {
   "cell_type": "code",
   "execution_count": 0,
   "metadata": {
    "id": "CPH7CLomUQ_o",
    "colab_type": "code",
    "colab": {}
   },
   "outputs": [],
   "source": [
    "# tensorboard \n",
    "train_writer=#fix me #\n",
    "test_writer=#fix me #"
   ]
  },
  {
   "cell_type": "markdown",
   "metadata": {
    "id": "P88ef2rRUQ_q",
    "colab_type": "text"
   },
   "source": [
    "# Training "
   ]
  },
  {
   "cell_type": "code",
   "execution_count": 0,
   "metadata": {
    "colab_type": "code",
    "id": "yv99AR4A_Y7P",
    "scrolled": true,
    "colab": {}
   },
   "outputs": [],
   "source": [
    "dataprovider = DataProvider(images=x_train, labels=y_train)\n",
    "save_root_folder = #fix me # : models saved folder \n",
    "\n",
    "# hparam \n",
    "batch_size = 100\n",
    "min_loss = 1000000.0\n",
    "learning_rate = 0.0005\n",
    "\n",
    "for i in range(10000):\n",
    "    batch_xs, batch_ys = dataprovider.next_batch(batch_size)\n",
    "    # training \n",
    "    _ = sess.run(#fix me #)\n",
    "    \n",
    "    if i % 100 == 0 :\n",
    "        # Validate validation dataset \n",
    "        fetches=[loss, acc, merged]\n",
    "        val_loss, val_acc, val_merged = sess.run(#fix me#)\n",
    "\n",
    "        # Validate train dataset : extract randomly 10000 samples from train dataset \n",
    "        batch_xs, batch_ys = #fix me #\n",
    "        train_loss, train_acc, train_merged = sess.run(#fix me #)\n",
    "        \n",
    "        print('step : {} train loss : {:.4f} acc : {:.4f} | Val loss : {:.4f} acc : {:.4f}'.\\\n",
    "        format(i, train_loss, train_acc, val_loss, val_acc))\n",
    "\n",
    "        # Save Model \n",
    "        if #fix me # : when val_loss < min_loss \n",
    "            min_loss = val_loss\n",
    "            save_path = #fix me #\n",
    "            saver.save(#fix me#)\n",
    "            print('model save!')\n",
    "            \n",
    "        # Add values to tensorboard \n",
    "        train_writer.add_summary(#fix me #)\n",
    "        test_writer.add_summary(#fix me #)\n",
    "        train_writer.flush()"
   ]
  },
  {
   "cell_type": "markdown",
   "metadata": {
    "colab_type": "text",
    "id": "3IzIVKHoYgiV"
   },
   "source": [
    "<hr>\n",
    "<div style = \"background-image: url('https://algorithmai.io/static/media/logo.665798c4.png');background-repeat: no-repeat; background-position: right; background-size: 220px 40px; padding : 5px 10px 5px 5px;\">\n",
    "    Copyright(c) 2019 by Public AI. All rights reserved.<br>\n",
    "    Writen by PAI, SangJae Kang ( rocketgrowthsj@publicai.co.kr )  last updated on 2019/06/17\n",
    "</div>\n",
    "<hr>"
   ]
  }
 ],
 "metadata": {
  "colab": {
   "name": "배포_Homework_Pretraining.ipynb",
   "version": "0.3.2",
   "provenance": [],
   "collapsed_sections": []
  },
  "kernelspec": {
   "name": "python3",
   "display_name": "Python 3"
  }
 },
 "nbformat": 4,
 "nbformat_minor": 0
}