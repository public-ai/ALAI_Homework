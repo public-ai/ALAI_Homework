{
  "nbformat": 4,
  "nbformat_minor": 0,
  "metadata": {
    "colab": {
      "name": "titanic 데이터셋 EDA.ipynb",
      "version": "0.3.2",
      "provenance": []
    },
    "language_info": {
      "codemirror_mode": {
        "name": "ipython",
        "version": 3
      },
      "file_extension": ".py",
      "mimetype": "text/x-python",
      "name": "python",
      "nbconvert_exporter": "python",
      "pygments_lexer": "ipython3",
      "version": "3.6.5"
    },
    "kernelspec": {
      "display_name": "Python 3",
      "language": "python",
      "name": "python3"
    }
  },
  "cells": [
    {
      "metadata": {
        "id": "yXZw8oObLIn_",
        "colab_type": "text"
      },
      "cell_type": "markdown",
      "source": [
        " ╔══<i><b>&nbsp;Alai-DeepLearning&nbsp;</b></i>══════════════════════════════════╗\n",
        "###  &nbsp;&nbsp; **✎&nbsp;&nbsp;Week 3. Pandas & Matplotlib**\n",
        "# Homework 1. 타이타닉 데이터셋 분석하기\n",
        "\n",
        "### _Objective_\n",
        "1. *앞서 배운 Pandas와 Matplotlib을 실제 데이터셋을 처음부터 끝까지 탐색해보는 과정을 가집니다.* \n",
        "\n",
        "\n",
        "╚═══════════════════════════════════════════════╝"
      ]
    },
    {
      "metadata": {
        "id": "JeeQGYeOLIoB",
        "colab_type": "code",
        "colab": {}
      },
      "cell_type": "code",
      "source": [
        "%matplotlib inline  \n",
        "import matplotlib.pyplot as plt  \n",
        "\n",
        "import pandas as pd\n",
        "import numpy as np"
      ],
      "execution_count": 0,
      "outputs": []
    },
    {
      "metadata": {
        "id": "kVw7c84wLIoE",
        "colab_type": "text"
      },
      "cell_type": "markdown",
      "source": [
        "# \\[ 타이타닉 데이터셋 탐색하기\\]\n",
        "---\n",
        "\n",
        "---\n",
        "\n",
        "> * 출처 : [캐글 타이타닉 데이터셋](https://www.kaggle.com/hesh97/titanicdataset-traincsv#train.csv) <br>\n",
        "> * _내용 : 타이타닉 호에 탔던 탑승객들의 생존 유무에 대한 내용_ <br>\n",
        "> * _지표 : 이름, 성별, 나이, 티켓 종류 등 12컬럼 존재_ <br>\n",
        "\n",
        "|변수명 | 변수명 설명|\n",
        "|----|----|\n",
        "| survival | 생존 유무(0=사망, 1=생존) |\n",
        "| pclass | 탑승객 클래스(1=1st, 2=2nd, 3=3rd) |\n",
        "| name | 탑승객 이름 |\n",
        "| sex  | 성별 |\n",
        "| age | 나이 |\n",
        "| sibsp | 동승한 형제/배우자 수 |\n",
        "| parch | 동승한 부모/자녀 수 |\n",
        "| ticket | 티켓 번호 |\n",
        "| fare   | 운임비 |\n",
        "| cabin | 선실 |\n",
        "| embarked | 승선한 항구 이름 (C=Cherbourg; Q=Queenstown; S=southampton) |\n"
      ]
    },
    {
      "metadata": {
        "id": "IKgWS8cyLIoF",
        "colab_type": "text"
      },
      "cell_type": "markdown",
      "source": [
        "## (1)  Pandas를 통해 데이터 읽어오기"
      ]
    },
    {
      "metadata": {
        "id": "00sOe0c2LIoG",
        "colab_type": "code",
        "colab": {},
        "outputId": "9b7c9c6f-03da-4b98-d8e9-13b182296d41"
      },
      "cell_type": "code",
      "source": [
        "!wget https://s3.ap-northeast-2.amazonaws.com/pai-datasets/alai-deeplearning/titanic_dataset.csv\n",
        "df = pd.read_csv(\"./titanic_dataset.csv\")"
      ],
      "execution_count": 0,
      "outputs": [
        {
          "output_type": "stream",
          "text": [
            "--2019-04-09 13:44:58--  https://s3.ap-northeast-2.amazonaws.com/pai-datasets/alai-deeplearning/titanic_dataset.csv\n",
            "Resolving s3.ap-northeast-2.amazonaws.com (s3.ap-northeast-2.amazonaws.com)... 52.219.58.113\n",
            "Connecting to s3.ap-northeast-2.amazonaws.com (s3.ap-northeast-2.amazonaws.com)|52.219.58.113|:443... connected.\n",
            "HTTP request sent, awaiting response... 200 OK\n",
            "Length: 61194 (60K) [text/csv]\n",
            "Saving to: ‘titanic_dataset.csv’\n",
            "\n",
            "titanic_dataset.csv 100%[===================>]  59.76K  --.-KB/s    in 0.002s  \n",
            "\n",
            "2019-04-09 13:44:58 (26.9 MB/s) - ‘titanic_dataset.csv’ saved [61194/61194]\n",
            "\n"
          ],
          "name": "stdout"
        }
      ]
    },
    {
      "metadata": {
        "id": "AlbKekuYLIoK",
        "colab_type": "text"
      },
      "cell_type": "markdown",
      "source": [
        "## (2) 각 열 별로 얼마나 결측(missing value)되어 있는지 확인하기\n",
        "\n",
        "현재 타이타닉 생존 데이터셋에는 일부 값들이 결측되어 있다. 각 Feature(열) 별로 몇 개가 결측되어 있는지를 확인해보자."
      ]
    },
    {
      "metadata": {
        "id": "RvB7_-_cLIoL",
        "colab_type": "code",
        "colab": {}
      },
      "cell_type": "code",
      "source": [
        "# 정답을 입력해 주세요!\n"
      ],
      "execution_count": 0,
      "outputs": []
    },
    {
      "metadata": {
        "id": "VcvV6HUNLIoN",
        "colab_type": "text"
      },
      "cell_type": "markdown",
      "source": [
        "정답은 아래와 같습니다. 데이터프레임으로 가져와 주세요!\n",
        "\n",
        "| 컬럼이름 |PassenegerId| Survived | Pclass | Name | Sex | Age | SibSp | Parch | Ticket | Fare | Cabin | Embarked |\n",
        "| ---- | ---- | ---- | ---- | ---- | ---- | ---- | ---- | ---- | ---- | ---- | ---- | ---- |\n",
        "| 결측 갯수 | 0 | 0 | 0 | 0 | 0 | 177 | 0 | 0 | 0 | 0 | 687 | 2 |"
      ]
    },
    {
      "metadata": {
        "id": "ixkBID_TLIoN",
        "colab_type": "text"
      },
      "cell_type": "markdown",
      "source": [
        "## (2) 생존자 수 확인\n",
        "\n",
        "데이터 내에 몇 명이 생존했고, 몇 명이 사망했는지를 확인해보자."
      ]
    },
    {
      "metadata": {
        "id": "g5qL1_Q-LIoO",
        "colab_type": "code",
        "colab": {}
      },
      "cell_type": "code",
      "source": [
        "# 정답을 입력해 주세요!\n"
      ],
      "execution_count": 0,
      "outputs": []
    },
    {
      "metadata": {
        "id": "rH2UadY1LIoQ",
        "colab_type": "text"
      },
      "cell_type": "markdown",
      "source": [
        "정답은 아래와 같습니다. 데이터프레임으로 가져와 주세요!\n",
        "\n",
        "| 생존 유무 | 값 |\n",
        "| ------- | --- |\n",
        "|  사망 | 549 |\n",
        "| 생존 | 342 |"
      ]
    },
    {
      "metadata": {
        "id": "_V1kv4uCLIoR",
        "colab_type": "text"
      },
      "cell_type": "markdown",
      "source": [
        "## (3) 연령 추론\n",
        "\n",
        "타이타닉 내 승객 이름에는 Title이 들어갑니다. 나이 정보가 없을 경우, 이 Title에 따라 대략적인 나이를 추론할 수 있습니다. 이번에는 각 `Name` 컬럼에서 Title을 추출 후, Title 별로 평균 나이가 어떻게 되는지 확인해 주세요.\n",
        "\n",
        "| default Title | 의미 |\n",
        "| ---- | ---- |\n",
        "| Mr   | Adult man (regardless of marital status) |\n",
        "| Mrs  | Adult woman (usually just for married women, widows, and divorcees) |\n",
        "| Ms | Adult woman (regardless of marital status) |\n",
        "| Miss | Formal title for unmarried women and for female children |\n",
        "| Master | For male children: Young boys were formerly addressed as \"Master [first name].\" This was the standard form for servants to use in addressing their employer's minor sons. It is also the courtesy title for the eldest son of a Scottish laird. |\n",
        "| Maid | Archaic: When used as a title before a name (and not as a general term for a young domestic worker housemaid girl), this was a way to denote an unmarried woman, such as the character Maid Marian. |\n",
        "| Madam | Adult Woman |\n",
        "| Don | master of a household |\n",
        "| Rev | Reverend |\n",
        "| Dr | Docter |\n",
        "| Capt | Captain |"
      ]
    },
    {
      "metadata": {
        "id": "BbWL3quiLIoS",
        "colab_type": "code",
        "colab": {}
      },
      "cell_type": "code",
      "source": [
        "# 정답을 입력해 주세요!\n"
      ],
      "execution_count": 0,
      "outputs": []
    },
    {
      "metadata": {
        "id": "h5PWAMP2LIoU",
        "colab_type": "text"
      },
      "cell_type": "markdown",
      "source": [
        "정답은 아래와 같습니다. 데이터프레임으로 가져와 주세요!\n",
        "\n",
        "| Title Type | 없음 | capt | don | dr | maid | master | miss | mr | mrs | ms | rev |\n",
        "| --- | --- | --- | --- | --- | --- | --- | --- | --- | --- | --- | --- |\n",
        "| 평균 연령  | 41.5 | 70 | 40 | 42 | 41 | 4.57| 21.77 | 32.43 | 35.69 | 33.19 | 43.17 |"
      ]
    },
    {
      "metadata": {
        "id": "NcwtdERvLIoU",
        "colab_type": "text"
      },
      "cell_type": "markdown",
      "source": [
        "## (4) 나이 분포도 확인\n",
        "\n",
        "탑승객들의 나이가 어떤식으로 분포되어 있는지 확인해보자. "
      ]
    },
    {
      "metadata": {
        "id": "1TtdN-gvLIoV",
        "colab_type": "code",
        "colab": {},
        "outputId": "8463cc38-fed4-4865-c013-37403d1be20b"
      },
      "cell_type": "code",
      "source": [
        "df.plot(y='Age',kind='hist')"
      ],
      "execution_count": 0,
      "outputs": [
        {
          "output_type": "execute_result",
          "data": {
            "text/plain": [
              "<matplotlib.axes._subplots.AxesSubplot at 0x10509c8d0>"
            ]
          },
          "metadata": {
            "tags": []
          },
          "execution_count": 10
        },
        {
          "output_type": "display_data",
          "data": {
            "image/png": "[encoded data removed]",
            "text/plain": [
              "<Figure size 432x288 with 1 Axes>"
            ]
          },
          "metadata": {
            "tags": []
          }
        }
      ]
    },
    {
      "metadata": {
        "id": "OIxdI3QPLIoY",
        "colab_type": "code",
        "colab": {}
      },
      "cell_type": "code",
      "source": [
        "# 정답을 입력해 주세요!\n"
      ],
      "execution_count": 0,
      "outputs": []
    },
    {
      "metadata": {
        "id": "5igzgBnzLIob",
        "colab_type": "text"
      },
      "cell_type": "markdown",
      "source": [
        "분포도는 아래와 같습니다. matplotlib과 pandas를 이용해 시각화해주세요!\n",
        "\n",
        "![Imgur](https://i.imgur.com/jM0GcWy.png)"
      ]
    },
    {
      "metadata": {
        "id": "SCcXGb9jLIoc",
        "colab_type": "text"
      },
      "cell_type": "markdown",
      "source": [
        "## (5) 성별에 따른 생존율 비교\n",
        "\n",
        "타이타닉 영화에서처럼, 실제로 승객들이 여성을 우선 생존시키려고 하는지 확인해 보자."
      ]
    },
    {
      "metadata": {
        "id": "XFUxJyxMLIoc",
        "colab_type": "code",
        "colab": {}
      },
      "cell_type": "code",
      "source": [
        "# 정답을 입력해주세요 \n"
      ],
      "execution_count": 0,
      "outputs": []
    },
    {
      "metadata": {
        "id": "VWHZL7T-LIoe",
        "colab_type": "text"
      },
      "cell_type": "markdown",
      "source": [
        "남녀에 따른 생존 사망 숫자는 아래와 같습니다.\n",
        "\n",
        "|     | 생존 | 사망 |\n",
        "| --- | --- | --- |\n",
        "| 여자 | 233 | 81  |\n",
        "| 남자 | 109 | 468 |\n",
        "\n",
        "\n",
        "아래와 같이 바 그래프로 비교해주세요\n",
        "![Imgur](https://i.imgur.com/1DurUcW.png)"
      ]
    },
    {
      "metadata": {
        "id": "5sDQFHGaLIoe",
        "colab_type": "text"
      },
      "cell_type": "markdown",
      "source": [
        "## (6) 연령에 따른 생존율 비교\n",
        "\n",
        "10대, 20대, 30대 등 연령 대별로 생존율이 어떻게 달라지는 지 확인해보자. "
      ]
    },
    {
      "metadata": {
        "id": "3KGv0ADOLIof",
        "colab_type": "code",
        "colab": {}
      },
      "cell_type": "code",
      "source": [
        "# 정답을 입력해 주세요!\n"
      ],
      "execution_count": 0,
      "outputs": []
    },
    {
      "metadata": {
        "id": "aaOvfzOvLIoh",
        "colab_type": "text"
      },
      "cell_type": "markdown",
      "source": [
        "연령대별 생존자수와 사망자수는 아래와 같습니다.\n",
        "\n",
        "|연령대|생존자수|사망자수|\n",
        "|---|---|---|\n",
        "|10대미만|38|24|\n",
        "|10대|41|61|\n",
        "|20대|77|143|\n",
        "|30대|73|94|\n",
        "|40대|34|55|\n",
        "|50대|20|28|\n",
        "|60대|6 |13|\n",
        "|70대|0 |6|\n",
        "|80대|1 |0|\n",
        "\n",
        "아래와 같이 바그래프로 나타내주세요.\n",
        "![Imgur](https://i.imgur.com/VP6gsLH.png)"
      ]
    },
    {
      "metadata": {
        "id": "OGDCLZ-aLIoi",
        "colab_type": "text"
      },
      "cell_type": "markdown",
      "source": [
        "## (7) 각 Feature 간 상관계수 구하고, 생존에 가장 직결된 요소 파악하기\n",
        "\n",
        "피어슨 상관계수는 두 변수 간에 어떤 관계를 갖고 있는지를 분석하는 방법입니다. 강한 선형관계를 가질수록 1 혹은 -1로 치중되고, 아니면 0에 수렴됩니다. 높은 상관계수를 가지는 요소를 파악해봅시다.\n",
        "\n",
        "* hint 1) 상관계수 구하기\n",
        "  `df.corr()`을 통해 쉽게 변수 간 상관관계를 구할 수 있습니다.\n",
        "  \n",
        "* hint 2) heatmap 그리기\n",
        "````python\n",
        "import seaborn as sns\n",
        "sns.heatmap(<dataframe>, annot=True, cbar=True)\n",
        "````\n",
        "를 통해 쉽게 heatmap을 구할 수 있습니다."
      ]
    },
    {
      "metadata": {
        "id": "RMLDWmlGLIoi",
        "colab_type": "code",
        "colab": {}
      },
      "cell_type": "code",
      "source": [
        "# 정답을 입력해 주세요\n"
      ],
      "execution_count": 0,
      "outputs": []
    },
    {
      "metadata": {
        "id": "6En24Sk9LIok",
        "colab_type": "text"
      },
      "cell_type": "markdown",
      "source": [
        "아래와 같은 heatmap을 그려주세요!\n",
        "\n",
        "![Imgur](https://i.imgur.com/2VPqxmV.png)"
      ]
    },
    {
      "metadata": {
        "id": "-P5cAtDALIol",
        "colab_type": "text"
      },
      "cell_type": "markdown",
      "source": [
        "#  \n",
        "\n",
        "---\n",
        "\n",
        "    Copyright(c) 2019 by Public AI. All rights reserved.\n",
        "    Writen by PAI, SangJae Kang ( rocketgrowthsj@publicai.co.kr )  last updated on 2019/03/04\n",
        "\n",
        "---"
      ]
    }
  ]
}